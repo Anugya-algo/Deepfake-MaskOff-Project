{
 "cells": [
  {
   "cell_type": "code",
   "execution_count": null,
   "id": "2b7ef563",
   "metadata": {},
   "outputs": [
    {
     "name": "stdout",
     "output_type": "stream",
     "text": [
      "^C\n",
      "Requirement already satisfied: opencv-python in c:\\users\\finda\\downloads\\deepfake_dataset\\new\\lib\\site-packages (4.11.0.86)\n",
      "Requirement already satisfied: mediapipe in c:\\users\\finda\\downloads\\deepfake_dataset\\new\\lib\\site-packages (0.10.21)\n",
      "Requirement already satisfied: scikit-learn in c:\\users\\finda\\downloads\\deepfake_dataset\\new\\lib\\site-packages (1.6.1)\n",
      "Requirement already satisfied: matplotlib in c:\\users\\finda\\downloads\\deepfake_dataset\\new\\lib\\site-packages (3.10.3)\n",
      "Requirement already satisfied: seaborn in c:\\users\\finda\\downloads\\deepfake_dataset\\new\\lib\\site-packages (0.13.2)\n",
      "Requirement already satisfied: pandas in c:\\users\\finda\\downloads\\deepfake_dataset\\new\\lib\\site-packages (2.2.3)\n",
      "Requirement already satisfied: numpy in c:\\users\\finda\\downloads\\deepfake_dataset\\new\\lib\\site-packages (1.26.4)\n",
      "Requirement already satisfied: tqdm in c:\\users\\finda\\downloads\\deepfake_dataset\\new\\lib\\site-packages (4.67.1)\n",
      "Requirement already satisfied: pathlib in c:\\users\\finda\\downloads\\deepfake_dataset\\new\\lib\\site-packages (1.0.1)\n",
      "Requirement already satisfied: absl-py in c:\\users\\finda\\downloads\\deepfake_dataset\\new\\lib\\site-packages (from mediapipe) (2.2.2)\n",
      "Requirement already satisfied: attrs>=19.1.0 in c:\\users\\finda\\downloads\\deepfake_dataset\\new\\lib\\site-packages (from mediapipe) (25.3.0)\n",
      "Requirement already satisfied: flatbuffers>=2.0 in c:\\users\\finda\\downloads\\deepfake_dataset\\new\\lib\\site-packages (from mediapipe) (25.2.10)\n",
      "Requirement already satisfied: jax in c:\\users\\finda\\downloads\\deepfake_dataset\\new\\lib\\site-packages (from mediapipe) (0.6.1)\n",
      "Requirement already satisfied: jaxlib in c:\\users\\finda\\downloads\\deepfake_dataset\\new\\lib\\site-packages (from mediapipe) (0.6.1)\n",
      "Requirement already satisfied: opencv-contrib-python in c:\\users\\finda\\downloads\\deepfake_dataset\\new\\lib\\site-packages (from mediapipe) (4.11.0.86)\n",
      "Requirement already satisfied: protobuf<5,>=4.25.3 in c:\\users\\finda\\downloads\\deepfake_dataset\\new\\lib\\site-packages (from mediapipe) (4.25.7)\n",
      "Requirement already satisfied: sounddevice>=0.4.4 in c:\\users\\finda\\downloads\\deepfake_dataset\\new\\lib\\site-packages (from mediapipe) (0.5.2)\n",
      "Requirement already satisfied: sentencepiece in c:\\users\\finda\\downloads\\deepfake_dataset\\new\\lib\\site-packages (from mediapipe) (0.2.0)\n",
      "Requirement already satisfied: scipy>=1.6.0 in c:\\users\\finda\\downloads\\deepfake_dataset\\new\\lib\\site-packages (from scikit-learn) (1.15.3)\n",
      "Requirement already satisfied: joblib>=1.2.0 in c:\\users\\finda\\downloads\\deepfake_dataset\\new\\lib\\site-packages (from scikit-learn) (1.5.1)\n",
      "Requirement already satisfied: threadpoolctl>=3.1.0 in c:\\users\\finda\\downloads\\deepfake_dataset\\new\\lib\\site-packages (from scikit-learn) (3.6.0)\n",
      "Requirement already satisfied: contourpy>=1.0.1 in c:\\users\\finda\\downloads\\deepfake_dataset\\new\\lib\\site-packages (from matplotlib) (1.3.2)\n",
      "Requirement already satisfied: cycler>=0.10 in c:\\users\\finda\\downloads\\deepfake_dataset\\new\\lib\\site-packages (from matplotlib) (0.12.1)\n",
      "Requirement already satisfied: fonttools>=4.22.0 in c:\\users\\finda\\downloads\\deepfake_dataset\\new\\lib\\site-packages (from matplotlib) (4.58.0)\n",
      "Requirement already satisfied: kiwisolver>=1.3.1 in c:\\users\\finda\\downloads\\deepfake_dataset\\new\\lib\\site-packages (from matplotlib) (1.4.8)\n",
      "Requirement already satisfied: packaging>=20.0 in c:\\users\\finda\\downloads\\deepfake_dataset\\new\\lib\\site-packages (from matplotlib) (25.0)\n",
      "Requirement already satisfied: pillow>=8 in c:\\users\\finda\\downloads\\deepfake_dataset\\new\\lib\\site-packages (from matplotlib) (11.0.0)\n",
      "Requirement already satisfied: pyparsing>=2.3.1 in c:\\users\\finda\\downloads\\deepfake_dataset\\new\\lib\\site-packages (from matplotlib) (3.2.3)\n",
      "Requirement already satisfied: python-dateutil>=2.7 in c:\\users\\finda\\downloads\\deepfake_dataset\\new\\lib\\site-packages (from matplotlib) (2.9.0.post0)\n",
      "Requirement already satisfied: pytz>=2020.1 in c:\\users\\finda\\downloads\\deepfake_dataset\\new\\lib\\site-packages (from pandas) (2025.2)\n",
      "Requirement already satisfied: tzdata>=2022.7 in c:\\users\\finda\\downloads\\deepfake_dataset\\new\\lib\\site-packages (from pandas) (2025.2)\n",
      "Requirement already satisfied: colorama in c:\\users\\finda\\downloads\\deepfake_dataset\\new\\lib\\site-packages (from tqdm) (0.4.6)\n",
      "Requirement already satisfied: six>=1.5 in c:\\users\\finda\\downloads\\deepfake_dataset\\new\\lib\\site-packages (from python-dateutil>=2.7->matplotlib) (1.17.0)\n",
      "Requirement already satisfied: CFFI>=1.0 in c:\\users\\finda\\downloads\\deepfake_dataset\\new\\lib\\site-packages (from sounddevice>=0.4.4->mediapipe) (1.17.1)\n",
      "Requirement already satisfied: ml_dtypes>=0.5.0 in c:\\users\\finda\\downloads\\deepfake_dataset\\new\\lib\\site-packages (from jax->mediapipe) (0.5.1)\n",
      "Requirement already satisfied: opt_einsum in c:\\users\\finda\\downloads\\deepfake_dataset\\new\\lib\\site-packages (from jax->mediapipe) (3.4.0)\n",
      "Requirement already satisfied: pycparser in c:\\users\\finda\\downloads\\deepfake_dataset\\new\\lib\\site-packages (from CFFI>=1.0->sounddevice>=0.4.4->mediapipe) (2.22)\n"
     ]
    },
    {
     "name": "stderr",
     "output_type": "stream",
     "text": [
      "\n",
      "[notice] A new release of pip available: 22.3 -> 25.1.1\n",
      "[notice] To update, run: python.exe -m pip install --upgrade pip\n"
     ]
    },
    {
     "name": "stdout",
     "output_type": "stream",
     "text": [
      "Collecting dlib\n",
      "  Using cached dlib-19.24.9.tar.gz (3.4 MB)\n",
      "  Preparing metadata (setup.py): started\n",
      "  Preparing metadata (setup.py): finished with status 'done'\n",
      "Installing collected packages: dlib\n",
      "  Running setup.py install for dlib: started\n",
      "  Running setup.py install for dlib: finished with status 'error'\n"
     ]
    },
    {
     "name": "stderr",
     "output_type": "stream",
     "text": [
      "  DEPRECATION: dlib is being installed using the legacy 'setup.py install' method, because it does not have a 'pyproject.toml' and the 'wheel' package is not installed. pip 23.1 will enforce this behaviour change. A possible replacement is to enable the '--use-pep517' option. Discussion can be found at https://github.com/pypa/pip/issues/8559\n",
      "  error: subprocess-exited-with-error\n",
      "  \n",
      "  × Running setup.py install for dlib did not run successfully.\n",
      "  │ exit code: 1\n",
      "  ╰─> [43 lines of output]\n",
      "      running install\n",
      "      C:\\Users\\finda\\Downloads\\deepfake_dataset\\new\\Lib\\site-packages\\setuptools\\command\\install.py:34: SetuptoolsDeprecationWarning: setup.py install is deprecated. Use build and pip and other standards-based tools.\n",
      "        warnings.warn(\n",
      "      running build\n",
      "      running build_ext\n",
      "      \n",
      "      ================================================================================\n",
      "      ================================================================================\n",
      "      ================================================================================\n",
      "      \n",
      "                         CMake is not installed on your system!\n",
      "      \n",
      "          Or it is possible some broken copy of cmake is installed on your system.\n",
      "          It is unfortunately very common for python package managers to include\n",
      "          broken copies of cmake.  So if the error above this refers to some file\n",
      "          path to a cmake file inside a python or anaconda or miniconda path then you\n",
      "          should delete that broken copy of cmake from your computer.\n",
      "      \n",
      "          Instead, please get an official copy of cmake from one of these known good\n",
      "          sources of an official cmake:\n",
      "              - cmake.org (this is how windows users should get cmake)\n",
      "              - apt install cmake (for Ubuntu or Debian based systems)\n",
      "              - yum install cmake (for Redhat or CenOS based systems)\n",
      "      \n",
      "          On a linux machine you can run `which cmake` to see what cmake you are\n",
      "          actually using.  If it tells you it's some cmake from any kind of python\n",
      "          packager delete it and install an official cmake.\n",
      "      \n",
      "          More generally, cmake is not installed if when you open a terminal window\n",
      "          and type\n",
      "             cmake --version\n",
      "          you get an error.  So you can use that as a very basic test to see if you\n",
      "          have cmake installed.  That is, if cmake --version doesn't run from the\n",
      "          same terminal window from which you are reading this error message, then\n",
      "          you have not installed cmake.  Windows users should take note that they\n",
      "          need to tell the cmake installer to add cmake to their PATH.  Since you\n",
      "          can't run commands that are not in your PATH.  This is how the PATH works\n",
      "          on Linux as well, but failing to add cmake to the PATH is a particularly\n",
      "          common problem on windows and rarely a problem on Linux.\n",
      "      \n",
      "      ================================================================================\n",
      "      ================================================================================\n",
      "      ================================================================================\n",
      "      [end of output]\n",
      "  \n",
      "  note: This error originates from a subprocess, and is likely not a problem with pip.\n",
      "error: legacy-install-failure\n",
      "\n",
      "× Encountered error while trying to install package.\n",
      "╰─> dlib\n",
      "\n",
      "note: This is an issue with the package mentioned above, not pip.\n",
      "hint: See above for output from the failure.\n",
      "\n",
      "[notice] A new release of pip available: 22.3 -> 25.1.1\n",
      "[notice] To update, run: python.exe -m pip install --upgrade pip\n"
     ]
    },
    {
     "name": "stdout",
     "output_type": "stream",
     "text": [
      "Looking in indexes: https://download.pytorch.org/whl/cu118\n",
      "Collecting torch\n",
      "  Obtaining dependency information for torch from https://download.pytorch.org/whl/cu118/torch-2.7.0%2Bcu118-cp311-cp311-win_amd64.whl.metadata\n",
      "  Using cached https://download.pytorch.org/whl/cu118/torch-2.7.0%2Bcu118-cp311-cp311-win_amd64.whl.metadata (29 kB)\n",
      "Collecting torchvision\n",
      "  Obtaining dependency information for torchvision from https://download.pytorch.org/whl/cu118/torchvision-0.22.0%2Bcu118-cp311-cp311-win_amd64.whl.metadata\n",
      "  Downloading https://download.pytorch.org/whl/cu118/torchvision-0.22.0%2Bcu118-cp311-cp311-win_amd64.whl.metadata (6.3 kB)\n",
      "Collecting torchaudio\n",
      "  Obtaining dependency information for torchaudio from https://download.pytorch.org/whl/cu118/torchaudio-2.7.0%2Bcu118-cp311-cp311-win_amd64.whl.metadata\n",
      "  Downloading https://download.pytorch.org/whl/cu118/torchaudio-2.7.0%2Bcu118-cp311-cp311-win_amd64.whl.metadata (6.8 kB)\n",
      "Collecting filelock\n",
      "  Obtaining dependency information for filelock from https://download.pytorch.org/whl/filelock-3.13.1-py3-none-any.whl.metadata\n",
      "  Using cached https://download.pytorch.org/whl/filelock-3.13.1-py3-none-any.whl.metadata (2.8 kB)\n",
      "Collecting typing-extensions>=4.10.0\n",
      "  Obtaining dependency information for typing-extensions>=4.10.0 from https://download.pytorch.org/whl/typing_extensions-4.12.2-py3-none-any.whl.metadata\n",
      "  Using cached https://download.pytorch.org/whl/typing_extensions-4.12.2-py3-none-any.whl.metadata (3.0 kB)\n",
      "Discarding https://download.pytorch.org/whl/typing_extensions-4.12.2-py3-none-any.whl#sha256=04e5ca0351e0f3f85c6853954072df659d0d13fac324d0072316b67d7794700d (from https://download.pytorch.org/whl/cu118/typing-extensions/): Requested typing-extensions>=4.10.0 from https://download.pytorch.org/whl/typing_extensions-4.12.2-py3-none-any.whl#sha256=04e5ca0351e0f3f85c6853954072df659d0d13fac324d0072316b67d7794700d (from torch) has inconsistent Name: expected 'typing-extensions', but metadata has 'typing_extensions'\n",
      "Collecting torch\n",
      "  Obtaining dependency information for torch from https://download.pytorch.org/whl/cu118/torch-2.6.0%2Bcu118-cp311-cp311-win_amd64.whl.metadata\n",
      "  Using cached https://download.pytorch.org/whl/cu118/torch-2.6.0%2Bcu118-cp311-cp311-win_amd64.whl.metadata (28 kB)\n",
      "  Downloading https://download.pytorch.org/whl/cu118/torch-2.5.1%2Bcu118-cp311-cp311-win_amd64.whl (2700.2 MB)\n",
      "     ---------------------------------------- 2.7/2.7 GB 602.2 kB/s eta 0:00:00\n",
      "Collecting typing-extensions>=4.8.0\n",
      "  Using cached https://download.pytorch.org/whl/typing_extensions-4.9.0-py3-none-any.whl (32 kB)\n",
      "Collecting networkx\n",
      "  Obtaining dependency information for networkx from https://download.pytorch.org/whl/networkx-3.3-py3-none-any.whl.metadata\n",
      "  Using cached https://download.pytorch.org/whl/networkx-3.3-py3-none-any.whl.metadata (5.1 kB)\n",
      "Collecting jinja2\n",
      "  Obtaining dependency information for jinja2 from https://download.pytorch.org/whl/Jinja2-3.1.4-py3-none-any.whl.metadata\n",
      "  Using cached https://download.pytorch.org/whl/Jinja2-3.1.4-py3-none-any.whl.metadata (2.6 kB)\n",
      "Discarding https://download.pytorch.org/whl/Jinja2-3.1.4-py3-none-any.whl#sha256=bc5dd2abb727a5319567b7a813e6a2e7318c39f4f487cfe6c89c6f9c7d25197d (from https://download.pytorch.org/whl/cu118/jinja2/): Requested jinja2 from https://download.pytorch.org/whl/Jinja2-3.1.4-py3-none-any.whl#sha256=bc5dd2abb727a5319567b7a813e6a2e7318c39f4f487cfe6c89c6f9c7d25197d (from torch) has inconsistent Name: expected 'jinja2', but metadata has 'Jinja2'\n",
      "  Using cached https://download.pytorch.org/whl/Jinja2-3.1.3-py3-none-any.whl (133 kB)\n",
      "Collecting fsspec\n",
      "  Obtaining dependency information for fsspec from https://download.pytorch.org/whl/fsspec-2024.6.1-py3-none-any.whl.metadata\n",
      "  Using cached https://download.pytorch.org/whl/fsspec-2024.6.1-py3-none-any.whl.metadata (11 kB)\n",
      "Collecting sympy==1.13.1\n",
      "  Using cached https://download.pytorch.org/whl/sympy-1.13.1-py3-none-any.whl (6.2 MB)\n",
      "Collecting mpmath<1.4,>=1.1.0\n",
      "  Using cached https://download.pytorch.org/whl/mpmath-1.3.0-py3-none-any.whl (536 kB)\n",
      "Collecting numpy\n",
      "  Obtaining dependency information for numpy from https://download.pytorch.org/whl/numpy-2.1.2-cp311-cp311-win_amd64.whl.metadata\n",
      "  Using cached https://download.pytorch.org/whl/numpy-2.1.2-cp311-cp311-win_amd64.whl.metadata (59 kB)\n",
      "Collecting pillow!=8.3.*,>=5.3.0\n",
      "  Obtaining dependency information for pillow!=8.3.*,>=5.3.0 from https://download.pytorch.org/whl/pillow-11.0.0-cp311-cp311-win_amd64.whl.metadata\n",
      "  Using cached https://download.pytorch.org/whl/pillow-11.0.0-cp311-cp311-win_amd64.whl.metadata (9.3 kB)\n",
      "INFO: pip is looking at multiple versions of torchvision to determine which version is compatible with other requirements. This could take a while.\n",
      "Collecting torchvision\n",
      "  Obtaining dependency information for torchvision from https://download.pytorch.org/whl/cu118/torchvision-0.21.0%2Bcu118-cp311-cp311-win_amd64.whl.metadata\n",
      "  Downloading https://download.pytorch.org/whl/cu118/torchvision-0.21.0%2Bcu118-cp311-cp311-win_amd64.whl.metadata (6.3 kB)\n",
      "  Downloading https://download.pytorch.org/whl/cu118/torchvision-0.20.1%2Bcu118-cp311-cp311-win_amd64.whl (5.3 MB)\n",
      "     ---------------------------------------- 5.3/5.3 MB 4.0 MB/s eta 0:00:00\n",
      "Collecting torchaudio\n",
      "  Obtaining dependency information for torchaudio from https://download.pytorch.org/whl/cu118/torchaudio-2.6.0%2Bcu118-cp311-cp311-win_amd64.whl.metadata\n",
      "  Downloading https://download.pytorch.org/whl/cu118/torchaudio-2.6.0%2Bcu118-cp311-cp311-win_amd64.whl.metadata (6.8 kB)\n",
      "  Downloading https://download.pytorch.org/whl/cu118/torchaudio-2.5.1%2Bcu118-cp311-cp311-win_amd64.whl (4.0 MB)\n",
      "     ---------------------------------------- 4.0/4.0 MB 4.1 MB/s eta 0:00:00\n",
      "Collecting MarkupSafe>=2.0\n",
      "  Using cached https://download.pytorch.org/whl/MarkupSafe-2.1.5-cp311-cp311-win_amd64.whl (17 kB)\n",
      "Using cached https://download.pytorch.org/whl/pillow-11.0.0-cp311-cp311-win_amd64.whl (2.6 MB)\n",
      "Using cached https://download.pytorch.org/whl/filelock-3.13.1-py3-none-any.whl (11 kB)\n",
      "Using cached https://download.pytorch.org/whl/fsspec-2024.6.1-py3-none-any.whl (177 kB)\n",
      "Using cached https://download.pytorch.org/whl/networkx-3.3-py3-none-any.whl (1.7 MB)\n",
      "Using cached https://download.pytorch.org/whl/numpy-2.1.2-cp311-cp311-win_amd64.whl (12.9 MB)\n",
      "Using cached https://download.pytorch.org/whl/pillow-11.0.0-cp311-cp311-win_amd64.whl (2.6 MB)\n",
      "Using cached https://download.pytorch.org/whl/filelock-3.13.1-py3-none-any.whl (11 kB)\n",
      "Using cached https://download.pytorch.org/whl/fsspec-2024.6.1-py3-none-any.whl (177 kB)\n",
      "Using cached https://download.pytorch.org/whl/networkx-3.3-py3-none-any.whl (1.7 MB)\n",
      "Using cached https://download.pytorch.org/whl/numpy-2.1.2-cp311-cp311-win_amd64.whl (12.9 MB)\n",
      "Installing collected packages: mpmath, typing-extensions, sympy, pillow, numpy, networkx, MarkupSafe, fsspec, filelock, jinja2, torch, torchvision, torchaudio\n",
      "  Attempting uninstall: mpmath\n",
      "    Found existing installation: mpmath 1.3.0\n",
      "    Uninstalling mpmath-1.3.0:\n",
      "      Successfully uninstalled mpmath-1.3.0\n",
      "  Attempting uninstall: typing-extensions\n",
      "    Found existing installation: typing_extensions 4.9.0\n",
      "    Uninstalling typing_extensions-4.9.0:\n",
      "      Successfully uninstalled typing_extensions-4.9.0\n",
      "  Attempting uninstall: sympy\n",
      "    Found existing installation: sympy 1.13.1\n",
      "    Uninstalling sympy-1.13.1:\n",
      "      Successfully uninstalled sympy-1.13.1\n",
      "  Attempting uninstall: pillow\n",
      "    Found existing installation: pillow 11.0.0\n",
      "    Uninstalling pillow-11.0.0:\n",
      "      Successfully uninstalled pillow-11.0.0\n",
      "  Attempting uninstall: numpy\n",
      "    Found existing installation: numpy 1.26.4\n",
      "    Uninstalling numpy-1.26.4:\n",
      "      Successfully uninstalled numpy-1.26.4\n"
     ]
    },
    {
     "name": "stderr",
     "output_type": "stream",
     "text": [
      "ERROR: Could not install packages due to an OSError: [WinError 5] Access is denied: 'C:\\\\Users\\\\finda\\\\Downloads\\\\deepfake_dataset\\\\new\\\\Lib\\\\site-packages\\\\~-mpy.libs\\\\libopenblas64__v0.3.23-293-gc2f4bdbb-gcc_10_3_0-2bde3a66a51006b2b53eb373ff767a3f.dll'\n",
      "Check the permissions.\n",
      "\n",
      "\n",
      "[notice] A new release of pip available: 22.3 -> 25.1.1\n",
      "[notice] To update, run: python.exe -m pip install --upgrade pip\n"
     ]
    }
   ],
   "source": [
    "!pip install --upgrade --force-reinstall torch torchvision torchaudio --index-url https://download.pytorch.org/whl/cpu\n",
    "!pip install opencv-python mediapipe scikit-learn matplotlib seaborn pandas numpy tqdm pathlib\n",
    "!pip install dlib"
   ]
  },
  {
   "cell_type": "code",
   "execution_count": null,
   "id": "5ab824d1",
   "metadata": {},
   "outputs": [],
   "source": [
    "import urllib.request\n",
    "import os\n",
    "\n",
    "if not os.path.exists('shape_predictor_68_face_landmarks.dat'):\n",
    "    print(\"Downloading dlib face landmark predictor...\")\n",
    "    urllib.request.urlretrieve(\n",
    "        'https://github.com/davisking/dlib-models/raw/master/shape_predictor_68_face_landmarks.dat.bz2',\n",
    "        'shape_predictor_68_face_landmarks.dat.bz2'\n",
    "    )\n",
    "    import bz2\n",
    "    with bz2.BZ2File('shape_predictor_68_face_landmarks.dat.bz2') as fr, open('shape_predictor_68_face_landmarks.dat', 'wb') as fw:\n",
    "        fw.write(fr.read())\n",
    "    print(\"Download complete!\")"
   ]
  },
  {
   "cell_type": "code",
   "execution_count": null,
   "id": "7a180193",
   "metadata": {},
   "outputs": [],
   "source": [
    "import os\n",
    "import cv2\n",
    "import numpy as np\n",
    "import pandas as pd\n",
    "import torch\n",
    "import torch.nn as nn\n",
    "import torch.optim as optim\n",
    "from torch.utils.data import Dataset, DataLoader\n",
    "import torchvision.transforms as transforms\n",
    "from sklearn.model_selection import train_test_split\n",
    "from sklearn.metrics import accuracy_score, precision_recall_fscore_support, confusion_matrix\n",
    "import matplotlib.pyplot as plt\n",
    "import seaborn as sns\n",
    "from tqdm.notebook import tqdm\n",
    "import mediapipe as mp\n",
    "import json\n",
    "import pickle\n",
    "from pathlib import Path\n",
    "import warnings\n",
    "warnings.filterwarnings('ignore')"
   ]
  },
  {
   "cell_type": "code",
   "execution_count": null,
   "id": "f2965536",
   "metadata": {},
   "outputs": [
    {
     "name": "stdout",
     "output_type": "stream",
     "text": [
      "✅ All libraries imported.\n",
      "🔥 PyTorch version: 2.5.1+cpu\n",
      "🖥️ CUDA available: False\n"
     ]
    }
   ],
   "source": [
    "torch.manual_seed(42)\n",
    "np.random.seed(42)\n",
    "\n",
    "print(\"✅ All libraries imported.\")\n",
    "print(f\"🔥 PyTorch version: {torch.__version__}\")\n",
    "print(f\"🖥️ CUDA available: {torch.cuda.is_available()}\")"
   ]
  },
  {
   "cell_type": "code",
   "execution_count": null,
   "id": "540236a2",
   "metadata": {},
   "outputs": [
    {
     "name": "stdout",
     "output_type": "stream",
     "text": [
      "📁 Data root: C:\\Users\\finda\\Downloads\\deepfake_dataset\\deepfake_dataset\n",
      "💾 Output dir: C:\\Users\\finda\\Downloads\\deepfake_dataset\\ouput\n",
      "🚀 Running on: cpu\n",
      "\n",
      "🔍 Dataset stats:\n",
      "Train Real: 180 videos\n",
      "Train Fake: 180 videos\n",
      "Test Real: 20 videos\n",
      "Test Fake: 20 videos\n"
     ]
    }
   ],
   "source": [
    "# CHANGE THIS TO YOUR DATASET LOCATION\n",
    "DATA_ROOT = r\"C:\\Users\\finda\\Downloads\\deepfake_dataset\\deepfake_dataset\"  # e.g., r\"D:/DeepfakeDataset\"\n",
    "OUTPUT_DIR = r\"C:\\Users\\finda\\Downloads\\deepfake_dataset\\ouput\"\n",
    "DEVICE = torch.device('cuda' if torch.cuda.is_available() else 'cpu')\n",
    "\n",
    "# Ensure output directory exists\n",
    "Path(OUTPUT_DIR).mkdir(parents=True, exist_ok=True)\n",
    "\n",
    "print(f\"📁 Data root: {DATA_ROOT}\")\n",
    "print(f\"💾 Output dir: {OUTPUT_DIR}\")\n",
    "print(f\"🚀 Running on: {DEVICE}\")\n",
    "\n",
    "# Check structure of dataset\n",
    "try:\n",
    "    train_real_path = Path(DATA_ROOT) / 'train' / 'real'\n",
    "    train_fake_path = Path(DATA_ROOT) / 'train' / 'fake'\n",
    "    test_real_path = Path(DATA_ROOT) / 'test' / 'real'\n",
    "    test_fake_path = Path(DATA_ROOT) / 'test' / 'fake'\n",
    "\n",
    "    print(f\"\\n🔍 Dataset stats:\")\n",
    "    print(f\"Train Real: {len(list(train_real_path.glob('*.mp4')))} videos\")\n",
    "    print(f\"Train Fake: {len(list(train_fake_path.glob('*.mp4')))} videos\")\n",
    "    print(f\"Test Real: {len(list(test_real_path.glob('*.mp4')))} videos\")\n",
    "    print(f\"Test Fake: {len(list(test_fake_path.glob('*.mp4')))} videos\")\n",
    "except Exception as e:\n",
    "    print(f\"Error checking dataset structure: {e}\")\n"
   ]
  },
  {
   "cell_type": "markdown",
   "id": "d9fe8623",
   "metadata": {},
   "source": [
    "DATA PREPROCESSING"
   ]
  },
  {
   "cell_type": "code",
   "execution_count": null,
   "id": "5d9414ba",
   "metadata": {},
   "outputs": [
    {
     "name": "stdout",
     "output_type": "stream",
     "text": [
      "Collecting dlib\n",
      "  Using cached dlib-19.24.9.tar.gz (3.4 MB)\n",
      "  Preparing metadata (setup.py): started\n",
      "  Preparing metadata (setup.py): finished with status 'done'\n",
      "Installing collected packages: dlib\n",
      "  Running setup.py install for dlib: started\n",
      "  Running setup.py install for dlib: finished with status 'error'\n",
      "Note: you may need to restart the kernel to use updated packages.\n"
     ]
    },
    {
     "name": "stderr",
     "output_type": "stream",
     "text": [
      "  DEPRECATION: dlib is being installed using the legacy 'setup.py install' method, because it does not have a 'pyproject.toml' and the 'wheel' package is not installed. pip 23.1 will enforce this behaviour change. A possible replacement is to enable the '--use-pep517' option. Discussion can be found at https://github.com/pypa/pip/issues/8559\n",
      "  error: subprocess-exited-with-error\n",
      "  \n",
      "  × Running setup.py install for dlib did not run successfully.\n",
      "  │ exit code: 1\n",
      "  ╰─> [43 lines of output]\n",
      "      running install\n",
      "      c:\\Users\\finda\\Downloads\\deepfake_dataset\\new\\Lib\\site-packages\\setuptools\\command\\install.py:34: SetuptoolsDeprecationWarning: setup.py install is deprecated. Use build and pip and other standards-based tools.\n",
      "        warnings.warn(\n",
      "      running build\n",
      "      running build_ext\n",
      "      \n",
      "      ================================================================================\n",
      "      ================================================================================\n",
      "      ================================================================================\n",
      "      \n",
      "                         CMake is not installed on your system!\n",
      "      \n",
      "          Or it is possible some broken copy of cmake is installed on your system.\n",
      "          It is unfortunately very common for python package managers to include\n",
      "          broken copies of cmake.  So if the error above this refers to some file\n",
      "          path to a cmake file inside a python or anaconda or miniconda path then you\n",
      "          should delete that broken copy of cmake from your computer.\n",
      "      \n",
      "          Instead, please get an official copy of cmake from one of these known good\n",
      "          sources of an official cmake:\n",
      "              - cmake.org (this is how windows users should get cmake)\n",
      "              - apt install cmake (for Ubuntu or Debian based systems)\n",
      "              - yum install cmake (for Redhat or CenOS based systems)\n",
      "      \n",
      "          On a linux machine you can run `which cmake` to see what cmake you are\n",
      "          actually using.  If it tells you it's some cmake from any kind of python\n",
      "          packager delete it and install an official cmake.\n",
      "      \n",
      "          More generally, cmake is not installed if when you open a terminal window\n",
      "          and type\n",
      "             cmake --version\n",
      "          you get an error.  So you can use that as a very basic test to see if you\n",
      "          have cmake installed.  That is, if cmake --version doesn't run from the\n",
      "          same terminal window from which you are reading this error message, then\n",
      "          you have not installed cmake.  Windows users should take note that they\n",
      "          need to tell the cmake installer to add cmake to their PATH.  Since you\n",
      "          can't run commands that are not in your PATH.  This is how the PATH works\n",
      "          on Linux as well, but failing to add cmake to the PATH is a particularly\n",
      "          common problem on windows and rarely a problem on Linux.\n",
      "      \n",
      "      ================================================================================\n",
      "      ================================================================================\n",
      "      ================================================================================\n",
      "      [end of output]\n",
      "  \n",
      "  note: This error originates from a subprocess, and is likely not a problem with pip.\n",
      "error: legacy-install-failure\n",
      "\n",
      "× Encountered error while trying to install package.\n",
      "╰─> dlib\n",
      "\n",
      "note: This is an issue with the package mentioned above, not pip.\n",
      "hint: See above for output from the failure.\n",
      "\n",
      "[notice] A new release of pip available: 22.3 -> 25.1.1\n",
      "[notice] To update, run: python.exe -m pip install --upgrade pip\n"
     ]
    }
   ],
   "source": [
    "pip install dlib"
   ]
  },
  {
   "cell_type": "code",
   "execution_count": null,
   "id": "53fe5ea2",
   "metadata": {},
   "outputs": [
    {
     "name": "stdout",
     "output_type": "stream",
     "text": [
      "Dlib not available, using MediaPipe only\n",
      "Preprocessor initialized!\n"
     ]
    }
   ],
   "source": [
    "class VideoPreprocessor:\n",
    "    def __init__(self):\n",
    "        # Initialize MediaPipe components\n",
    "        self.mp_face_detection = mp.solutions.face_detection\n",
    "        self.mp_face_mesh = mp.solutions.face_mesh\n",
    "        self.mp_pose = mp.solutions.pose\n",
    "        \n",
    "        self.face_detection = self.mp_face_detection.FaceDetection(\n",
    "            model_selection=0, min_detection_confidence=0.5\n",
    "        )\n",
    "        self.face_mesh = self.mp_face_mesh.FaceMesh(\n",
    "            static_image_mode=False, max_num_faces=1, \n",
    "            refine_landmarks=True, min_detection_confidence=0.5\n",
    "        )\n",
    "        self.pose = self.mp_pose.Pose(\n",
    "            static_image_mode=False, model_complexity=1, \n",
    "            smooth_landmarks=True, min_detection_confidence=0.5\n",
    "        )\n",
    "        \n",
    "        # Try to initialize dlib (optional)\n",
    "        try:\n",
    "            import dlib\n",
    "            self.dlib_detector = dlib.get_frontal_face_detector()\n",
    "            self.dlib_predictor = dlib.shape_predictor('shape_predictor_68_face_landmarks.dat')\n",
    "            self.dlib_available = True\n",
    "            print(\"Dlib initialized successfully\")\n",
    "        except:\n",
    "            self.dlib_available = False\n",
    "            print(\"Dlib not available, using MediaPipe only\")\n",
    "\n",
    "# Initialize preprocessor\n",
    "preprocessor = VideoPreprocessor()\n",
    "print(\"Preprocessor initialized!\")"
   ]
  },
  {
   "cell_type": "markdown",
   "id": "173cd203",
   "metadata": {},
   "source": [
    "Define Frame Extraction Function"
   ]
  },
  {
   "cell_type": "code",
   "execution_count": null,
   "id": "5645defa",
   "metadata": {},
   "outputs": [],
   "source": [
    "def extract_frames_from_video(video_path, max_frames=30, target_fps=10):\n",
    "    \"\"\"Extract frames from video with consistent sampling\"\"\"\n",
    "    cap = cv2.VideoCapture(str(video_path))\n",
    "    \n",
    "    if not cap.isOpened():\n",
    "        print(f\"Error opening video: {video_path}\")\n",
    "        return []\n",
    "    \n",
    "    # Get video properties\n",
    "    fps = cap.get(cv2.CAP_PROP_FPS)\n",
    "    total_frames = int(cap.get(cv2.CAP_PROP_FRAME_COUNT))\n",
    "    \n",
    "    # Calculate frame sampling\n",
    "    frame_interval = max(1, int(fps / target_fps)) if fps > 0 else 1\n",
    "    frames_to_extract = min(max_frames, total_frames // frame_interval)\n",
    "    \n",
    "    frames = []\n",
    "    frame_count = 0\n",
    "    extracted_count = 0\n",
    "    \n",
    "    while cap.isOpened() and extracted_count < frames_to_extract:\n",
    "        ret, frame = cap.read()\n",
    "        if not ret:\n",
    "            break\n",
    "        \n",
    "        if frame_count % frame_interval == 0:\n",
    "            # Resize frame for consistent processing\n",
    "            frame = cv2.resize(frame, (224, 224))\n",
    "            frames.append(frame)\n",
    "            extracted_count += 1\n",
    "        \n",
    "        frame_count += 1\n",
    "    \n",
    "    cap.release()\n",
    "    return frames"
   ]
  },
  {
   "cell_type": "code",
   "execution_count": null,
   "id": "0a557b10",
   "metadata": {},
   "outputs": [
    {
     "name": "stdout",
     "output_type": "stream",
     "text": [
      "Testing frame extraction...\n",
      "06_15__walking_and_outside_surprised__QRCD27P8.mp4: 30 frames extracted\n",
      "07_03__hugging_happy__7NGMD8FT.mp4: 30 frames extracted\n"
     ]
    }
   ],
   "source": [
    "# Test frame extraction on a sample video\n",
    "print(\"Testing frame extraction...\")\n",
    "sample_videos = list(Path(DATA_ROOT).rglob('*.mp4'))[:2]  # Test on first 2 videos\n",
    "for video_path in sample_videos:\n",
    "    frames = extract_frames_from_video(video_path)\n",
    "    print(f\"{video_path.name}: {len(frames)} frames extracted\")"
   ]
  },
  {
   "cell_type": "code",
   "execution_count": null,
   "id": "f3191667",
   "metadata": {},
   "outputs": [],
   "source": [
    "def extract_facial_landmarks(frame, preprocessor):\n",
    "    \"\"\"Extract facial landmarks using MediaPipe\"\"\"\n",
    "    landmarks = {}\n",
    "    rgb_frame = cv2.cvtColor(frame, cv2.COLOR_BGR2RGB)\n",
    "    \n",
    "    # MediaPipe face mesh\n",
    "    try:\n",
    "        results = preprocessor.face_mesh.process(rgb_frame)\n",
    "        if results.multi_face_landmarks:\n",
    "            face_landmarks = results.multi_face_landmarks[0]\n",
    "            mp_landmarks = []\n",
    "            for landmark in face_landmarks.landmark:\n",
    "                mp_landmarks.append([landmark.x, landmark.y, landmark.z])\n",
    "            landmarks['mediapipe'] = np.array(mp_landmarks)\n",
    "        else:\n",
    "            landmarks['mediapipe'] = None\n",
    "    except:\n",
    "        landmarks['mediapipe'] = None\n",
    "    \n",
    "    return landmarks"
   ]
  },
  {
   "cell_type": "code",
   "execution_count": null,
   "id": "50c5ace8",
   "metadata": {},
   "outputs": [],
   "source": [
    "def extract_pose_landmarks(frame, preprocessor):\n",
    "    \"\"\"Extract pose landmarks\"\"\"\n",
    "    rgb_frame = cv2.cvtColor(frame, cv2.COLOR_BGR2RGB)\n",
    "    results = preprocessor.pose.process(rgb_frame)\n",
    "    \n",
    "    if results.pose_landmarks:\n",
    "        pose_landmarks = []\n",
    "        for landmark in results.pose_landmarks.landmark:\n",
    "            pose_landmarks.append([landmark.x, landmark.y, landmark.z, landmark.visibility])\n",
    "        return np.array(pose_landmarks)\n",
    "    return None"
   ]
  },
  {
   "cell_type": "code",
   "execution_count": null,
   "id": "eb0bc0ae",
   "metadata": {},
   "outputs": [
    {
     "name": "stdout",
     "output_type": "stream",
     "text": [
      "Feature extraction functions defined!\n"
     ]
    }
   ],
   "source": [
    "def calculate_frame_features(frame):\n",
    "    \"\"\"Calculate various frame-level features\"\"\"\n",
    "    features = {}\n",
    "    \n",
    "    # Basic image statistics\n",
    "    features['mean_intensity'] = float(np.mean(frame))\n",
    "    features['std_intensity'] = float(np.std(frame))\n",
    "    features['brightness'] = float(np.mean(cv2.cvtColor(frame, cv2.COLOR_BGR2GRAY)))\n",
    "    \n",
    "    # Color distribution\n",
    "    for i, color in enumerate(['b', 'g', 'r']):\n",
    "        features[f'{color}_mean'] = float(np.mean(frame[:, :, i]))\n",
    "        features[f'{color}_std'] = float(np.std(frame[:, :, i]))\n",
    "    \n",
    "    # Edge density\n",
    "    gray = cv2.cvtColor(frame, cv2.COLOR_BGR2GRAY)\n",
    "    edges = cv2.Canny(gray, 50, 150)\n",
    "    features['edge_density'] = float(np.sum(edges > 0) / (edges.shape[0] * edges.shape[1]))\n",
    "    \n",
    "    # Blur detection (Laplacian variance)\n",
    "    features['blur_score'] = float(cv2.Laplacian(gray, cv2.CV_64F).var())\n",
    "    \n",
    "    return features\n",
    "\n",
    "print(\"Feature extraction functions defined!\")\n"
   ]
  },
  {
   "cell_type": "code",
   "execution_count": null,
   "id": "f32ecfa6",
   "metadata": {},
   "outputs": [
    {
     "name": "stdout",
     "output_type": "stream",
     "text": [
      "Testing video processing...\n",
      "\n",
      "Processing 06_15__walking_and_outside_surprised__QRCD27P8.mp4 (Label: Fake)\n",
      "  - Frames processed: 30\n",
      "  - Temporal features: 26\n",
      "  - Sample frame features: 11\n",
      "\n",
      "Processing 07_03__hugging_happy__7NGMD8FT.mp4 (Label: Fake)\n",
      "  - Frames processed: 30\n",
      "  - Temporal features: 26\n",
      "  - Sample frame features: 11\n",
      "\n",
      "Processing 07_14__exit_phone_room__P9QFO50U.mp4 (Label: Fake)\n",
      "  - Frames processed: 30\n",
      "  - Temporal features: 24\n",
      "  - Sample frame features: 11\n"
     ]
    }
   ],
   "source": [
    "def process_single_video(video_path, label, preprocessor):\n",
    "    \"\"\"Process a single video and extract all features\"\"\"\n",
    "    frames = extract_frames_from_video(video_path)\n",
    "    \n",
    "    if not frames:\n",
    "        return None\n",
    "    \n",
    "    video_data = {\n",
    "        'path': str(video_path),\n",
    "        'label': label,\n",
    "        'num_frames': len(frames),\n",
    "        'frames': [],\n",
    "        'temporal_features': {}\n",
    "    }\n",
    "    \n",
    "    # Process each frame\n",
    "    all_facial_landmarks = []\n",
    "    all_pose_landmarks = []\n",
    "    all_frame_features = []\n",
    "    \n",
    "    for i, frame in enumerate(frames):\n",
    "        frame_data = {\n",
    "            'frame_id': i,\n",
    "            'facial_landmarks': extract_facial_landmarks(frame, preprocessor),\n",
    "            'pose_landmarks': extract_pose_landmarks(frame, preprocessor),\n",
    "            'frame_features': calculate_frame_features(frame)\n",
    "        }\n",
    "        \n",
    "        video_data['frames'].append(frame_data)\n",
    "        \n",
    "        # Collect for temporal analysis\n",
    "        if frame_data['facial_landmarks'].get('mediapipe') is not None:\n",
    "            all_facial_landmarks.append(frame_data['facial_landmarks']['mediapipe'])\n",
    "        if frame_data['pose_landmarks'] is not None:\n",
    "            all_pose_landmarks.append(frame_data['pose_landmarks'])\n",
    "        all_frame_features.append(frame_data['frame_features'])\n",
    "    \n",
    "    # Calculate temporal features\n",
    "    video_data['temporal_features'] = calculate_temporal_features(\n",
    "        all_facial_landmarks, all_pose_landmarks, all_frame_features\n",
    "    )\n",
    "    \n",
    "    return video_data\n",
    "\n",
    "def calculate_temporal_features(facial_landmarks, pose_landmarks, frame_features):\n",
    "    \"\"\"Calculate temporal consistency features\"\"\"\n",
    "    temporal_features = {}\n",
    "    \n",
    "    # Facial landmark temporal analysis\n",
    "    if len(facial_landmarks) > 1:\n",
    "        facial_landmarks = np.array(facial_landmarks)\n",
    "        facial_movement = np.diff(facial_landmarks, axis=0)\n",
    "        temporal_features['facial_movement_variance'] = float(np.var(facial_movement))\n",
    "        temporal_features['facial_jitter'] = float(np.mean(np.std(facial_movement, axis=1)))\n",
    "    \n",
    "    # Pose landmark temporal analysis\n",
    "    if len(pose_landmarks) > 1:\n",
    "        pose_landmarks = np.array(pose_landmarks)\n",
    "        pose_movement = np.diff(pose_landmarks, axis=0)\n",
    "        temporal_features['pose_movement_variance'] = float(np.var(pose_movement))\n",
    "        temporal_features['pose_jitter'] = float(np.mean(np.std(pose_movement, axis=1)))\n",
    "    \n",
    "    # Frame feature temporal analysis\n",
    "    if len(frame_features) > 1:\n",
    "        feature_df = pd.DataFrame(frame_features)\n",
    "        for col in feature_df.columns:\n",
    "            temporal_features[f'{col}_temporal_std'] = float(feature_df[col].std())\n",
    "            if len(feature_df) > 2:\n",
    "                temporal_features[f'{col}_temporal_trend'] = float(\n",
    "                    np.polyfit(range(len(feature_df)), feature_df[col], 1)[0]\n",
    "                )\n",
    "    \n",
    "    return temporal_features\n",
    "# Test processing on a few sample videos\n",
    "print(\"Testing video processing...\")\n",
    "sample_videos = list(Path(DATA_ROOT).rglob('*.mp4'))[:3]  # Test on first 3 videos\n",
    "\n",
    "for i, video_path in enumerate(sample_videos):\n",
    "    label = 1 if 'fake' in str(video_path) else 0\n",
    "    print(f\"\\nProcessing {video_path.name} (Label: {'Fake' if label else 'Real'})\")\n",
    "    \n",
    "    result = process_single_video(video_path, label, preprocessor)\n",
    "    if result:\n",
    "        print(f\"  - Frames processed: {result['num_frames']}\")\n",
    "        print(f\"  - Temporal features: {len(result['temporal_features'])}\")\n",
    "        print(f\"  - Sample frame features: {len(result['frames'][0]['frame_features'])}\")\n",
    "    else:\n",
    "        print(f\"  - Failed to process\")"
   ]
  },
  {
   "cell_type": "code",
   "execution_count": null,
   "id": "97559e0a",
   "metadata": {},
   "outputs": [
    {
     "name": "stdout",
     "output_type": "stream",
     "text": [
      "Dataset loaded:\n",
      "  Train: 180 real + 180 fake = 360 total\n",
      "  Test: 20 real + 20 fake = 40 total\n"
     ]
    }
   ],
   "source": [
    "def load_all_video_paths(data_root):\n",
    "    \"\"\"Load and organize all video paths\"\"\"\n",
    "    data_root = Path(data_root)\n",
    "    \n",
    "    train_real = list((data_root / 'train' / 'real').glob('*.mp4'))\n",
    "    train_fake = list((data_root / 'train' / 'fake').glob('*.mp4'))\n",
    "    test_real = list((data_root / 'test' / 'real').glob('*.mp4'))\n",
    "    test_fake = list((data_root / 'test' / 'fake').glob('*.mp4'))\n",
    "    \n",
    "    dataset_info = {\n",
    "        'train': {\n",
    "            'real': train_real,\n",
    "            'fake': train_fake,\n",
    "        },\n",
    "        'test': {\n",
    "            'real': test_real,\n",
    "            'fake': test_fake,\n",
    "        }\n",
    "    }\n",
    "    \n",
    "    print(f\"Dataset loaded:\")\n",
    "    print(f\"  Train: {len(train_real)} real + {len(train_fake)} fake = {len(train_real) + len(train_fake)} total\")\n",
    "    print(f\"  Test: {len(test_real)} real + {len(test_fake)} fake = {len(test_real) + len(test_fake)} total\")\n",
    "    \n",
    "    return dataset_info\n",
    "\n",
    "# Load dataset\n",
    "dataset_info = load_all_video_paths(DATA_ROOT)\n"
   ]
  },
  {
   "cell_type": "code",
   "execution_count": null,
   "id": "056a06ec",
   "metadata": {},
   "outputs": [
    {
     "name": "stdout",
     "output_type": "stream",
     "text": [
      "Dataset class defined!\n"
     ]
    }
   ],
   "source": [
    "from torch.utils.data import Dataset\n",
    "\n",
    "class DeepfakeDataset(Dataset):\n",
    "    \"\"\"PyTorch Dataset for deepfake detection\"\"\"\n",
    "    \n",
    "    def __init__(self, data, feature_type='combined'):\n",
    "        self.data = data\n",
    "        self.feature_type = feature_type\n",
    "        self.samples = []\n",
    "        self.prepare_samples()\n",
    "    \n",
    "    def prepare_samples(self):\n",
    "        \"\"\"Prepare samples based on feature type\"\"\"\n",
    "        for video in self.data:\n",
    "            if self.feature_type == 'frame_features':\n",
    "                # Use aggregated frame features\n",
    "                features = []\n",
    "                for frame in video['frames']:\n",
    "                    frame_feat = list(frame['frame_features'].values())\n",
    "                    features.extend(frame_feat)\n",
    "                \n",
    "                # Pad or truncate to fixed size\n",
    "                target_size = 300\n",
    "                if len(features) < target_size:\n",
    "                    features.extend([0] * (target_size - len(features)))\n",
    "                else:\n",
    "                    features = features[:target_size]\n",
    "                \n",
    "                self.samples.append({\n",
    "                    'features': np.array(features, dtype=np.float32),\n",
    "                    'label': video['label']\n",
    "                })\n",
    "            \n",
    "            elif self.feature_type == 'temporal_features':\n",
    "                # Use temporal features\n",
    "                temp_features = list(video['temporal_features'].values())\n",
    "                if temp_features:\n",
    "                    # Handle NaN values\n",
    "                    temp_features = [f if not np.isnan(f) else 0 for f in temp_features]\n",
    "                    # Pad to consistent size\n",
    "                    target_size = 50\n",
    "                    if len(temp_features) < target_size:\n",
    "                        temp_features.extend([0] * (target_size - len(temp_features)))\n",
    "                    else:\n",
    "                        temp_features = temp_features[:target_size]\n",
    "                    \n",
    "                    self.samples.append({\n",
    "                        'features': np.array(temp_features, dtype=np.float32),\n",
    "                        'label': video['label']\n",
    "                    })\n",
    "            \n",
    "            elif self.feature_type == 'combined':\n",
    "                # Combine frame and temporal features\n",
    "                frame_features = []\n",
    "                for frame in video['frames']:\n",
    "                    frame_feat = list(frame['frame_features'].values())\n",
    "                    frame_features.extend(frame_feat)\n",
    "                \n",
    "                temporal_features = list(video['temporal_features'].values())\n",
    "                temporal_features = [f if not np.isnan(f) else 0 for f in temporal_features]\n",
    "                \n",
    "                combined_features = frame_features + temporal_features\n",
    "                \n",
    "                # Normalize length\n",
    "                target_size = 350\n",
    "                if len(combined_features) < target_size:\n",
    "                    combined_features.extend([0] * (target_size - len(combined_features)))\n",
    "                else:\n",
    "                    combined_features = combined_features[:target_size]\n",
    "                \n",
    "                self.samples.append({\n",
    "                    'features': np.array(combined_features, dtype=np.float32),\n",
    "                    'label': video['label']\n",
    "                })\n",
    "    \n",
    "    def __len__(self):\n",
    "        return len(self.samples)\n",
    "    \n",
    "    def __getitem__(self, idx):\n",
    "        sample = self.samples[idx]\n",
    "        features = torch.FloatTensor(sample['features'])\n",
    "        label = torch.LongTensor([sample['label']])\n",
    "        \n",
    "        return features, label\n",
    "\n",
    "print(\"Dataset class defined!\")"
   ]
  },
  {
   "cell_type": "code",
   "execution_count": null,
   "id": "332c7e34",
   "metadata": {},
   "outputs": [
    {
     "name": "stdout",
     "output_type": "stream",
     "text": [
      "Dataset class defined!\n"
     ]
    }
   ],
   "source": [
    "class DeepfakeDataset(Dataset):\n",
    "    \"\"\"PyTorch Dataset for deepfake detection\"\"\"\n",
    "    \n",
    "    def __init__(self, data, feature_type='combined'):\n",
    "        self.data = data\n",
    "        self.feature_type = feature_type\n",
    "        self.samples = []\n",
    "        self.prepare_samples()\n",
    "    \n",
    "    def prepare_samples(self):\n",
    "        \"\"\"Prepare samples based on feature type\"\"\"\n",
    "        for video in self.data:\n",
    "            if self.feature_type == 'frame_features':\n",
    "                # Use aggregated frame features\n",
    "                features = []\n",
    "                for frame in video['frames']:\n",
    "                    frame_feat = list(frame['frame_features'].values())\n",
    "                    features.extend(frame_feat)\n",
    "                \n",
    "                # Pad or truncate to fixed size\n",
    "                target_size = 300\n",
    "                if len(features) < target_size:\n",
    "                    features.extend([0] * (target_size - len(features)))\n",
    "                else:\n",
    "                    features = features[:target_size]\n",
    "                \n",
    "                self.samples.append({\n",
    "                    'features': np.array(features, dtype=np.float32),\n",
    "                    'label': video['label']\n",
    "                })\n",
    "            \n",
    "            elif self.feature_type == 'temporal_features':\n",
    "                # Use temporal features\n",
    "                temp_features = list(video['temporal_features'].values())\n",
    "                if temp_features:\n",
    "                    # Handle NaN values\n",
    "                    temp_features = [f if not np.isnan(f) else 0 for f in temp_features]\n",
    "                    # Pad to consistent size\n",
    "                    target_size = 50\n",
    "                    if len(temp_features) < target_size:\n",
    "                        temp_features.extend([0] * (target_size - len(temp_features)))\n",
    "                    else:\n",
    "                        temp_features = temp_features[:target_size]\n",
    "                    \n",
    "                    self.samples.append({\n",
    "                        'features': np.array(temp_features, dtype=np.float32),\n",
    "                        'label': video['label']\n",
    "                    })\n",
    "            \n",
    "            elif self.feature_type == 'combined':\n",
    "                # Combine frame and temporal features\n",
    "                frame_features = []\n",
    "                for frame in video['frames']:\n",
    "                    frame_feat = list(frame['frame_features'].values())\n",
    "                    frame_features.extend(frame_feat)\n",
    "                \n",
    "                temporal_features = list(video['temporal_features'].values())\n",
    "                temporal_features = [f if not np.isnan(f) else 0 for f in temporal_features]\n",
    "                \n",
    "                combined_features = frame_features + temporal_features\n",
    "                \n",
    "                # Normalize length\n",
    "                target_size = 350\n",
    "                if len(combined_features) < target_size:\n",
    "                    combined_features.extend([0] * (target_size - len(combined_features)))\n",
    "                else:\n",
    "                    combined_features = combined_features[:target_size]\n",
    "                \n",
    "                self.samples.append({\n",
    "                    'features': np.array(combined_features, dtype=np.float32),\n",
    "                    'label': video['label']\n",
    "                })\n",
    "    \n",
    "    def __len__(self):\n",
    "        return len(self.samples)\n",
    "    \n",
    "    def __getitem__(self, idx):\n",
    "        sample = self.samples[idx]\n",
    "        features = torch.FloatTensor(sample['features'])\n",
    "        label = torch.LongTensor([sample['label']])\n",
    "        \n",
    "        return features, label\n",
    "\n",
    "print(\"Dataset class defined!\")"
   ]
  },
  {
   "cell_type": "code",
   "execution_count": 29,
   "id": "94f8de54",
   "metadata": {},
   "outputs": [
    {
     "data": {
      "application/vnd.jupyter.widget-view+json": {
       "model_id": "d7200c4a292f4df59ad123f6c4668766",
       "version_major": 2,
       "version_minor": 0
      },
      "text/plain": [
       "Processing train real:   0%|          | 0/180 [00:00<?, ?it/s]"
      ]
     },
     "metadata": {},
     "output_type": "display_data"
    },
    {
     "data": {
      "application/vnd.jupyter.widget-view+json": {
       "model_id": "411c55a1fe6a4272b45acc28fbeb8dc6",
       "version_major": 2,
       "version_minor": 0
      },
      "text/plain": [
       "Processing train fake:   0%|          | 0/180 [00:00<?, ?it/s]"
      ]
     },
     "metadata": {},
     "output_type": "display_data"
    },
    {
     "data": {
      "application/vnd.jupyter.widget-view+json": {
       "model_id": "33bdc73e630b4987b92034559593da31",
       "version_major": 2,
       "version_minor": 0
      },
      "text/plain": [
       "Processing test real:   0%|          | 0/20 [00:00<?, ?it/s]"
      ]
     },
     "metadata": {},
     "output_type": "display_data"
    },
    {
     "data": {
      "application/vnd.jupyter.widget-view+json": {
       "model_id": "4386587918cf40c2b3b1a8de9826098d",
       "version_major": 2,
       "version_minor": 0
      },
      "text/plain": [
       "Processing test fake:   0%|          | 0/20 [00:00<?, ?it/s]"
      ]
     },
     "metadata": {},
     "output_type": "display_data"
    },
    {
     "name": "stdout",
     "output_type": "stream",
     "text": [
      "Data splits:\n",
      "  Train: 288 samples\n",
      "  Validation: 72 samples\n",
      "  Test: 40 samples\n",
      "  Train - Real: 144, Fake: 144 (Ratio: 0.50)\n",
      "  Validation - Real: 36, Fake: 36 (Ratio: 0.50)\n",
      "  Test - Real: 20, Fake: 20 (Ratio: 0.50)\n"
     ]
    }
   ],
   "source": [
    "# Process all videos and create processed_data\n",
    "def process_all_videos(dataset_info, preprocessor):\n",
    "    processed = {'train': [], 'test': []}\n",
    "    for split in ['train', 'test']:\n",
    "        for label_name, label_value in [('real', 0), ('fake', 1)]:\n",
    "            for video_path in tqdm(dataset_info[split][label_name], desc=f\"Processing {split} {label_name}\"):\n",
    "                result = process_single_video(video_path, label_value, preprocessor)\n",
    "                if result:\n",
    "                    result['label'] = label_value\n",
    "                    processed[split].append(result)\n",
    "    return processed\n",
    "\n",
    "# This may take a while depending on dataset size\n",
    "processed_data = process_all_videos(dataset_info, preprocessor)\n",
    "\n",
    "train_data = processed_data['train']\n",
    "test_data = processed_data['test']\n",
    "\n",
    "# Create stratified split\n",
    "train_split, val_split = train_test_split(\n",
    "    train_data, \n",
    "    test_size=0.2, \n",
    "    stratify=[d['label'] for d in train_data],\n",
    "    random_state=42\n",
    ")\n",
    "\n",
    "print(f\"Data splits:\")\n",
    "print(f\"  Train: {len(train_split)} samples\")\n",
    "print(f\"  Validation: {len(val_split)} samples\")\n",
    "print(f\"  Test: {len(test_data)} samples\")\n",
    "\n",
    "# Check class distribution in each split\n",
    "for split_name, split_data in [('Train', train_split), ('Validation', val_split), ('Test', test_data)]:\n",
    "    labels = [d['label'] for d in split_data]\n",
    "    real_count = labels.count(0)\n",
    "    fake_count = labels.count(1)\n",
    "    print(f\"  {split_name} - Real: {real_count}, Fake: {fake_count} (Ratio: {real_count/(real_count+fake_count):.2f})\")"
   ]
  },
  {
   "cell_type": "code",
   "execution_count": 30,
   "id": "110de17c",
   "metadata": {},
   "outputs": [
    {
     "name": "stdout",
     "output_type": "stream",
     "text": [
      "Model class defined!\n"
     ]
    }
   ],
   "source": [
    "class DeepfakeDetectionModel(nn.Module):\n",
    "    \"\"\"Neural network for deepfake detection\"\"\"\n",
    "    \n",
    "    def __init__(self, input_size, hidden_sizes=[512, 256, 128], dropout=0.3):\n",
    "        super(DeepfakeDetectionModel, self).__init__()\n",
    "        \n",
    "        layers = []\n",
    "        prev_size = input_size\n",
    "        \n",
    "        for hidden_size in hidden_sizes:\n",
    "            layers.extend([\n",
    "                nn.Linear(prev_size, hidden_size),\n",
    "                nn.ReLU(),\n",
    "                nn.BatchNorm1d(hidden_size),\n",
    "                nn.Dropout(dropout)\n",
    "            ])\n",
    "            prev_size = hidden_size\n",
    "        \n",
    "        layers.append(nn.Linear(prev_size, 2))  # Binary classification\n",
    "        \n",
    "        self.network = nn.Sequential(*layers)\n",
    "    \n",
    "    def forward(self, x):\n",
    "        return self.network(x)\n",
    "\n",
    "print(\"Model class defined!\")"
   ]
  },
  {
   "cell_type": "code",
   "execution_count": null,
   "id": "0f62ac7f",
   "metadata": {},
   "outputs": [],
   "source": []
  },
  {
   "cell_type": "code",
   "execution_count": null,
   "id": "94e79c65",
   "metadata": {},
   "outputs": [],
   "source": []
  },
  {
   "cell_type": "code",
   "execution_count": 31,
   "id": "080977e1",
   "metadata": {},
   "outputs": [
    {
     "name": "stdout",
     "output_type": "stream",
     "text": [
      "Training functions defined!\n"
     ]
    }
   ],
   "source": [
    "def train_epoch(model, train_loader, criterion, optimizer, device):\n",
    "    \"\"\"Train for one epoch\"\"\"\n",
    "    model.train()\n",
    "    total_loss = 0\n",
    "    correct = 0\n",
    "    total = 0\n",
    "    \n",
    "    for features, labels in tqdm(train_loader, desc=\"Training\", leave=False):\n",
    "        features, labels = features.to(device), labels.to(device)\n",
    "        labels = labels.squeeze()\n",
    "        \n",
    "        optimizer.zero_grad()\n",
    "        outputs = model(features)\n",
    "        loss = criterion(outputs, labels)\n",
    "        loss.backward()\n",
    "        optimizer.step()\n",
    "        \n",
    "        total_loss += loss.item()\n",
    "        _, predicted = outputs.max(1)\n",
    "        total += labels.size(0)\n",
    "        correct += predicted.eq(labels).sum().item()\n",
    "    \n",
    "    accuracy = 100. * correct / total\n",
    "    avg_loss = total_loss / len(train_loader)\n",
    "    \n",
    "    return avg_loss, accuracy\n",
    "\n",
    "def validate_epoch(model, val_loader, criterion, device):\n",
    "    \"\"\"Validate for one epoch\"\"\"\n",
    "    model.eval()\n",
    "    total_loss = 0\n",
    "    correct = 0\n",
    "    total = 0\n",
    "    \n",
    "    with torch.no_grad():\n",
    "        for features, labels in tqdm(val_loader, desc=\"Validating\", leave=False):\n",
    "            features, labels = features.to(device), labels.to(device)\n",
    "            labels = labels.squeeze()\n",
    "            \n",
    "            outputs = model(features)\n",
    "            loss = criterion(outputs, labels)\n",
    "            \n",
    "            total_loss += loss.item()\n",
    "            _, predicted = outputs.max(1)\n",
    "            total += labels.size(0)\n",
    "            correct += predicted.eq(labels).sum().item()\n",
    "    \n",
    "    accuracy = 100. * correct / total\n",
    "    avg_loss = total_loss / len(val_loader)\n",
    "    \n",
    "    return avg_loss, accuracy\n",
    "\n",
    "def test_model(model, test_loader, device):\n",
    "    \"\"\"Test the model and return detailed metrics\"\"\"\n",
    "    model.eval()\n",
    "    all_predictions = []\n",
    "    all_labels = []\n",
    "    \n",
    "    with torch.no_grad():\n",
    "        for features, labels in tqdm(test_loader, desc=\"Testing\"):\n",
    "            features, labels = features.to(device), labels.to(device)\n",
    "            labels = labels.squeeze()\n",
    "            \n",
    "            outputs = model(features)\n",
    "            _, predicted = outputs.max(1)\n",
    "            \n",
    "            all_predictions.extend(predicted.cpu().numpy())\n",
    "            all_labels.extend(labels.cpu().numpy())\n",
    "    \n",
    "    # Calculate metrics\n",
    "    accuracy = accuracy_score(all_labels, all_predictions)\n",
    "    precision, recall, f1, _ = precision_recall_fscore_support(all_labels, all_predictions, average='binary')\n",
    "    \n",
    "    return accuracy, precision, recall, f1, all_labels, all_predictions\n",
    "\n",
    "print(\"Training functions defined!\")"
   ]
  },
  {
   "cell_type": "code",
   "execution_count": 32,
   "id": "0d4b3707",
   "metadata": {},
   "outputs": [
    {
     "name": "stdout",
     "output_type": "stream",
     "text": [
      "==================================================\n",
      "TRAINING MODEL WITH FRAME FEATURES\n",
      "==================================================\n",
      "Input feature size: 300\n",
      "Number of training batches: 18\n",
      "Starting training...\n"
     ]
    },
    {
     "data": {
      "application/vnd.jupyter.widget-view+json": {
       "model_id": "00e53f2d5cab4998a9940e4b5c86e6f1",
       "version_major": 2,
       "version_minor": 0
      },
      "text/plain": [
       "Training:   0%|          | 0/18 [00:00<?, ?it/s]"
      ]
     },
     "metadata": {},
     "output_type": "display_data"
    },
    {
     "data": {
      "application/vnd.jupyter.widget-view+json": {
       "model_id": "e49662195eb342f7bce22ad9e4b193ca",
       "version_major": 2,
       "version_minor": 0
      },
      "text/plain": [
       "Validating:   0%|          | 0/5 [00:00<?, ?it/s]"
      ]
     },
     "metadata": {},
     "output_type": "display_data"
    },
    {
     "name": "stdout",
     "output_type": "stream",
     "text": [
      "Epoch 0/30:\n",
      "  Train Loss: 0.8485, Train Acc: 45.14%\n",
      "  Val Loss: 0.7480, Val Acc: 44.44%\n"
     ]
    },
    {
     "data": {
      "application/vnd.jupyter.widget-view+json": {
       "model_id": "7b0c8e92d155469c820ee3673cd7fd78",
       "version_major": 2,
       "version_minor": 0
      },
      "text/plain": [
       "Training:   0%|          | 0/18 [00:00<?, ?it/s]"
      ]
     },
     "metadata": {},
     "output_type": "display_data"
    },
    {
     "data": {
      "application/vnd.jupyter.widget-view+json": {
       "model_id": "1b2c8b4ebb0f435087a19afdd4d76bee",
       "version_major": 2,
       "version_minor": 0
      },
      "text/plain": [
       "Validating:   0%|          | 0/5 [00:00<?, ?it/s]"
      ]
     },
     "metadata": {},
     "output_type": "display_data"
    },
    {
     "data": {
      "application/vnd.jupyter.widget-view+json": {
       "model_id": "39a2f3a518d545ddb4be8fce0ebd8997",
       "version_major": 2,
       "version_minor": 0
      },
      "text/plain": [
       "Training:   0%|          | 0/18 [00:00<?, ?it/s]"
      ]
     },
     "metadata": {},
     "output_type": "display_data"
    },
    {
     "data": {
      "application/vnd.jupyter.widget-view+json": {
       "model_id": "52569ce757c54e9ba79f72efb46ce229",
       "version_major": 2,
       "version_minor": 0
      },
      "text/plain": [
       "Validating:   0%|          | 0/5 [00:00<?, ?it/s]"
      ]
     },
     "metadata": {},
     "output_type": "display_data"
    },
    {
     "data": {
      "application/vnd.jupyter.widget-view+json": {
       "model_id": "95826f6efbf545ab81b1066819f851e3",
       "version_major": 2,
       "version_minor": 0
      },
      "text/plain": [
       "Training:   0%|          | 0/18 [00:00<?, ?it/s]"
      ]
     },
     "metadata": {},
     "output_type": "display_data"
    },
    {
     "data": {
      "application/vnd.jupyter.widget-view+json": {
       "model_id": "f476dc82ea2d4f0cba70b63d7af409f3",
       "version_major": 2,
       "version_minor": 0
      },
      "text/plain": [
       "Validating:   0%|          | 0/5 [00:00<?, ?it/s]"
      ]
     },
     "metadata": {},
     "output_type": "display_data"
    },
    {
     "data": {
      "application/vnd.jupyter.widget-view+json": {
       "model_id": "9df71a3da3364b4395c3c5b37a1be78b",
       "version_major": 2,
       "version_minor": 0
      },
      "text/plain": [
       "Training:   0%|          | 0/18 [00:00<?, ?it/s]"
      ]
     },
     "metadata": {},
     "output_type": "display_data"
    },
    {
     "data": {
      "application/vnd.jupyter.widget-view+json": {
       "model_id": "ad6e12b05b23442abc60a09759a37424",
       "version_major": 2,
       "version_minor": 0
      },
      "text/plain": [
       "Validating:   0%|          | 0/5 [00:00<?, ?it/s]"
      ]
     },
     "metadata": {},
     "output_type": "display_data"
    },
    {
     "data": {
      "application/vnd.jupyter.widget-view+json": {
       "model_id": "6a999f1b001a4c809bac2fbbd6ca811a",
       "version_major": 2,
       "version_minor": 0
      },
      "text/plain": [
       "Training:   0%|          | 0/18 [00:00<?, ?it/s]"
      ]
     },
     "metadata": {},
     "output_type": "display_data"
    },
    {
     "data": {
      "application/vnd.jupyter.widget-view+json": {
       "model_id": "fab173e8375947d68406eb653dac6d9d",
       "version_major": 2,
       "version_minor": 0
      },
      "text/plain": [
       "Validating:   0%|          | 0/5 [00:00<?, ?it/s]"
      ]
     },
     "metadata": {},
     "output_type": "display_data"
    },
    {
     "name": "stdout",
     "output_type": "stream",
     "text": [
      "Epoch 5/30:\n",
      "  Train Loss: 0.7240, Train Acc: 53.82%\n",
      "  Val Loss: 96.3514, Val Acc: 50.00%\n"
     ]
    },
    {
     "data": {
      "application/vnd.jupyter.widget-view+json": {
       "model_id": "6fd130728f7f4f75b6bc4d58e0630000",
       "version_major": 2,
       "version_minor": 0
      },
      "text/plain": [
       "Training:   0%|          | 0/18 [00:00<?, ?it/s]"
      ]
     },
     "metadata": {},
     "output_type": "display_data"
    },
    {
     "data": {
      "application/vnd.jupyter.widget-view+json": {
       "model_id": "63b5227ab1ba4290bdd5162cb9c82d9a",
       "version_major": 2,
       "version_minor": 0
      },
      "text/plain": [
       "Validating:   0%|          | 0/5 [00:00<?, ?it/s]"
      ]
     },
     "metadata": {},
     "output_type": "display_data"
    },
    {
     "data": {
      "application/vnd.jupyter.widget-view+json": {
       "model_id": "d5e139a2b8154e1bbb51ef11b8649d3a",
       "version_major": 2,
       "version_minor": 0
      },
      "text/plain": [
       "Training:   0%|          | 0/18 [00:00<?, ?it/s]"
      ]
     },
     "metadata": {},
     "output_type": "display_data"
    },
    {
     "data": {
      "application/vnd.jupyter.widget-view+json": {
       "model_id": "c83cff9e46cc4a92b2e3a6a51d3852ff",
       "version_major": 2,
       "version_minor": 0
      },
      "text/plain": [
       "Validating:   0%|          | 0/5 [00:00<?, ?it/s]"
      ]
     },
     "metadata": {},
     "output_type": "display_data"
    },
    {
     "data": {
      "application/vnd.jupyter.widget-view+json": {
       "model_id": "9bbe1b8a9a714226af2d7bdbee725511",
       "version_major": 2,
       "version_minor": 0
      },
      "text/plain": [
       "Training:   0%|          | 0/18 [00:00<?, ?it/s]"
      ]
     },
     "metadata": {},
     "output_type": "display_data"
    },
    {
     "data": {
      "application/vnd.jupyter.widget-view+json": {
       "model_id": "fd4625bceb3f47af8f4c12eb9609be5d",
       "version_major": 2,
       "version_minor": 0
      },
      "text/plain": [
       "Validating:   0%|          | 0/5 [00:00<?, ?it/s]"
      ]
     },
     "metadata": {},
     "output_type": "display_data"
    },
    {
     "data": {
      "application/vnd.jupyter.widget-view+json": {
       "model_id": "d52a34e792784fac8803e258a7e5df72",
       "version_major": 2,
       "version_minor": 0
      },
      "text/plain": [
       "Training:   0%|          | 0/18 [00:00<?, ?it/s]"
      ]
     },
     "metadata": {},
     "output_type": "display_data"
    },
    {
     "data": {
      "application/vnd.jupyter.widget-view+json": {
       "model_id": "d150dac8b2114b47ae525823124341e9",
       "version_major": 2,
       "version_minor": 0
      },
      "text/plain": [
       "Validating:   0%|          | 0/5 [00:00<?, ?it/s]"
      ]
     },
     "metadata": {},
     "output_type": "display_data"
    },
    {
     "data": {
      "application/vnd.jupyter.widget-view+json": {
       "model_id": "9d4297b8545d4b3aa6cb6bcb92acacbb",
       "version_major": 2,
       "version_minor": 0
      },
      "text/plain": [
       "Training:   0%|          | 0/18 [00:00<?, ?it/s]"
      ]
     },
     "metadata": {},
     "output_type": "display_data"
    },
    {
     "data": {
      "application/vnd.jupyter.widget-view+json": {
       "model_id": "a6f447ffaa594e4aa32a1030bcb44007",
       "version_major": 2,
       "version_minor": 0
      },
      "text/plain": [
       "Validating:   0%|          | 0/5 [00:00<?, ?it/s]"
      ]
     },
     "metadata": {},
     "output_type": "display_data"
    },
    {
     "name": "stdout",
     "output_type": "stream",
     "text": [
      "Epoch 10/30:\n",
      "  Train Loss: 0.7159, Train Acc: 48.61%\n",
      "  Val Loss: 0.7150, Val Acc: 65.28%\n"
     ]
    },
    {
     "data": {
      "application/vnd.jupyter.widget-view+json": {
       "model_id": "d42b53fe19ca45ba97c5061b5c1e2985",
       "version_major": 2,
       "version_minor": 0
      },
      "text/plain": [
       "Training:   0%|          | 0/18 [00:00<?, ?it/s]"
      ]
     },
     "metadata": {},
     "output_type": "display_data"
    },
    {
     "data": {
      "application/vnd.jupyter.widget-view+json": {
       "model_id": "f692d54f2542405b9e26e967a7a42791",
       "version_major": 2,
       "version_minor": 0
      },
      "text/plain": [
       "Validating:   0%|          | 0/5 [00:00<?, ?it/s]"
      ]
     },
     "metadata": {},
     "output_type": "display_data"
    },
    {
     "data": {
      "application/vnd.jupyter.widget-view+json": {
       "model_id": "97f6062d7b484cff8bac0ab988e72260",
       "version_major": 2,
       "version_minor": 0
      },
      "text/plain": [
       "Training:   0%|          | 0/18 [00:00<?, ?it/s]"
      ]
     },
     "metadata": {},
     "output_type": "display_data"
    },
    {
     "data": {
      "application/vnd.jupyter.widget-view+json": {
       "model_id": "023726f167e848ddbc4b064cece513ad",
       "version_major": 2,
       "version_minor": 0
      },
      "text/plain": [
       "Validating:   0%|          | 0/5 [00:00<?, ?it/s]"
      ]
     },
     "metadata": {},
     "output_type": "display_data"
    },
    {
     "data": {
      "application/vnd.jupyter.widget-view+json": {
       "model_id": "cd1fdc7224294ff6993b4e3bcf9ae8bb",
       "version_major": 2,
       "version_minor": 0
      },
      "text/plain": [
       "Training:   0%|          | 0/18 [00:00<?, ?it/s]"
      ]
     },
     "metadata": {},
     "output_type": "display_data"
    },
    {
     "data": {
      "application/vnd.jupyter.widget-view+json": {
       "model_id": "6ae158b29fc14b199f67d7be3c490a8d",
       "version_major": 2,
       "version_minor": 0
      },
      "text/plain": [
       "Validating:   0%|          | 0/5 [00:00<?, ?it/s]"
      ]
     },
     "metadata": {},
     "output_type": "display_data"
    },
    {
     "data": {
      "application/vnd.jupyter.widget-view+json": {
       "model_id": "ca8487516eea47829ae02491036e858c",
       "version_major": 2,
       "version_minor": 0
      },
      "text/plain": [
       "Training:   0%|          | 0/18 [00:00<?, ?it/s]"
      ]
     },
     "metadata": {},
     "output_type": "display_data"
    },
    {
     "data": {
      "application/vnd.jupyter.widget-view+json": {
       "model_id": "c9ffc076b94049c79b9a2da2b5f42f8f",
       "version_major": 2,
       "version_minor": 0
      },
      "text/plain": [
       "Validating:   0%|          | 0/5 [00:00<?, ?it/s]"
      ]
     },
     "metadata": {},
     "output_type": "display_data"
    },
    {
     "data": {
      "application/vnd.jupyter.widget-view+json": {
       "model_id": "1d74170f2af24a0cb39eb99ff30cc330",
       "version_major": 2,
       "version_minor": 0
      },
      "text/plain": [
       "Training:   0%|          | 0/18 [00:00<?, ?it/s]"
      ]
     },
     "metadata": {},
     "output_type": "display_data"
    },
    {
     "data": {
      "application/vnd.jupyter.widget-view+json": {
       "model_id": "5c35a27604c543398a11d6e78a54cd85",
       "version_major": 2,
       "version_minor": 0
      },
      "text/plain": [
       "Validating:   0%|          | 0/5 [00:00<?, ?it/s]"
      ]
     },
     "metadata": {},
     "output_type": "display_data"
    },
    {
     "name": "stdout",
     "output_type": "stream",
     "text": [
      "Epoch 15/30:\n",
      "  Train Loss: 0.6763, Train Acc: 56.94%\n",
      "  Val Loss: 0.8711, Val Acc: 54.17%\n"
     ]
    },
    {
     "data": {
      "application/vnd.jupyter.widget-view+json": {
       "model_id": "987af5b427ea4c12bd094b687df32ba3",
       "version_major": 2,
       "version_minor": 0
      },
      "text/plain": [
       "Training:   0%|          | 0/18 [00:00<?, ?it/s]"
      ]
     },
     "metadata": {},
     "output_type": "display_data"
    },
    {
     "data": {
      "application/vnd.jupyter.widget-view+json": {
       "model_id": "9731a7736e944137b65b4ee8c5b57ef4",
       "version_major": 2,
       "version_minor": 0
      },
      "text/plain": [
       "Validating:   0%|          | 0/5 [00:00<?, ?it/s]"
      ]
     },
     "metadata": {},
     "output_type": "display_data"
    },
    {
     "data": {
      "application/vnd.jupyter.widget-view+json": {
       "model_id": "22e7f303500d406a962fd99cefd979d3",
       "version_major": 2,
       "version_minor": 0
      },
      "text/plain": [
       "Training:   0%|          | 0/18 [00:00<?, ?it/s]"
      ]
     },
     "metadata": {},
     "output_type": "display_data"
    },
    {
     "data": {
      "application/vnd.jupyter.widget-view+json": {
       "model_id": "c6d72129937c4a09a63d87f1835dee21",
       "version_major": 2,
       "version_minor": 0
      },
      "text/plain": [
       "Validating:   0%|          | 0/5 [00:00<?, ?it/s]"
      ]
     },
     "metadata": {},
     "output_type": "display_data"
    },
    {
     "data": {
      "application/vnd.jupyter.widget-view+json": {
       "model_id": "243d403f5dc14cb4b3ababb5aeeee3f7",
       "version_major": 2,
       "version_minor": 0
      },
      "text/plain": [
       "Training:   0%|          | 0/18 [00:00<?, ?it/s]"
      ]
     },
     "metadata": {},
     "output_type": "display_data"
    },
    {
     "data": {
      "application/vnd.jupyter.widget-view+json": {
       "model_id": "752910f1482e42a9891a75d5b751c787",
       "version_major": 2,
       "version_minor": 0
      },
      "text/plain": [
       "Validating:   0%|          | 0/5 [00:00<?, ?it/s]"
      ]
     },
     "metadata": {},
     "output_type": "display_data"
    },
    {
     "data": {
      "application/vnd.jupyter.widget-view+json": {
       "model_id": "68585cb0736b48f8b0c0c3bd280f10f2",
       "version_major": 2,
       "version_minor": 0
      },
      "text/plain": [
       "Training:   0%|          | 0/18 [00:00<?, ?it/s]"
      ]
     },
     "metadata": {},
     "output_type": "display_data"
    },
    {
     "data": {
      "application/vnd.jupyter.widget-view+json": {
       "model_id": "843f0031567e472594874693c30112bd",
       "version_major": 2,
       "version_minor": 0
      },
      "text/plain": [
       "Validating:   0%|          | 0/5 [00:00<?, ?it/s]"
      ]
     },
     "metadata": {},
     "output_type": "display_data"
    },
    {
     "data": {
      "application/vnd.jupyter.widget-view+json": {
       "model_id": "7cb6de15736d49c6af7cbabf9a03a1ee",
       "version_major": 2,
       "version_minor": 0
      },
      "text/plain": [
       "Training:   0%|          | 0/18 [00:00<?, ?it/s]"
      ]
     },
     "metadata": {},
     "output_type": "display_data"
    },
    {
     "data": {
      "application/vnd.jupyter.widget-view+json": {
       "model_id": "ab0b0cdf90544e4886660b469404baad",
       "version_major": 2,
       "version_minor": 0
      },
      "text/plain": [
       "Validating:   0%|          | 0/5 [00:00<?, ?it/s]"
      ]
     },
     "metadata": {},
     "output_type": "display_data"
    },
    {
     "name": "stdout",
     "output_type": "stream",
     "text": [
      "Epoch 20/30:\n",
      "  Train Loss: 0.6915, Train Acc: 56.25%\n",
      "  Val Loss: 0.6896, Val Acc: 58.33%\n"
     ]
    },
    {
     "data": {
      "application/vnd.jupyter.widget-view+json": {
       "model_id": "a079014598e94ba48b0e037a48c30145",
       "version_major": 2,
       "version_minor": 0
      },
      "text/plain": [
       "Training:   0%|          | 0/18 [00:00<?, ?it/s]"
      ]
     },
     "metadata": {},
     "output_type": "display_data"
    },
    {
     "data": {
      "application/vnd.jupyter.widget-view+json": {
       "model_id": "c5693c62d1ca49dea6162e5b1ca80f9a",
       "version_major": 2,
       "version_minor": 0
      },
      "text/plain": [
       "Validating:   0%|          | 0/5 [00:00<?, ?it/s]"
      ]
     },
     "metadata": {},
     "output_type": "display_data"
    },
    {
     "data": {
      "application/vnd.jupyter.widget-view+json": {
       "model_id": "7a7814d0bd2a4d72a44a86ece09be33a",
       "version_major": 2,
       "version_minor": 0
      },
      "text/plain": [
       "Training:   0%|          | 0/18 [00:00<?, ?it/s]"
      ]
     },
     "metadata": {},
     "output_type": "display_data"
    },
    {
     "data": {
      "application/vnd.jupyter.widget-view+json": {
       "model_id": "aeab9ecb4f0c4ee38d85fe0e121071de",
       "version_major": 2,
       "version_minor": 0
      },
      "text/plain": [
       "Validating:   0%|          | 0/5 [00:00<?, ?it/s]"
      ]
     },
     "metadata": {},
     "output_type": "display_data"
    },
    {
     "data": {
      "application/vnd.jupyter.widget-view+json": {
       "model_id": "497bf48126224f67a16a78e6baf4e6fa",
       "version_major": 2,
       "version_minor": 0
      },
      "text/plain": [
       "Training:   0%|          | 0/18 [00:00<?, ?it/s]"
      ]
     },
     "metadata": {},
     "output_type": "display_data"
    },
    {
     "data": {
      "application/vnd.jupyter.widget-view+json": {
       "model_id": "e18158a128504dd0beef440d238e7321",
       "version_major": 2,
       "version_minor": 0
      },
      "text/plain": [
       "Validating:   0%|          | 0/5 [00:00<?, ?it/s]"
      ]
     },
     "metadata": {},
     "output_type": "display_data"
    },
    {
     "data": {
      "application/vnd.jupyter.widget-view+json": {
       "model_id": "6b8af56e3a74444590d749694807ac7d",
       "version_major": 2,
       "version_minor": 0
      },
      "text/plain": [
       "Training:   0%|          | 0/18 [00:00<?, ?it/s]"
      ]
     },
     "metadata": {},
     "output_type": "display_data"
    },
    {
     "data": {
      "application/vnd.jupyter.widget-view+json": {
       "model_id": "f4f7ab28c8c34369968fbb496f365ef0",
       "version_major": 2,
       "version_minor": 0
      },
      "text/plain": [
       "Validating:   0%|          | 0/5 [00:00<?, ?it/s]"
      ]
     },
     "metadata": {},
     "output_type": "display_data"
    },
    {
     "data": {
      "application/vnd.jupyter.widget-view+json": {
       "model_id": "9f807f62229242d0b8c5836a037cdc3c",
       "version_major": 2,
       "version_minor": 0
      },
      "text/plain": [
       "Training:   0%|          | 0/18 [00:00<?, ?it/s]"
      ]
     },
     "metadata": {},
     "output_type": "display_data"
    },
    {
     "data": {
      "application/vnd.jupyter.widget-view+json": {
       "model_id": "84689f890cd4438eaa821e075b677d5b",
       "version_major": 2,
       "version_minor": 0
      },
      "text/plain": [
       "Validating:   0%|          | 0/5 [00:00<?, ?it/s]"
      ]
     },
     "metadata": {},
     "output_type": "display_data"
    },
    {
     "name": "stdout",
     "output_type": "stream",
     "text": [
      "Epoch 25/30:\n",
      "  Train Loss: 0.6823, Train Acc: 56.25%\n",
      "  Val Loss: 0.6717, Val Acc: 61.11%\n"
     ]
    },
    {
     "data": {
      "application/vnd.jupyter.widget-view+json": {
       "model_id": "c1b7d57990354f10ab4eec8436ec2234",
       "version_major": 2,
       "version_minor": 0
      },
      "text/plain": [
       "Training:   0%|          | 0/18 [00:00<?, ?it/s]"
      ]
     },
     "metadata": {},
     "output_type": "display_data"
    },
    {
     "data": {
      "application/vnd.jupyter.widget-view+json": {
       "model_id": "11ef0916f21946b389521a80a193d5bb",
       "version_major": 2,
       "version_minor": 0
      },
      "text/plain": [
       "Validating:   0%|          | 0/5 [00:00<?, ?it/s]"
      ]
     },
     "metadata": {},
     "output_type": "display_data"
    },
    {
     "data": {
      "application/vnd.jupyter.widget-view+json": {
       "model_id": "a3e0d3b442cc44f5be3b8475c4211485",
       "version_major": 2,
       "version_minor": 0
      },
      "text/plain": [
       "Training:   0%|          | 0/18 [00:00<?, ?it/s]"
      ]
     },
     "metadata": {},
     "output_type": "display_data"
    },
    {
     "data": {
      "application/vnd.jupyter.widget-view+json": {
       "model_id": "023b85cd91d541319ff54d0623f242ab",
       "version_major": 2,
       "version_minor": 0
      },
      "text/plain": [
       "Validating:   0%|          | 0/5 [00:00<?, ?it/s]"
      ]
     },
     "metadata": {},
     "output_type": "display_data"
    },
    {
     "data": {
      "application/vnd.jupyter.widget-view+json": {
       "model_id": "f067ad170d4949bea2cb52c838a36212",
       "version_major": 2,
       "version_minor": 0
      },
      "text/plain": [
       "Training:   0%|          | 0/18 [00:00<?, ?it/s]"
      ]
     },
     "metadata": {},
     "output_type": "display_data"
    },
    {
     "data": {
      "application/vnd.jupyter.widget-view+json": {
       "model_id": "3c1ef3668066461190525f53c4e6255e",
       "version_major": 2,
       "version_minor": 0
      },
      "text/plain": [
       "Validating:   0%|          | 0/5 [00:00<?, ?it/s]"
      ]
     },
     "metadata": {},
     "output_type": "display_data"
    },
    {
     "data": {
      "application/vnd.jupyter.widget-view+json": {
       "model_id": "c3668868c06d4fa7bc018416ec562631",
       "version_major": 2,
       "version_minor": 0
      },
      "text/plain": [
       "Training:   0%|          | 0/18 [00:00<?, ?it/s]"
      ]
     },
     "metadata": {},
     "output_type": "display_data"
    },
    {
     "data": {
      "application/vnd.jupyter.widget-view+json": {
       "model_id": "01f51eb7908c49d39a0b8903e51b15a3",
       "version_major": 2,
       "version_minor": 0
      },
      "text/plain": [
       "Validating:   0%|          | 0/5 [00:00<?, ?it/s]"
      ]
     },
     "metadata": {},
     "output_type": "display_data"
    },
    {
     "name": "stdout",
     "output_type": "stream",
     "text": [
      "Best validation accuracy: 65.28%\n"
     ]
    },
    {
     "data": {
      "application/vnd.jupyter.widget-view+json": {
       "model_id": "19a6a21ecbf540c0beef61d0fdca0ac0",
       "version_major": 2,
       "version_minor": 0
      },
      "text/plain": [
       "Testing:   0%|          | 0/3 [00:00<?, ?it/s]"
      ]
     },
     "metadata": {},
     "output_type": "display_data"
    },
    {
     "name": "stdout",
     "output_type": "stream",
     "text": [
      "\n",
      "Frame Features Model Test Results:\n",
      "Accuracy: 0.5000\n",
      "Precision: 0.5000\n",
      "Recall: 0.6000\n",
      "F1-Score: 0.5455\n"
     ]
    }
   ],
   "source": [
    "print(\"=\"*50)\n",
    "print(\"TRAINING MODEL WITH FRAME FEATURES\")\n",
    "print(\"=\"*50)\n",
    "\n",
    "# Create datasets\n",
    "train_dataset = DeepfakeDataset(train_split, feature_type='frame_features')\n",
    "val_dataset = DeepfakeDataset(val_split, feature_type='frame_features')\n",
    "test_dataset = DeepfakeDataset(test_data, feature_type='frame_features')\n",
    "\n",
    "# Create data loaders\n",
    "batch_size = 16  # Small batch size for small dataset\n",
    "train_loader = DataLoader(train_dataset, batch_size=batch_size, shuffle=True)\n",
    "val_loader = DataLoader(val_dataset, batch_size=batch_size, shuffle=False)\n",
    "test_loader = DataLoader(test_dataset, batch_size=batch_size, shuffle=False)\n",
    "\n",
    "# Get input size\n",
    "input_size = train_dataset[0][0].shape[0]\n",
    "print(f\"Input feature size: {input_size}\")\n",
    "print(f\"Number of training batches: {len(train_loader)}\")\n",
    "\n",
    "# Create model\n",
    "model_frame = DeepfakeDetectionModel(input_size).to(DEVICE)\n",
    "criterion = nn.CrossEntropyLoss()\n",
    "optimizer = optim.Adam(model_frame.parameters(), lr=0.001, weight_decay=1e-5)\n",
    "scheduler = optim.lr_scheduler.StepLR(optimizer, step_size=10, gamma=0.5)\n",
    "\n",
    "# Training loop\n",
    "epochs = 30\n",
    "train_losses = []\n",
    "val_losses = []\n",
    "train_accuracies = []\n",
    "val_accuracies = []\n",
    "best_val_acc = 0\n",
    "\n",
    "print(\"Starting training...\")\n",
    "for epoch in range(epochs):\n",
    "    train_loss, train_acc = train_epoch(model_frame, train_loader, criterion, optimizer, DEVICE)\n",
    "    val_loss, val_acc = validate_epoch(model_frame, val_loader, criterion, DEVICE)\n",
    "    \n",
    "    train_losses.append(train_loss)\n",
    "    val_losses.append(val_loss)\n",
    "    train_accuracies.append(train_acc)\n",
    "    val_accuracies.append(val_acc)\n",
    "    \n",
    "    scheduler.step()\n",
    "    \n",
    "    if val_acc > best_val_acc:\n",
    "        best_val_acc = val_acc\n",
    "        torch.save(model_frame.state_dict(), f'{OUTPUT_DIR}/best_frame_model.pth')\n",
    "    \n",
    "    if epoch % 5 == 0:\n",
    "        print(f'Epoch {epoch}/{epochs}:')\n",
    "        print(f'  Train Loss: {train_loss:.4f}, Train Acc: {train_acc:.2f}%')\n",
    "        print(f'  Val Loss: {val_loss:.4f}, Val Acc: {val_acc:.2f}%')\n",
    "\n",
    "print(f'Best validation accuracy: {best_val_acc:.2f}%')\n",
    "\n",
    "# Test the model\n",
    "accuracy, precision, recall, f1, true_labels, predictions = test_model(model_frame, test_loader, DEVICE)\n",
    "\n",
    "print(f\"\\nFrame Features Model Test Results:\")\n",
    "print(f\"Accuracy: {accuracy:.4f}\")\n",
    "print(f\"Precision: {precision:.4f}\")\n",
    "print(f\"Recall: {recall:.4f}\")\n",
    "print(f\"F1-Score: {f1:.4f}\")\n",
    "\n",
    "# Store results\n",
    "frame_results = {\n",
    "    'accuracy': accuracy,\n",
    "    'precision': precision,\n",
    "    'recall': recall,\n",
    "    'f1': f1,\n",
    "    'train_losses': train_losses,\n",
    "    'val_losses': val_losses,\n",
    "    'train_accuracies': train_accuracies,\n",
    "    'val_accuracies': val_accuracies\n",
    "}"
   ]
  },
  {
   "cell_type": "code",
   "execution_count": 33,
   "id": "f16ccbda",
   "metadata": {},
   "outputs": [
    {
     "data": {
      "image/png": "[encoded data removed]",
      "text/plain": [
       "<Figure size 1500x500 with 2 Axes>"
      ]
     },
     "metadata": {},
     "output_type": "display_data"
    },
    {
     "data": {
      "image/png": "[encoded data removed]",
      "text/plain": [
       "<Figure size 800x600 with 2 Axes>"
      ]
     },
     "metadata": {},
     "output_type": "display_data"
    }
   ],
   "source": [
    "# Plot training history for frame model\n",
    "fig, (ax1, ax2) = plt.subplots(1, 2, figsize=(15, 5))\n",
    "\n",
    "# Loss plot\n",
    "ax1.plot(frame_results['train_losses'], label='Train Loss', color='blue')\n",
    "ax1.plot(frame_results['val_losses'], label='Validation Loss', color='red')\n",
    "ax1.set_title('Frame Features Model - Training and Validation Loss')\n",
    "ax1.set_xlabel('Epoch')\n",
    "ax1.set_ylabel('Loss')\n",
    "ax1.legend()\n",
    "ax1.grid(True)\n",
    "\n",
    "# Accuracy plot\n",
    "ax2.plot(frame_results['train_accuracies'], label='Train Accuracy', color='blue')\n",
    "ax2.plot(frame_results['val_accuracies'], label='Validation Accuracy', color='red')\n",
    "ax2.set_title('Frame Features Model - Training and Validation Accuracy')\n",
    "ax2.set_xlabel('Epoch')\n",
    "ax2.set_ylabel('Accuracy (%)')\n",
    "ax2.legend()\n",
    "ax2.grid(True)\n",
    "\n",
    "plt.tight_layout()\n",
    "plt.show()\n",
    "\n",
    "# Confusion Matrix\n",
    "cm = confusion_matrix(true_labels, predictions)\n",
    "plt.figure(figsize=(8, 6))\n",
    "sns.heatmap(cm, annot=True, fmt='d', cmap='Blues', \n",
    "           xticklabels=['Real', 'Fake'], yticklabels=['Real', 'Fake'])\n",
    "plt.title('Frame Features Model - Confusion Matrix')\n",
    "plt.ylabel('True Label')\n",
    "plt.xlabel('Predicted Label')\n",
    "plt.show()"
   ]
  },
  {
   "cell_type": "code",
   "execution_count": 35,
   "id": "fbaa6f31",
   "metadata": {},
   "outputs": [
    {
     "name": "stdout",
     "output_type": "stream",
     "text": [
      "==================================================\n",
      "TRAINING MODEL WITH TEMPORAL FEATURES\n",
      "==================================================\n",
      "Input feature size (temporal): 50\n",
      "Starting training (temporal features)...\n"
     ]
    },
    {
     "data": {
      "application/vnd.jupyter.widget-view+json": {
       "model_id": "b796de9b85184fea9d3607700a9b0a28",
       "version_major": 2,
       "version_minor": 0
      },
      "text/plain": [
       "Training:   0%|          | 0/18 [00:00<?, ?it/s]"
      ]
     },
     "metadata": {},
     "output_type": "display_data"
    },
    {
     "data": {
      "application/vnd.jupyter.widget-view+json": {
       "model_id": "6159e5ec7d1a4d4ab476bcff186f3773",
       "version_major": 2,
       "version_minor": 0
      },
      "text/plain": [
       "Validating:   0%|          | 0/5 [00:00<?, ?it/s]"
      ]
     },
     "metadata": {},
     "output_type": "display_data"
    },
    {
     "name": "stdout",
     "output_type": "stream",
     "text": [
      "Epoch 0/30:\n",
      "  Train Loss: 0.7763, Train Acc: 48.96%\n",
      "  Val Loss: 0.6819, Val Acc: 50.00%\n"
     ]
    },
    {
     "data": {
      "application/vnd.jupyter.widget-view+json": {
       "model_id": "c1f1e6cf5da548ca8c03588b622505dc",
       "version_major": 2,
       "version_minor": 0
      },
      "text/plain": [
       "Training:   0%|          | 0/18 [00:00<?, ?it/s]"
      ]
     },
     "metadata": {},
     "output_type": "display_data"
    },
    {
     "data": {
      "application/vnd.jupyter.widget-view+json": {
       "model_id": "e044175955d247349c1b3b9f120ca943",
       "version_major": 2,
       "version_minor": 0
      },
      "text/plain": [
       "Validating:   0%|          | 0/5 [00:00<?, ?it/s]"
      ]
     },
     "metadata": {},
     "output_type": "display_data"
    },
    {
     "data": {
      "application/vnd.jupyter.widget-view+json": {
       "model_id": "6694b8a3e12742c8a2ca59c168e7294e",
       "version_major": 2,
       "version_minor": 0
      },
      "text/plain": [
       "Training:   0%|          | 0/18 [00:00<?, ?it/s]"
      ]
     },
     "metadata": {},
     "output_type": "display_data"
    },
    {
     "data": {
      "application/vnd.jupyter.widget-view+json": {
       "model_id": "d2227498399a48c79682680c3ac3b6e3",
       "version_major": 2,
       "version_minor": 0
      },
      "text/plain": [
       "Validating:   0%|          | 0/5 [00:00<?, ?it/s]"
      ]
     },
     "metadata": {},
     "output_type": "display_data"
    },
    {
     "data": {
      "application/vnd.jupyter.widget-view+json": {
       "model_id": "ed9a3be60ca043f5997ef3ebe960eb91",
       "version_major": 2,
       "version_minor": 0
      },
      "text/plain": [
       "Training:   0%|          | 0/18 [00:00<?, ?it/s]"
      ]
     },
     "metadata": {},
     "output_type": "display_data"
    },
    {
     "data": {
      "application/vnd.jupyter.widget-view+json": {
       "model_id": "80c5e3cd7ac14b7388e570821387c170",
       "version_major": 2,
       "version_minor": 0
      },
      "text/plain": [
       "Validating:   0%|          | 0/5 [00:00<?, ?it/s]"
      ]
     },
     "metadata": {},
     "output_type": "display_data"
    },
    {
     "data": {
      "application/vnd.jupyter.widget-view+json": {
       "model_id": "b51b18f6c5784f26ab6c748089a38356",
       "version_major": 2,
       "version_minor": 0
      },
      "text/plain": [
       "Training:   0%|          | 0/18 [00:00<?, ?it/s]"
      ]
     },
     "metadata": {},
     "output_type": "display_data"
    },
    {
     "data": {
      "application/vnd.jupyter.widget-view+json": {
       "model_id": "0590d285619e466c90f043267333b93b",
       "version_major": 2,
       "version_minor": 0
      },
      "text/plain": [
       "Validating:   0%|          | 0/5 [00:00<?, ?it/s]"
      ]
     },
     "metadata": {},
     "output_type": "display_data"
    },
    {
     "data": {
      "application/vnd.jupyter.widget-view+json": {
       "model_id": "8a26ba23405a494fa6fded535928d0b1",
       "version_major": 2,
       "version_minor": 0
      },
      "text/plain": [
       "Training:   0%|          | 0/18 [00:00<?, ?it/s]"
      ]
     },
     "metadata": {},
     "output_type": "display_data"
    },
    {
     "data": {
      "application/vnd.jupyter.widget-view+json": {
       "model_id": "7c85817c2b46406fbcc55362b28778a2",
       "version_major": 2,
       "version_minor": 0
      },
      "text/plain": [
       "Validating:   0%|          | 0/5 [00:00<?, ?it/s]"
      ]
     },
     "metadata": {},
     "output_type": "display_data"
    },
    {
     "name": "stdout",
     "output_type": "stream",
     "text": [
      "Epoch 5/30:\n",
      "  Train Loss: 0.7130, Train Acc: 51.39%\n",
      "  Val Loss: 0.6316, Val Acc: 56.94%\n"
     ]
    },
    {
     "data": {
      "application/vnd.jupyter.widget-view+json": {
       "model_id": "9fd745c9e4cd4fb5bcb7aea4c1c32daf",
       "version_major": 2,
       "version_minor": 0
      },
      "text/plain": [
       "Training:   0%|          | 0/18 [00:00<?, ?it/s]"
      ]
     },
     "metadata": {},
     "output_type": "display_data"
    },
    {
     "data": {
      "application/vnd.jupyter.widget-view+json": {
       "model_id": "afb40c48f1a0435dbd6e26d685b812e4",
       "version_major": 2,
       "version_minor": 0
      },
      "text/plain": [
       "Validating:   0%|          | 0/5 [00:00<?, ?it/s]"
      ]
     },
     "metadata": {},
     "output_type": "display_data"
    },
    {
     "data": {
      "application/vnd.jupyter.widget-view+json": {
       "model_id": "37206abfb6614e329ca86aa3fda7efdf",
       "version_major": 2,
       "version_minor": 0
      },
      "text/plain": [
       "Training:   0%|          | 0/18 [00:00<?, ?it/s]"
      ]
     },
     "metadata": {},
     "output_type": "display_data"
    },
    {
     "data": {
      "application/vnd.jupyter.widget-view+json": {
       "model_id": "9a6402b5808a4f8b983b51d86ce5c6ac",
       "version_major": 2,
       "version_minor": 0
      },
      "text/plain": [
       "Validating:   0%|          | 0/5 [00:00<?, ?it/s]"
      ]
     },
     "metadata": {},
     "output_type": "display_data"
    },
    {
     "data": {
      "application/vnd.jupyter.widget-view+json": {
       "model_id": "3ceb335ff50949f49b6e420b488bd46b",
       "version_major": 2,
       "version_minor": 0
      },
      "text/plain": [
       "Training:   0%|          | 0/18 [00:00<?, ?it/s]"
      ]
     },
     "metadata": {},
     "output_type": "display_data"
    },
    {
     "data": {
      "application/vnd.jupyter.widget-view+json": {
       "model_id": "0adee2d777c240c9b9c9eb590115c182",
       "version_major": 2,
       "version_minor": 0
      },
      "text/plain": [
       "Validating:   0%|          | 0/5 [00:00<?, ?it/s]"
      ]
     },
     "metadata": {},
     "output_type": "display_data"
    },
    {
     "data": {
      "application/vnd.jupyter.widget-view+json": {
       "model_id": "b98f5e737fa54f73846fbdb1e7fc9310",
       "version_major": 2,
       "version_minor": 0
      },
      "text/plain": [
       "Training:   0%|          | 0/18 [00:00<?, ?it/s]"
      ]
     },
     "metadata": {},
     "output_type": "display_data"
    },
    {
     "data": {
      "application/vnd.jupyter.widget-view+json": {
       "model_id": "ebd099e7666e4c4888b50e54626b6ed2",
       "version_major": 2,
       "version_minor": 0
      },
      "text/plain": [
       "Validating:   0%|          | 0/5 [00:00<?, ?it/s]"
      ]
     },
     "metadata": {},
     "output_type": "display_data"
    },
    {
     "data": {
      "application/vnd.jupyter.widget-view+json": {
       "model_id": "b72bf7584d00447fb2b91c5861f00ba3",
       "version_major": 2,
       "version_minor": 0
      },
      "text/plain": [
       "Training:   0%|          | 0/18 [00:00<?, ?it/s]"
      ]
     },
     "metadata": {},
     "output_type": "display_data"
    },
    {
     "data": {
      "application/vnd.jupyter.widget-view+json": {
       "model_id": "dd9fd4189a3b4bdc8bf6e92cdd795762",
       "version_major": 2,
       "version_minor": 0
      },
      "text/plain": [
       "Validating:   0%|          | 0/5 [00:00<?, ?it/s]"
      ]
     },
     "metadata": {},
     "output_type": "display_data"
    },
    {
     "name": "stdout",
     "output_type": "stream",
     "text": [
      "Epoch 10/30:\n",
      "  Train Loss: 0.6632, Train Acc: 54.86%\n",
      "  Val Loss: 0.6360, Val Acc: 59.72%\n"
     ]
    },
    {
     "data": {
      "application/vnd.jupyter.widget-view+json": {
       "model_id": "035588a921a8493c817ddcbc3ac56bce",
       "version_major": 2,
       "version_minor": 0
      },
      "text/plain": [
       "Training:   0%|          | 0/18 [00:00<?, ?it/s]"
      ]
     },
     "metadata": {},
     "output_type": "display_data"
    },
    {
     "data": {
      "application/vnd.jupyter.widget-view+json": {
       "model_id": "72ec7dd696b54ca5bcdf59188591bced",
       "version_major": 2,
       "version_minor": 0
      },
      "text/plain": [
       "Validating:   0%|          | 0/5 [00:00<?, ?it/s]"
      ]
     },
     "metadata": {},
     "output_type": "display_data"
    },
    {
     "data": {
      "application/vnd.jupyter.widget-view+json": {
       "model_id": "dcb491cce55847e8bdee1a19c9dad1bc",
       "version_major": 2,
       "version_minor": 0
      },
      "text/plain": [
       "Training:   0%|          | 0/18 [00:00<?, ?it/s]"
      ]
     },
     "metadata": {},
     "output_type": "display_data"
    },
    {
     "data": {
      "application/vnd.jupyter.widget-view+json": {
       "model_id": "1d56477c17ac46b8bf0a0b62877e5950",
       "version_major": 2,
       "version_minor": 0
      },
      "text/plain": [
       "Validating:   0%|          | 0/5 [00:00<?, ?it/s]"
      ]
     },
     "metadata": {},
     "output_type": "display_data"
    },
    {
     "data": {
      "application/vnd.jupyter.widget-view+json": {
       "model_id": "5676931693554e30a42ae0ec08c86e60",
       "version_major": 2,
       "version_minor": 0
      },
      "text/plain": [
       "Training:   0%|          | 0/18 [00:00<?, ?it/s]"
      ]
     },
     "metadata": {},
     "output_type": "display_data"
    },
    {
     "data": {
      "application/vnd.jupyter.widget-view+json": {
       "model_id": "ba9d2c2e55c24402a52cce722f6b429a",
       "version_major": 2,
       "version_minor": 0
      },
      "text/plain": [
       "Validating:   0%|          | 0/5 [00:00<?, ?it/s]"
      ]
     },
     "metadata": {},
     "output_type": "display_data"
    },
    {
     "data": {
      "application/vnd.jupyter.widget-view+json": {
       "model_id": "fbf8273b4d7244538944af2b10478bb6",
       "version_major": 2,
       "version_minor": 0
      },
      "text/plain": [
       "Training:   0%|          | 0/18 [00:00<?, ?it/s]"
      ]
     },
     "metadata": {},
     "output_type": "display_data"
    },
    {
     "data": {
      "application/vnd.jupyter.widget-view+json": {
       "model_id": "1f8603e6484a426d8613ca47beb02eec",
       "version_major": 2,
       "version_minor": 0
      },
      "text/plain": [
       "Validating:   0%|          | 0/5 [00:00<?, ?it/s]"
      ]
     },
     "metadata": {},
     "output_type": "display_data"
    },
    {
     "data": {
      "application/vnd.jupyter.widget-view+json": {
       "model_id": "51392b3d37694bf09e5ae811c4337432",
       "version_major": 2,
       "version_minor": 0
      },
      "text/plain": [
       "Training:   0%|          | 0/18 [00:00<?, ?it/s]"
      ]
     },
     "metadata": {},
     "output_type": "display_data"
    },
    {
     "data": {
      "application/vnd.jupyter.widget-view+json": {
       "model_id": "c864dd800d1d4f109d3d03dc74d17829",
       "version_major": 2,
       "version_minor": 0
      },
      "text/plain": [
       "Validating:   0%|          | 0/5 [00:00<?, ?it/s]"
      ]
     },
     "metadata": {},
     "output_type": "display_data"
    },
    {
     "name": "stdout",
     "output_type": "stream",
     "text": [
      "Epoch 15/30:\n",
      "  Train Loss: 0.6565, Train Acc: 57.29%\n",
      "  Val Loss: 0.6311, Val Acc: 56.94%\n"
     ]
    },
    {
     "data": {
      "application/vnd.jupyter.widget-view+json": {
       "model_id": "62e424ed6e79494c925fc32a324c4c40",
       "version_major": 2,
       "version_minor": 0
      },
      "text/plain": [
       "Training:   0%|          | 0/18 [00:00<?, ?it/s]"
      ]
     },
     "metadata": {},
     "output_type": "display_data"
    },
    {
     "data": {
      "application/vnd.jupyter.widget-view+json": {
       "model_id": "77e12d39fd3b41bb8e1d3bda63de6671",
       "version_major": 2,
       "version_minor": 0
      },
      "text/plain": [
       "Validating:   0%|          | 0/5 [00:00<?, ?it/s]"
      ]
     },
     "metadata": {},
     "output_type": "display_data"
    },
    {
     "data": {
      "application/vnd.jupyter.widget-view+json": {
       "model_id": "ba45dcf943904dd9a9463fbe63400b0d",
       "version_major": 2,
       "version_minor": 0
      },
      "text/plain": [
       "Training:   0%|          | 0/18 [00:00<?, ?it/s]"
      ]
     },
     "metadata": {},
     "output_type": "display_data"
    },
    {
     "data": {
      "application/vnd.jupyter.widget-view+json": {
       "model_id": "ab9e351c73584ab38fa7b2608c37bcd7",
       "version_major": 2,
       "version_minor": 0
      },
      "text/plain": [
       "Validating:   0%|          | 0/5 [00:00<?, ?it/s]"
      ]
     },
     "metadata": {},
     "output_type": "display_data"
    },
    {
     "data": {
      "application/vnd.jupyter.widget-view+json": {
       "model_id": "d10dd42505004fdf9e2a172f20a93001",
       "version_major": 2,
       "version_minor": 0
      },
      "text/plain": [
       "Training:   0%|          | 0/18 [00:00<?, ?it/s]"
      ]
     },
     "metadata": {},
     "output_type": "display_data"
    },
    {
     "data": {
      "application/vnd.jupyter.widget-view+json": {
       "model_id": "e01565da6a1148a991f8e3d2bd392d31",
       "version_major": 2,
       "version_minor": 0
      },
      "text/plain": [
       "Validating:   0%|          | 0/5 [00:00<?, ?it/s]"
      ]
     },
     "metadata": {},
     "output_type": "display_data"
    },
    {
     "data": {
      "application/vnd.jupyter.widget-view+json": {
       "model_id": "91e237e004034bc98ca61c0d6c0ebd60",
       "version_major": 2,
       "version_minor": 0
      },
      "text/plain": [
       "Training:   0%|          | 0/18 [00:00<?, ?it/s]"
      ]
     },
     "metadata": {},
     "output_type": "display_data"
    },
    {
     "data": {
      "application/vnd.jupyter.widget-view+json": {
       "model_id": "4a2b6d6ad2d04a088053c9c7a417b1d8",
       "version_major": 2,
       "version_minor": 0
      },
      "text/plain": [
       "Validating:   0%|          | 0/5 [00:00<?, ?it/s]"
      ]
     },
     "metadata": {},
     "output_type": "display_data"
    },
    {
     "data": {
      "application/vnd.jupyter.widget-view+json": {
       "model_id": "bb122c8cb458458cbe604b69a0206f0a",
       "version_major": 2,
       "version_minor": 0
      },
      "text/plain": [
       "Training:   0%|          | 0/18 [00:00<?, ?it/s]"
      ]
     },
     "metadata": {},
     "output_type": "display_data"
    },
    {
     "data": {
      "application/vnd.jupyter.widget-view+json": {
       "model_id": "b1a8cb3561eb4d11b2110e5a460cc211",
       "version_major": 2,
       "version_minor": 0
      },
      "text/plain": [
       "Validating:   0%|          | 0/5 [00:00<?, ?it/s]"
      ]
     },
     "metadata": {},
     "output_type": "display_data"
    },
    {
     "name": "stdout",
     "output_type": "stream",
     "text": [
      "Epoch 20/30:\n",
      "  Train Loss: 0.6342, Train Acc: 63.19%\n",
      "  Val Loss: 0.6509, Val Acc: 59.72%\n"
     ]
    },
    {
     "data": {
      "application/vnd.jupyter.widget-view+json": {
       "model_id": "28cceb231ccb4d63b4f7d88fb3235e9a",
       "version_major": 2,
       "version_minor": 0
      },
      "text/plain": [
       "Training:   0%|          | 0/18 [00:00<?, ?it/s]"
      ]
     },
     "metadata": {},
     "output_type": "display_data"
    },
    {
     "data": {
      "application/vnd.jupyter.widget-view+json": {
       "model_id": "00e4020ba42d41a4b98e014e30233c88",
       "version_major": 2,
       "version_minor": 0
      },
      "text/plain": [
       "Validating:   0%|          | 0/5 [00:00<?, ?it/s]"
      ]
     },
     "metadata": {},
     "output_type": "display_data"
    },
    {
     "data": {
      "application/vnd.jupyter.widget-view+json": {
       "model_id": "daa414d6babf46bf805589b2ee3d868b",
       "version_major": 2,
       "version_minor": 0
      },
      "text/plain": [
       "Training:   0%|          | 0/18 [00:00<?, ?it/s]"
      ]
     },
     "metadata": {},
     "output_type": "display_data"
    },
    {
     "data": {
      "application/vnd.jupyter.widget-view+json": {
       "model_id": "fe13e1ddeacc4eaba21ddc94e5477fbb",
       "version_major": 2,
       "version_minor": 0
      },
      "text/plain": [
       "Validating:   0%|          | 0/5 [00:00<?, ?it/s]"
      ]
     },
     "metadata": {},
     "output_type": "display_data"
    },
    {
     "data": {
      "application/vnd.jupyter.widget-view+json": {
       "model_id": "023d14919ef14168ba1d70952017db76",
       "version_major": 2,
       "version_minor": 0
      },
      "text/plain": [
       "Training:   0%|          | 0/18 [00:00<?, ?it/s]"
      ]
     },
     "metadata": {},
     "output_type": "display_data"
    },
    {
     "data": {
      "application/vnd.jupyter.widget-view+json": {
       "model_id": "1e789478f18c4555855f619342e90226",
       "version_major": 2,
       "version_minor": 0
      },
      "text/plain": [
       "Validating:   0%|          | 0/5 [00:00<?, ?it/s]"
      ]
     },
     "metadata": {},
     "output_type": "display_data"
    },
    {
     "data": {
      "application/vnd.jupyter.widget-view+json": {
       "model_id": "df13273ce0694b0bac5c21e9ff2e276c",
       "version_major": 2,
       "version_minor": 0
      },
      "text/plain": [
       "Training:   0%|          | 0/18 [00:00<?, ?it/s]"
      ]
     },
     "metadata": {},
     "output_type": "display_data"
    },
    {
     "data": {
      "application/vnd.jupyter.widget-view+json": {
       "model_id": "13c250b6a06442228cbf0046d53e1eb2",
       "version_major": 2,
       "version_minor": 0
      },
      "text/plain": [
       "Validating:   0%|          | 0/5 [00:00<?, ?it/s]"
      ]
     },
     "metadata": {},
     "output_type": "display_data"
    },
    {
     "data": {
      "application/vnd.jupyter.widget-view+json": {
       "model_id": "fd1b5a7acdb9430d96b787c7663cbc5a",
       "version_major": 2,
       "version_minor": 0
      },
      "text/plain": [
       "Training:   0%|          | 0/18 [00:00<?, ?it/s]"
      ]
     },
     "metadata": {},
     "output_type": "display_data"
    },
    {
     "data": {
      "application/vnd.jupyter.widget-view+json": {
       "model_id": "2974494e4e9f4728b8f192b9b82548e9",
       "version_major": 2,
       "version_minor": 0
      },
      "text/plain": [
       "Validating:   0%|          | 0/5 [00:00<?, ?it/s]"
      ]
     },
     "metadata": {},
     "output_type": "display_data"
    },
    {
     "name": "stdout",
     "output_type": "stream",
     "text": [
      "Epoch 25/30:\n",
      "  Train Loss: 0.6241, Train Acc: 60.76%\n",
      "  Val Loss: 0.6363, Val Acc: 59.72%\n"
     ]
    },
    {
     "data": {
      "application/vnd.jupyter.widget-view+json": {
       "model_id": "15e1ed5011824ca5b749d08a71708726",
       "version_major": 2,
       "version_minor": 0
      },
      "text/plain": [
       "Training:   0%|          | 0/18 [00:00<?, ?it/s]"
      ]
     },
     "metadata": {},
     "output_type": "display_data"
    },
    {
     "data": {
      "application/vnd.jupyter.widget-view+json": {
       "model_id": "52f1f2a982c5484b810180cad1c3b07d",
       "version_major": 2,
       "version_minor": 0
      },
      "text/plain": [
       "Validating:   0%|          | 0/5 [00:00<?, ?it/s]"
      ]
     },
     "metadata": {},
     "output_type": "display_data"
    },
    {
     "data": {
      "application/vnd.jupyter.widget-view+json": {
       "model_id": "d74a8e4e24af43f5897c44bd5cbd350b",
       "version_major": 2,
       "version_minor": 0
      },
      "text/plain": [
       "Training:   0%|          | 0/18 [00:00<?, ?it/s]"
      ]
     },
     "metadata": {},
     "output_type": "display_data"
    },
    {
     "data": {
      "application/vnd.jupyter.widget-view+json": {
       "model_id": "ed0499332c7e406b894e9c27052b0f04",
       "version_major": 2,
       "version_minor": 0
      },
      "text/plain": [
       "Validating:   0%|          | 0/5 [00:00<?, ?it/s]"
      ]
     },
     "metadata": {},
     "output_type": "display_data"
    },
    {
     "data": {
      "application/vnd.jupyter.widget-view+json": {
       "model_id": "38b951503d7a4287a0983a5b02df9060",
       "version_major": 2,
       "version_minor": 0
      },
      "text/plain": [
       "Training:   0%|          | 0/18 [00:00<?, ?it/s]"
      ]
     },
     "metadata": {},
     "output_type": "display_data"
    },
    {
     "data": {
      "application/vnd.jupyter.widget-view+json": {
       "model_id": "bca71ae9ad60480baf64946cd8d2ab7b",
       "version_major": 2,
       "version_minor": 0
      },
      "text/plain": [
       "Validating:   0%|          | 0/5 [00:00<?, ?it/s]"
      ]
     },
     "metadata": {},
     "output_type": "display_data"
    },
    {
     "data": {
      "application/vnd.jupyter.widget-view+json": {
       "model_id": "6189387f141647c5aae83941f9ec15c1",
       "version_major": 2,
       "version_minor": 0
      },
      "text/plain": [
       "Training:   0%|          | 0/18 [00:00<?, ?it/s]"
      ]
     },
     "metadata": {},
     "output_type": "display_data"
    },
    {
     "data": {
      "application/vnd.jupyter.widget-view+json": {
       "model_id": "5c1b23625e3144f4838e277c1f15f2ce",
       "version_major": 2,
       "version_minor": 0
      },
      "text/plain": [
       "Validating:   0%|          | 0/5 [00:00<?, ?it/s]"
      ]
     },
     "metadata": {},
     "output_type": "display_data"
    },
    {
     "name": "stdout",
     "output_type": "stream",
     "text": [
      "Best validation accuracy (temporal): 63.89%\n"
     ]
    },
    {
     "data": {
      "application/vnd.jupyter.widget-view+json": {
       "model_id": "2c06d14b3a3f43a29afae747de83b423",
       "version_major": 2,
       "version_minor": 0
      },
      "text/plain": [
       "Testing:   0%|          | 0/3 [00:00<?, ?it/s]"
      ]
     },
     "metadata": {},
     "output_type": "display_data"
    },
    {
     "name": "stdout",
     "output_type": "stream",
     "text": [
      "\n",
      "Temporal Features Model Test Results:\n",
      "Accuracy: 0.5250\n",
      "Precision: 0.5185\n",
      "Recall: 0.7000\n",
      "F1-Score: 0.5957\n"
     ]
    }
   ],
   "source": [
    "print(\"=\" * 50)\n",
    "print(\"TRAINING MODEL WITH TEMPORAL FEATURES\")\n",
    "print(\"=\" * 50)\n",
    "\n",
    "# Create datasets for temporal features\n",
    "train_temporal_dataset = DeepfakeDataset(train_split, feature_type='temporal_features')\n",
    "val_temporal_dataset = DeepfakeDataset(val_split, feature_type='temporal_features')\n",
    "test_temporal_dataset = DeepfakeDataset(test_data, feature_type='temporal_features')\n",
    "\n",
    "# Create data loaders\n",
    "batch_size = 16\n",
    "train_temporal_loader = DataLoader(train_temporal_dataset, batch_size=batch_size, shuffle=True)\n",
    "val_temporal_loader = DataLoader(val_temporal_dataset, batch_size=batch_size, shuffle=False)\n",
    "test_temporal_loader = DataLoader(test_temporal_dataset, batch_size=batch_size, shuffle=False)\n",
    "\n",
    "# Get input size for temporal features\n",
    "input_size_temporal = train_temporal_dataset[0][0].shape[0]\n",
    "print(f\"Input feature size (temporal): {input_size_temporal}\")\n",
    "\n",
    "# Create model\n",
    "model_temporal = DeepfakeDetectionModel(input_size_temporal).to(DEVICE)\n",
    "criterion_temporal = nn.CrossEntropyLoss()\n",
    "optimizer_temporal = optim.Adam(model_temporal.parameters(), lr=0.001, weight_decay=1e-5)\n",
    "scheduler_temporal = optim.lr_scheduler.StepLR(optimizer_temporal, step_size=10, gamma=0.5)\n",
    "\n",
    "# Training loop\n",
    "epochs = 30\n",
    "train_losses_temporal = []\n",
    "val_losses_temporal = []\n",
    "train_accuracies_temporal = []\n",
    "val_accuracies_temporal = []\n",
    "best_val_acc_temporal = 0\n",
    "\n",
    "print(\"Starting training (temporal features)...\")\n",
    "for epoch in range(epochs):\n",
    "    train_loss, train_acc = train_epoch(model_temporal, train_temporal_loader, criterion_temporal, optimizer_temporal, DEVICE)\n",
    "    val_loss, val_acc = validate_epoch(model_temporal, val_temporal_loader, criterion_temporal, DEVICE)\n",
    "    \n",
    "    train_losses_temporal.append(train_loss)\n",
    "    val_losses_temporal.append(val_loss)\n",
    "    train_accuracies_temporal.append(train_acc)\n",
    "    val_accuracies_temporal.append(val_acc)\n",
    "    \n",
    "    scheduler_temporal.step()\n",
    "    \n",
    "    if val_acc > best_val_acc_temporal:\n",
    "        best_val_acc_temporal = val_acc\n",
    "        torch.save(model_temporal.state_dict(), f'{OUTPUT_DIR}/best_temporal_model.pth')\n",
    "    \n",
    "    if epoch % 5 == 0:\n",
    "        print(f'Epoch {epoch}/{epochs}:')\n",
    "        print(f'  Train Loss: {train_loss:.4f}, Train Acc: {train_acc:.2f}%')\n",
    "        print(f'  Val Loss: {val_loss:.4f}, Val Acc: {val_acc:.2f}%')\n",
    "\n",
    "print(f'Best validation accuracy (temporal): {best_val_acc_temporal:.2f}%')\n",
    "\n",
    "# Test the model\n",
    "accuracy_temporal, precision_temporal, recall_temporal, f1_temporal, true_labels_temporal, predictions_temporal = test_model(\n",
    "    model_temporal, test_temporal_loader, DEVICE\n",
    ")\n",
    "\n",
    "print(f\"\\nTemporal Features Model Test Results:\")\n",
    "print(f\"Accuracy: {accuracy_temporal:.4f}\")\n",
    "print(f\"Precision: {precision_temporal:.4f}\")\n",
    "print(f\"Recall: {recall_temporal:.4f}\")\n",
    "print(f\"F1-Score: {f1_temporal:.4f}\")\n",
    "\n",
    "# Store results\n",
    "temporal_results = {\n",
    "    'accuracy': accuracy_temporal,\n",
    "    'precision': precision_temporal,\n",
    "    'recall': recall_temporal,\n",
    "    'f1': f1_temporal,\n",
    "    'train_losses': train_losses_temporal,\n",
    "    'val_losses': val_losses_temporal,\n",
    "    'train_accuracies': train_accuracies_temporal,\n",
    "    'val_accuracies': val_accuracies_temporal\n",
    "}"
   ]
  },
  {
   "cell_type": "code",
   "execution_count": 36,
   "id": "1a0c4f47",
   "metadata": {},
   "outputs": [
    {
     "name": "stdout",
     "output_type": "stream",
     "text": [
      "==================================================\n",
      "TRAINING MODEL WITH COMBINED FEATURES\n",
      "==================================================\n",
      "Input feature size (combined): 350\n",
      "Starting training (combined features)...\n"
     ]
    },
    {
     "data": {
      "application/vnd.jupyter.widget-view+json": {
       "model_id": "c86c4cb627bf44bcadc37cf533561113",
       "version_major": 2,
       "version_minor": 0
      },
      "text/plain": [
       "Training:   0%|          | 0/18 [00:00<?, ?it/s]"
      ]
     },
     "metadata": {},
     "output_type": "display_data"
    },
    {
     "data": {
      "application/vnd.jupyter.widget-view+json": {
       "model_id": "9f75905b1e3245d78473da8c9d57f359",
       "version_major": 2,
       "version_minor": 0
      },
      "text/plain": [
       "Validating:   0%|          | 0/5 [00:00<?, ?it/s]"
      ]
     },
     "metadata": {},
     "output_type": "display_data"
    },
    {
     "name": "stdout",
     "output_type": "stream",
     "text": [
      "Epoch 0/30:\n",
      "  Train Loss: 0.7961, Train Acc: 52.08%\n",
      "  Val Loss: 0.7115, Val Acc: 45.83%\n"
     ]
    },
    {
     "data": {
      "application/vnd.jupyter.widget-view+json": {
       "model_id": "cfa04dba9a83426f89c9148d51d5d685",
       "version_major": 2,
       "version_minor": 0
      },
      "text/plain": [
       "Training:   0%|          | 0/18 [00:00<?, ?it/s]"
      ]
     },
     "metadata": {},
     "output_type": "display_data"
    },
    {
     "data": {
      "application/vnd.jupyter.widget-view+json": {
       "model_id": "0fabd4d5366f4269b3df07406d688600",
       "version_major": 2,
       "version_minor": 0
      },
      "text/plain": [
       "Validating:   0%|          | 0/5 [00:00<?, ?it/s]"
      ]
     },
     "metadata": {},
     "output_type": "display_data"
    },
    {
     "data": {
      "application/vnd.jupyter.widget-view+json": {
       "model_id": "611bde805d7d426099804a8ccd16e6f8",
       "version_major": 2,
       "version_minor": 0
      },
      "text/plain": [
       "Training:   0%|          | 0/18 [00:00<?, ?it/s]"
      ]
     },
     "metadata": {},
     "output_type": "display_data"
    },
    {
     "data": {
      "application/vnd.jupyter.widget-view+json": {
       "model_id": "df83264e535444ab8fd97a7329e6c01a",
       "version_major": 2,
       "version_minor": 0
      },
      "text/plain": [
       "Validating:   0%|          | 0/5 [00:00<?, ?it/s]"
      ]
     },
     "metadata": {},
     "output_type": "display_data"
    },
    {
     "data": {
      "application/vnd.jupyter.widget-view+json": {
       "model_id": "23cd6d02e1e34931993b7812ff351884",
       "version_major": 2,
       "version_minor": 0
      },
      "text/plain": [
       "Training:   0%|          | 0/18 [00:00<?, ?it/s]"
      ]
     },
     "metadata": {},
     "output_type": "display_data"
    },
    {
     "data": {
      "application/vnd.jupyter.widget-view+json": {
       "model_id": "a81dd50b27ae42e9bbe9be2850343ad8",
       "version_major": 2,
       "version_minor": 0
      },
      "text/plain": [
       "Validating:   0%|          | 0/5 [00:00<?, ?it/s]"
      ]
     },
     "metadata": {},
     "output_type": "display_data"
    },
    {
     "data": {
      "application/vnd.jupyter.widget-view+json": {
       "model_id": "11205336af4d4f46914afd4ca88607a8",
       "version_major": 2,
       "version_minor": 0
      },
      "text/plain": [
       "Training:   0%|          | 0/18 [00:00<?, ?it/s]"
      ]
     },
     "metadata": {},
     "output_type": "display_data"
    },
    {
     "data": {
      "application/vnd.jupyter.widget-view+json": {
       "model_id": "366a3a185c8f4a4fa79f5cad00df4a13",
       "version_major": 2,
       "version_minor": 0
      },
      "text/plain": [
       "Validating:   0%|          | 0/5 [00:00<?, ?it/s]"
      ]
     },
     "metadata": {},
     "output_type": "display_data"
    },
    {
     "data": {
      "application/vnd.jupyter.widget-view+json": {
       "model_id": "6963ecf5964447f482814f5a65bb1cad",
       "version_major": 2,
       "version_minor": 0
      },
      "text/plain": [
       "Training:   0%|          | 0/18 [00:00<?, ?it/s]"
      ]
     },
     "metadata": {},
     "output_type": "display_data"
    },
    {
     "data": {
      "application/vnd.jupyter.widget-view+json": {
       "model_id": "b0529a92754f408a8783cf69aa9276c7",
       "version_major": 2,
       "version_minor": 0
      },
      "text/plain": [
       "Validating:   0%|          | 0/5 [00:00<?, ?it/s]"
      ]
     },
     "metadata": {},
     "output_type": "display_data"
    },
    {
     "name": "stdout",
     "output_type": "stream",
     "text": [
      "Epoch 5/30:\n",
      "  Train Loss: 0.6817, Train Acc: 57.29%\n",
      "  Val Loss: 0.7045, Val Acc: 51.39%\n"
     ]
    },
    {
     "data": {
      "application/vnd.jupyter.widget-view+json": {
       "model_id": "f355bbc3a78246a4883027b3845fefba",
       "version_major": 2,
       "version_minor": 0
      },
      "text/plain": [
       "Training:   0%|          | 0/18 [00:00<?, ?it/s]"
      ]
     },
     "metadata": {},
     "output_type": "display_data"
    },
    {
     "data": {
      "application/vnd.jupyter.widget-view+json": {
       "model_id": "807a767a2bd34cbcadd94f2013087188",
       "version_major": 2,
       "version_minor": 0
      },
      "text/plain": [
       "Validating:   0%|          | 0/5 [00:00<?, ?it/s]"
      ]
     },
     "metadata": {},
     "output_type": "display_data"
    },
    {
     "data": {
      "application/vnd.jupyter.widget-view+json": {
       "model_id": "6f3a17afec05401aa3d5bd1c76c9739e",
       "version_major": 2,
       "version_minor": 0
      },
      "text/plain": [
       "Training:   0%|          | 0/18 [00:00<?, ?it/s]"
      ]
     },
     "metadata": {},
     "output_type": "display_data"
    },
    {
     "data": {
      "application/vnd.jupyter.widget-view+json": {
       "model_id": "33774a36edd84b8bbfd2192b08cd6e4f",
       "version_major": 2,
       "version_minor": 0
      },
      "text/plain": [
       "Validating:   0%|          | 0/5 [00:00<?, ?it/s]"
      ]
     },
     "metadata": {},
     "output_type": "display_data"
    },
    {
     "data": {
      "application/vnd.jupyter.widget-view+json": {
       "model_id": "dc89284d21f94689907fd3fa82f7669a",
       "version_major": 2,
       "version_minor": 0
      },
      "text/plain": [
       "Training:   0%|          | 0/18 [00:00<?, ?it/s]"
      ]
     },
     "metadata": {},
     "output_type": "display_data"
    },
    {
     "data": {
      "application/vnd.jupyter.widget-view+json": {
       "model_id": "34bcca68b50a46db8c4b280534d05435",
       "version_major": 2,
       "version_minor": 0
      },
      "text/plain": [
       "Validating:   0%|          | 0/5 [00:00<?, ?it/s]"
      ]
     },
     "metadata": {},
     "output_type": "display_data"
    },
    {
     "data": {
      "application/vnd.jupyter.widget-view+json": {
       "model_id": "3579ab4a071847b3a1d29c8ac0b1ef42",
       "version_major": 2,
       "version_minor": 0
      },
      "text/plain": [
       "Training:   0%|          | 0/18 [00:00<?, ?it/s]"
      ]
     },
     "metadata": {},
     "output_type": "display_data"
    },
    {
     "data": {
      "application/vnd.jupyter.widget-view+json": {
       "model_id": "c130e136a1504f25b92e03cc7169d0a5",
       "version_major": 2,
       "version_minor": 0
      },
      "text/plain": [
       "Validating:   0%|          | 0/5 [00:00<?, ?it/s]"
      ]
     },
     "metadata": {},
     "output_type": "display_data"
    },
    {
     "data": {
      "application/vnd.jupyter.widget-view+json": {
       "model_id": "9e0601955b664e27814fb3ad85999102",
       "version_major": 2,
       "version_minor": 0
      },
      "text/plain": [
       "Training:   0%|          | 0/18 [00:00<?, ?it/s]"
      ]
     },
     "metadata": {},
     "output_type": "display_data"
    },
    {
     "data": {
      "application/vnd.jupyter.widget-view+json": {
       "model_id": "6b8197aa60dd49bd91aec342325a23c8",
       "version_major": 2,
       "version_minor": 0
      },
      "text/plain": [
       "Validating:   0%|          | 0/5 [00:00<?, ?it/s]"
      ]
     },
     "metadata": {},
     "output_type": "display_data"
    },
    {
     "name": "stdout",
     "output_type": "stream",
     "text": [
      "Epoch 10/30:\n",
      "  Train Loss: 0.7106, Train Acc: 52.08%\n",
      "  Val Loss: 0.6993, Val Acc: 59.72%\n"
     ]
    },
    {
     "data": {
      "application/vnd.jupyter.widget-view+json": {
       "model_id": "9a6d4c0610894e968aade61b90b8f75b",
       "version_major": 2,
       "version_minor": 0
      },
      "text/plain": [
       "Training:   0%|          | 0/18 [00:00<?, ?it/s]"
      ]
     },
     "metadata": {},
     "output_type": "display_data"
    },
    {
     "data": {
      "application/vnd.jupyter.widget-view+json": {
       "model_id": "37cb190d34144d74adeab28cba030e45",
       "version_major": 2,
       "version_minor": 0
      },
      "text/plain": [
       "Validating:   0%|          | 0/5 [00:00<?, ?it/s]"
      ]
     },
     "metadata": {},
     "output_type": "display_data"
    },
    {
     "data": {
      "application/vnd.jupyter.widget-view+json": {
       "model_id": "1eff5cc6c6fb4ffd97ff147df9df8923",
       "version_major": 2,
       "version_minor": 0
      },
      "text/plain": [
       "Training:   0%|          | 0/18 [00:00<?, ?it/s]"
      ]
     },
     "metadata": {},
     "output_type": "display_data"
    },
    {
     "data": {
      "application/vnd.jupyter.widget-view+json": {
       "model_id": "6dc4fdc1a311490795bcf22a53388fe4",
       "version_major": 2,
       "version_minor": 0
      },
      "text/plain": [
       "Validating:   0%|          | 0/5 [00:00<?, ?it/s]"
      ]
     },
     "metadata": {},
     "output_type": "display_data"
    },
    {
     "data": {
      "application/vnd.jupyter.widget-view+json": {
       "model_id": "d6feb0b21ea441b7a3acafacd9d0b76f",
       "version_major": 2,
       "version_minor": 0
      },
      "text/plain": [
       "Training:   0%|          | 0/18 [00:00<?, ?it/s]"
      ]
     },
     "metadata": {},
     "output_type": "display_data"
    },
    {
     "data": {
      "application/vnd.jupyter.widget-view+json": {
       "model_id": "15de8e6c66214b4c9c6f472b303dc58a",
       "version_major": 2,
       "version_minor": 0
      },
      "text/plain": [
       "Validating:   0%|          | 0/5 [00:00<?, ?it/s]"
      ]
     },
     "metadata": {},
     "output_type": "display_data"
    },
    {
     "data": {
      "application/vnd.jupyter.widget-view+json": {
       "model_id": "4863b3aa78e8436396057b16c24bc87a",
       "version_major": 2,
       "version_minor": 0
      },
      "text/plain": [
       "Training:   0%|          | 0/18 [00:00<?, ?it/s]"
      ]
     },
     "metadata": {},
     "output_type": "display_data"
    },
    {
     "data": {
      "application/vnd.jupyter.widget-view+json": {
       "model_id": "05625ce2273541579b3b3beb6fde6609",
       "version_major": 2,
       "version_minor": 0
      },
      "text/plain": [
       "Validating:   0%|          | 0/5 [00:00<?, ?it/s]"
      ]
     },
     "metadata": {},
     "output_type": "display_data"
    },
    {
     "data": {
      "application/vnd.jupyter.widget-view+json": {
       "model_id": "403a438c87774186b7ba797f21af0941",
       "version_major": 2,
       "version_minor": 0
      },
      "text/plain": [
       "Training:   0%|          | 0/18 [00:00<?, ?it/s]"
      ]
     },
     "metadata": {},
     "output_type": "display_data"
    },
    {
     "data": {
      "application/vnd.jupyter.widget-view+json": {
       "model_id": "7adabeb43cc54cacb39e99382f81ee6b",
       "version_major": 2,
       "version_minor": 0
      },
      "text/plain": [
       "Validating:   0%|          | 0/5 [00:00<?, ?it/s]"
      ]
     },
     "metadata": {},
     "output_type": "display_data"
    },
    {
     "name": "stdout",
     "output_type": "stream",
     "text": [
      "Epoch 15/30:\n",
      "  Train Loss: 0.6880, Train Acc: 56.94%\n",
      "  Val Loss: 0.6783, Val Acc: 55.56%\n"
     ]
    },
    {
     "data": {
      "application/vnd.jupyter.widget-view+json": {
       "model_id": "245240a3761d425b8ae361a8193e2ce3",
       "version_major": 2,
       "version_minor": 0
      },
      "text/plain": [
       "Training:   0%|          | 0/18 [00:00<?, ?it/s]"
      ]
     },
     "metadata": {},
     "output_type": "display_data"
    },
    {
     "data": {
      "application/vnd.jupyter.widget-view+json": {
       "model_id": "03a702f3fd0d4a3db03cded3a3f40a17",
       "version_major": 2,
       "version_minor": 0
      },
      "text/plain": [
       "Validating:   0%|          | 0/5 [00:00<?, ?it/s]"
      ]
     },
     "metadata": {},
     "output_type": "display_data"
    },
    {
     "data": {
      "application/vnd.jupyter.widget-view+json": {
       "model_id": "28ecff98592f4277a36dbef950d35458",
       "version_major": 2,
       "version_minor": 0
      },
      "text/plain": [
       "Training:   0%|          | 0/18 [00:00<?, ?it/s]"
      ]
     },
     "metadata": {},
     "output_type": "display_data"
    },
    {
     "data": {
      "application/vnd.jupyter.widget-view+json": {
       "model_id": "787d8bf9684848abb0380388f53966dc",
       "version_major": 2,
       "version_minor": 0
      },
      "text/plain": [
       "Validating:   0%|          | 0/5 [00:00<?, ?it/s]"
      ]
     },
     "metadata": {},
     "output_type": "display_data"
    },
    {
     "data": {
      "application/vnd.jupyter.widget-view+json": {
       "model_id": "a9854c5f7d7d419b9f50ff33844d0963",
       "version_major": 2,
       "version_minor": 0
      },
      "text/plain": [
       "Training:   0%|          | 0/18 [00:00<?, ?it/s]"
      ]
     },
     "metadata": {},
     "output_type": "display_data"
    },
    {
     "data": {
      "application/vnd.jupyter.widget-view+json": {
       "model_id": "3b770ee932c246fbae44e0eff76f77d9",
       "version_major": 2,
       "version_minor": 0
      },
      "text/plain": [
       "Validating:   0%|          | 0/5 [00:00<?, ?it/s]"
      ]
     },
     "metadata": {},
     "output_type": "display_data"
    },
    {
     "data": {
      "application/vnd.jupyter.widget-view+json": {
       "model_id": "c0aaa4ef215741c68e2debd203438a4b",
       "version_major": 2,
       "version_minor": 0
      },
      "text/plain": [
       "Training:   0%|          | 0/18 [00:00<?, ?it/s]"
      ]
     },
     "metadata": {},
     "output_type": "display_data"
    },
    {
     "data": {
      "application/vnd.jupyter.widget-view+json": {
       "model_id": "dfe8a86e767e495bb9105141c9df7635",
       "version_major": 2,
       "version_minor": 0
      },
      "text/plain": [
       "Validating:   0%|          | 0/5 [00:00<?, ?it/s]"
      ]
     },
     "metadata": {},
     "output_type": "display_data"
    },
    {
     "data": {
      "application/vnd.jupyter.widget-view+json": {
       "model_id": "209993a4c3364e188ab2b6ef4b011d25",
       "version_major": 2,
       "version_minor": 0
      },
      "text/plain": [
       "Training:   0%|          | 0/18 [00:00<?, ?it/s]"
      ]
     },
     "metadata": {},
     "output_type": "display_data"
    },
    {
     "data": {
      "application/vnd.jupyter.widget-view+json": {
       "model_id": "8931111ad715404dacadef2cb1aaa076",
       "version_major": 2,
       "version_minor": 0
      },
      "text/plain": [
       "Validating:   0%|          | 0/5 [00:00<?, ?it/s]"
      ]
     },
     "metadata": {},
     "output_type": "display_data"
    },
    {
     "name": "stdout",
     "output_type": "stream",
     "text": [
      "Epoch 20/30:\n",
      "  Train Loss: 0.6741, Train Acc: 56.25%\n",
      "  Val Loss: 0.6831, Val Acc: 55.56%\n"
     ]
    },
    {
     "data": {
      "application/vnd.jupyter.widget-view+json": {
       "model_id": "d2dffca0dffa490c97907bfecdfb23d8",
       "version_major": 2,
       "version_minor": 0
      },
      "text/plain": [
       "Training:   0%|          | 0/18 [00:00<?, ?it/s]"
      ]
     },
     "metadata": {},
     "output_type": "display_data"
    },
    {
     "data": {
      "application/vnd.jupyter.widget-view+json": {
       "model_id": "2f9ae08e8f7f43c1bab522d5a10e8a1f",
       "version_major": 2,
       "version_minor": 0
      },
      "text/plain": [
       "Validating:   0%|          | 0/5 [00:00<?, ?it/s]"
      ]
     },
     "metadata": {},
     "output_type": "display_data"
    },
    {
     "data": {
      "application/vnd.jupyter.widget-view+json": {
       "model_id": "d7ed3c39c18246b2abccd1dfa9132d28",
       "version_major": 2,
       "version_minor": 0
      },
      "text/plain": [
       "Training:   0%|          | 0/18 [00:00<?, ?it/s]"
      ]
     },
     "metadata": {},
     "output_type": "display_data"
    },
    {
     "data": {
      "application/vnd.jupyter.widget-view+json": {
       "model_id": "d0ce336796de4ede899827550f6417a7",
       "version_major": 2,
       "version_minor": 0
      },
      "text/plain": [
       "Validating:   0%|          | 0/5 [00:00<?, ?it/s]"
      ]
     },
     "metadata": {},
     "output_type": "display_data"
    },
    {
     "data": {
      "application/vnd.jupyter.widget-view+json": {
       "model_id": "bcd4033a29a1442dbcb3f7bd3d3dacd4",
       "version_major": 2,
       "version_minor": 0
      },
      "text/plain": [
       "Training:   0%|          | 0/18 [00:00<?, ?it/s]"
      ]
     },
     "metadata": {},
     "output_type": "display_data"
    },
    {
     "data": {
      "application/vnd.jupyter.widget-view+json": {
       "model_id": "282215d0cfd34c30b535dd92187d8541",
       "version_major": 2,
       "version_minor": 0
      },
      "text/plain": [
       "Validating:   0%|          | 0/5 [00:00<?, ?it/s]"
      ]
     },
     "metadata": {},
     "output_type": "display_data"
    },
    {
     "data": {
      "application/vnd.jupyter.widget-view+json": {
       "model_id": "6c2f55ff28ae4fb8a0e6f5b9bbed31d8",
       "version_major": 2,
       "version_minor": 0
      },
      "text/plain": [
       "Training:   0%|          | 0/18 [00:00<?, ?it/s]"
      ]
     },
     "metadata": {},
     "output_type": "display_data"
    },
    {
     "data": {
      "application/vnd.jupyter.widget-view+json": {
       "model_id": "ca074c8caf8147d6af067e087c856706",
       "version_major": 2,
       "version_minor": 0
      },
      "text/plain": [
       "Validating:   0%|          | 0/5 [00:00<?, ?it/s]"
      ]
     },
     "metadata": {},
     "output_type": "display_data"
    },
    {
     "data": {
      "application/vnd.jupyter.widget-view+json": {
       "model_id": "0074b35ea8a543308cec971dd5e0305f",
       "version_major": 2,
       "version_minor": 0
      },
      "text/plain": [
       "Training:   0%|          | 0/18 [00:00<?, ?it/s]"
      ]
     },
     "metadata": {},
     "output_type": "display_data"
    },
    {
     "data": {
      "application/vnd.jupyter.widget-view+json": {
       "model_id": "78a45c3bef82470d8975f19d4f587572",
       "version_major": 2,
       "version_minor": 0
      },
      "text/plain": [
       "Validating:   0%|          | 0/5 [00:00<?, ?it/s]"
      ]
     },
     "metadata": {},
     "output_type": "display_data"
    },
    {
     "name": "stdout",
     "output_type": "stream",
     "text": [
      "Epoch 25/30:\n",
      "  Train Loss: 0.6904, Train Acc: 54.17%\n",
      "  Val Loss: 0.6772, Val Acc: 62.50%\n"
     ]
    },
    {
     "data": {
      "application/vnd.jupyter.widget-view+json": {
       "model_id": "f13ac5b8790242c98639e30a4ffcd03b",
       "version_major": 2,
       "version_minor": 0
      },
      "text/plain": [
       "Training:   0%|          | 0/18 [00:00<?, ?it/s]"
      ]
     },
     "metadata": {},
     "output_type": "display_data"
    },
    {
     "data": {
      "application/vnd.jupyter.widget-view+json": {
       "model_id": "dd1b27c534224cf0acd6d3a8bd6ecaae",
       "version_major": 2,
       "version_minor": 0
      },
      "text/plain": [
       "Validating:   0%|          | 0/5 [00:00<?, ?it/s]"
      ]
     },
     "metadata": {},
     "output_type": "display_data"
    },
    {
     "data": {
      "application/vnd.jupyter.widget-view+json": {
       "model_id": "a62e9ff6262f4bf29a0aef7004343626",
       "version_major": 2,
       "version_minor": 0
      },
      "text/plain": [
       "Training:   0%|          | 0/18 [00:00<?, ?it/s]"
      ]
     },
     "metadata": {},
     "output_type": "display_data"
    },
    {
     "data": {
      "application/vnd.jupyter.widget-view+json": {
       "model_id": "cbba2089a57e4897b7584676a8cb89fe",
       "version_major": 2,
       "version_minor": 0
      },
      "text/plain": [
       "Validating:   0%|          | 0/5 [00:00<?, ?it/s]"
      ]
     },
     "metadata": {},
     "output_type": "display_data"
    },
    {
     "data": {
      "application/vnd.jupyter.widget-view+json": {
       "model_id": "5767c909ceb141fdb9b166b39cab3945",
       "version_major": 2,
       "version_minor": 0
      },
      "text/plain": [
       "Training:   0%|          | 0/18 [00:00<?, ?it/s]"
      ]
     },
     "metadata": {},
     "output_type": "display_data"
    },
    {
     "data": {
      "application/vnd.jupyter.widget-view+json": {
       "model_id": "b28c741a9cc747d3be460fe665e72861",
       "version_major": 2,
       "version_minor": 0
      },
      "text/plain": [
       "Validating:   0%|          | 0/5 [00:00<?, ?it/s]"
      ]
     },
     "metadata": {},
     "output_type": "display_data"
    },
    {
     "data": {
      "application/vnd.jupyter.widget-view+json": {
       "model_id": "4f7bd9b5711547259fec95515e68bafd",
       "version_major": 2,
       "version_minor": 0
      },
      "text/plain": [
       "Training:   0%|          | 0/18 [00:00<?, ?it/s]"
      ]
     },
     "metadata": {},
     "output_type": "display_data"
    },
    {
     "data": {
      "application/vnd.jupyter.widget-view+json": {
       "model_id": "e49b6f17755e44b2863435216777926c",
       "version_major": 2,
       "version_minor": 0
      },
      "text/plain": [
       "Validating:   0%|          | 0/5 [00:00<?, ?it/s]"
      ]
     },
     "metadata": {},
     "output_type": "display_data"
    },
    {
     "name": "stdout",
     "output_type": "stream",
     "text": [
      "Best validation accuracy (combined): 66.67%\n"
     ]
    },
    {
     "data": {
      "application/vnd.jupyter.widget-view+json": {
       "model_id": "e841d6bf0063420e893acf7981bc69da",
       "version_major": 2,
       "version_minor": 0
      },
      "text/plain": [
       "Testing:   0%|          | 0/3 [00:00<?, ?it/s]"
      ]
     },
     "metadata": {},
     "output_type": "display_data"
    },
    {
     "name": "stdout",
     "output_type": "stream",
     "text": [
      "\n",
      "Combined Features Model Test Results:\n",
      "Accuracy: 0.4500\n",
      "Precision: 0.4545\n",
      "Recall: 0.5000\n",
      "F1-Score: 0.4762\n"
     ]
    }
   ],
   "source": [
    "# Since you have already trained and evaluated models with frame and temporal features,\n",
    "# a logical next step is to train and evaluate a model using the 'combined' feature set.\n",
    "\n",
    "print(\"=\" * 50)\n",
    "print(\"TRAINING MODEL WITH COMBINED FEATURES\")\n",
    "print(\"=\" * 50)\n",
    "\n",
    "# Create datasets for combined features\n",
    "train_combined_dataset = DeepfakeDataset(train_split, feature_type='combined')\n",
    "val_combined_dataset = DeepfakeDataset(val_split, feature_type='combined')\n",
    "test_combined_dataset = DeepfakeDataset(test_data, feature_type='combined')\n",
    "\n",
    "# Create data loaders\n",
    "batch_size = 16\n",
    "train_combined_loader = DataLoader(train_combined_dataset, batch_size=batch_size, shuffle=True)\n",
    "val_combined_loader = DataLoader(val_combined_dataset, batch_size=batch_size, shuffle=False)\n",
    "test_combined_loader = DataLoader(test_combined_dataset, batch_size=batch_size, shuffle=False)\n",
    "\n",
    "# Get input size for combined features\n",
    "input_size_combined = train_combined_dataset[0][0].shape[0]\n",
    "print(f\"Input feature size (combined): {input_size_combined}\")\n",
    "\n",
    "# Create model\n",
    "model_combined = DeepfakeDetectionModel(input_size_combined).to(DEVICE)\n",
    "criterion_combined = nn.CrossEntropyLoss()\n",
    "optimizer_combined = optim.Adam(model_combined.parameters(), lr=0.001, weight_decay=1e-5)\n",
    "scheduler_combined = optim.lr_scheduler.StepLR(optimizer_combined, step_size=10, gamma=0.5)\n",
    "\n",
    "# Training loop\n",
    "epochs = 30\n",
    "train_losses_combined = []\n",
    "val_losses_combined = []\n",
    "train_accuracies_combined = []\n",
    "val_accuracies_combined = []\n",
    "best_val_acc_combined = 0\n",
    "\n",
    "print(\"Starting training (combined features)...\")\n",
    "for epoch in range(epochs):\n",
    "    train_loss, train_acc = train_epoch(model_combined, train_combined_loader, criterion_combined, optimizer_combined, DEVICE)\n",
    "    val_loss, val_acc = validate_epoch(model_combined, val_combined_loader, criterion_combined, DEVICE)\n",
    "    \n",
    "    train_losses_combined.append(train_loss)\n",
    "    val_losses_combined.append(val_loss)\n",
    "    train_accuracies_combined.append(train_acc)\n",
    "    val_accuracies_combined.append(val_acc)\n",
    "    \n",
    "    scheduler_combined.step()\n",
    "    \n",
    "    if val_acc > best_val_acc_combined:\n",
    "        best_val_acc_combined = val_acc\n",
    "        torch.save(model_combined.state_dict(), f'{OUTPUT_DIR}/best_combined_model.pth')\n",
    "    \n",
    "    if epoch % 5 == 0:\n",
    "        print(f'Epoch {epoch}/{epochs}:')\n",
    "        print(f'  Train Loss: {train_loss:.4f}, Train Acc: {train_acc:.2f}%')\n",
    "        print(f'  Val Loss: {val_loss:.4f}, Val Acc: {val_acc:.2f}%')\n",
    "\n",
    "print(f'Best validation accuracy (combined): {best_val_acc_combined:.2f}%')\n",
    "\n",
    "# Test the model\n",
    "accuracy_combined, precision_combined, recall_combined, f1_combined, true_labels_combined, predictions_combined = test_model(\n",
    "    model_combined, test_combined_loader, DEVICE\n",
    ")\n",
    "\n",
    "print(f\"\\nCombined Features Model Test Results:\")\n",
    "print(f\"Accuracy: {accuracy_combined:.4f}\")\n",
    "print(f\"Precision: {precision_combined:.4f}\")\n",
    "print(f\"Recall: {recall_combined:.4f}\")\n",
    "print(f\"F1-Score: {f1_combined:.4f}\")\n",
    "\n",
    "# Store results\n",
    "combined_results = {\n",
    "    'accuracy': accuracy_combined,\n",
    "    'precision': precision_combined,\n",
    "    'recall': recall_combined,\n",
    "    'f1': f1_combined,\n",
    "    'train_losses': train_losses_combined,\n",
    "    'val_losses': val_losses_combined,\n",
    "    'train_accuracies': train_accuracies_combined,\n",
    "    'val_accuracies': val_accuracies_combined\n",
    "}"
   ]
  },
  {
   "cell_type": "code",
   "execution_count": 37,
   "id": "244773a9",
   "metadata": {},
   "outputs": [
    {
     "data": {
      "image/png": "[encoded data removed]",
      "text/plain": [
       "<Figure size 1500x500 with 2 Axes>"
      ]
     },
     "metadata": {},
     "output_type": "display_data"
    },
    {
     "data": {
      "image/png": "[encoded data removed]",
      "text/plain": [
       "<Figure size 800x600 with 2 Axes>"
      ]
     },
     "metadata": {},
     "output_type": "display_data"
    }
   ],
   "source": [
    "# Plot training and validation loss/accuracy for the combined features model\n",
    "fig, (ax1, ax2) = plt.subplots(1, 2, figsize=(15, 5))\n",
    "\n",
    "# Loss plot\n",
    "ax1.plot(combined_results['train_losses'], label='Train Loss', color='blue')\n",
    "ax1.plot(combined_results['val_losses'], label='Validation Loss', color='red')\n",
    "ax1.set_title('Combined Features Model - Training and Validation Loss')\n",
    "ax1.set_xlabel('Epoch')\n",
    "ax1.set_ylabel('Loss')\n",
    "ax1.legend()\n",
    "ax1.grid(True)\n",
    "\n",
    "# Accuracy plot\n",
    "ax2.plot(combined_results['train_accuracies'], label='Train Accuracy', color='blue')\n",
    "ax2.plot(combined_results['val_accuracies'], label='Validation Accuracy', color='red')\n",
    "ax2.set_title('Combined Features Model - Training and Validation Accuracy')\n",
    "ax2.set_xlabel('Epoch')\n",
    "ax2.set_ylabel('Accuracy (%)')\n",
    "ax2.legend()\n",
    "ax2.grid(True)\n",
    "\n",
    "plt.tight_layout()\n",
    "plt.show()\n",
    "\n",
    "# Confusion Matrix for combined features model\n",
    "cm_combined = confusion_matrix(true_labels_combined, predictions_combined)\n",
    "plt.figure(figsize=(8, 6))\n",
    "sns.heatmap(cm_combined, annot=True, fmt='d', cmap='Blues', \n",
    "            xticklabels=['Real', 'Fake'], yticklabels=['Real', 'Fake'])\n",
    "plt.title('Combined Features Model - Confusion Matrix')\n",
    "plt.ylabel('True Label')\n",
    "plt.xlabel('Predicted Label')\n",
    "plt.show()"
   ]
  },
  {
   "cell_type": "code",
   "execution_count": 38,
   "id": "ae7bed78",
   "metadata": {},
   "outputs": [
    {
     "name": "stdout",
     "output_type": "stream",
     "text": [
      "Model Performance Comparison:\n"
     ]
    },
    {
     "data": {
      "text/html": [
       "<div>\n",
       "<style scoped>\n",
       "    .dataframe tbody tr th:only-of-type {\n",
       "        vertical-align: middle;\n",
       "    }\n",
       "\n",
       "    .dataframe tbody tr th {\n",
       "        vertical-align: top;\n",
       "    }\n",
       "\n",
       "    .dataframe thead th {\n",
       "        text-align: right;\n",
       "    }\n",
       "</style>\n",
       "<table border=\"1\" class=\"dataframe\">\n",
       "  <thead>\n",
       "    <tr style=\"text-align: right;\">\n",
       "      <th></th>\n",
       "      <th>Model</th>\n",
       "      <th>Accuracy</th>\n",
       "      <th>Precision</th>\n",
       "      <th>Recall</th>\n",
       "      <th>F1-Score</th>\n",
       "    </tr>\n",
       "  </thead>\n",
       "  <tbody>\n",
       "    <tr>\n",
       "      <th>0</th>\n",
       "      <td>Frame Features</td>\n",
       "      <td>0.500</td>\n",
       "      <td>0.500000</td>\n",
       "      <td>0.6</td>\n",
       "      <td>0.545455</td>\n",
       "    </tr>\n",
       "    <tr>\n",
       "      <th>1</th>\n",
       "      <td>Temporal Features</td>\n",
       "      <td>0.525</td>\n",
       "      <td>0.518519</td>\n",
       "      <td>0.7</td>\n",
       "      <td>0.595745</td>\n",
       "    </tr>\n",
       "    <tr>\n",
       "      <th>2</th>\n",
       "      <td>Combined Features</td>\n",
       "      <td>0.450</td>\n",
       "      <td>0.454545</td>\n",
       "      <td>0.5</td>\n",
       "      <td>0.476190</td>\n",
       "    </tr>\n",
       "  </tbody>\n",
       "</table>\n",
       "</div>"
      ],
      "text/plain": [
       "               Model  Accuracy  Precision  Recall  F1-Score\n",
       "0     Frame Features     0.500   0.500000     0.6  0.545455\n",
       "1  Temporal Features     0.525   0.518519     0.7  0.595745\n",
       "2  Combined Features     0.450   0.454545     0.5  0.476190"
      ]
     },
     "metadata": {},
     "output_type": "display_data"
    },
    {
     "data": {
      "image/png": "[encoded data removed]",
      "text/plain": [
       "<Figure size 1000x600 with 1 Axes>"
      ]
     },
     "metadata": {},
     "output_type": "display_data"
    }
   ],
   "source": [
    "# Since you have already trained and evaluated models with frame, temporal, and combined features,\n",
    "# a good next step is to compare the performance of all three models side by side.\n",
    "\n",
    "# Create a summary DataFrame for easy comparison\n",
    "results_df = pd.DataFrame({\n",
    "    'Model': ['Frame Features', 'Temporal Features', 'Combined Features'],\n",
    "    'Accuracy': [frame_results['accuracy'], temporal_results['accuracy'], combined_results['accuracy']],\n",
    "    'Precision': [frame_results['precision'], temporal_results['precision'], combined_results['precision']],\n",
    "    'Recall': [frame_results['recall'], temporal_results['recall'], combined_results['recall']],\n",
    "    'F1-Score': [frame_results['f1'], temporal_results['f1'], combined_results['f1']]\n",
    "})\n",
    "\n",
    "print(\"Model Performance Comparison:\")\n",
    "display(results_df)\n",
    "\n",
    "# Optionally, plot the comparison\n",
    "results_df.set_index('Model')[['Accuracy', 'Precision', 'Recall', 'F1-Score']].plot(\n",
    "    kind='bar', figsize=(10, 6), ylim=(0, 1), grid=True, rot=0\n",
    ")\n",
    "plt.title('Deepfake Detection Model Performance Comparison')\n",
    "plt.ylabel('Score')\n",
    "plt.show()"
   ]
  },
  {
   "cell_type": "code",
   "execution_count": null,
   "id": "b9f435db",
   "metadata": {},
   "outputs": [],
   "source": []
  },
  {
   "cell_type": "code",
   "execution_count": 50,
   "id": "2bedb0b8",
   "metadata": {},
   "outputs": [
    {
     "data": {
      "image/png": "[encoded data removed]",
      "text/plain": [
       "<Figure size 1500x300 with 5 Axes>"
      ]
     },
     "metadata": {},
     "output_type": "display_data"
    }
   ],
   "source": [
    "# Pick a sample video from the test set\n",
    "sample_video = test_data[0]  # You can change the index to test other videos\n",
    "\n",
    "# Extract features for the sample video using the same pipeline\n",
    "features = []\n",
    "for frame in sample_video['frames']:\n",
    "    frame_feat = list(frame['frame_features'].values())\n",
    "    features.extend(frame_feat)\n",
    "temporal_features = list(sample_video['temporal_features'].values())\n",
    "temporal_features = [f if not np.isnan(f) else 0 for f in temporal_features]\n",
    "# Pad or truncate to match the input size of the temporal model\n",
    "target_size = 50\n",
    "if len(temporal_features) < target_size:\n",
    "    temporal_features.extend([0] * (target_size - len(temporal_features)))\n",
    "else:\n",
    "    temporal_features = temporal_features[:target_size]\n",
    "input_tensor = torch.FloatTensor(temporal_features).unsqueeze(0).to(DEVICE)\n",
    "\n",
    "# Predict using the trained temporal model\n",
    "model_temporal.eval()\n",
    "with torch.no_grad():\n",
    "    output = model_temporal(input_tensor)\n",
    "    pred_label = torch.argmax(output, dim=1).item()\n",
    "\n",
    "# Display the video frames and prediction result\n",
    "import matplotlib.pyplot as plt\n",
    "\n",
    "# Re-extract the actual frame images from the video file for visualization\n",
    "video_path = sample_video['path']\n",
    "frame_images = extract_frames_from_video(video_path, max_frames=5)\n",
    "\n",
    "fig, axes = plt.subplots(1, 5, figsize=(15, 3))\n",
    "for i, ax in enumerate(axes):\n",
    "    if i < len(frame_images):\n",
    "        ax.imshow(cv2.cvtColor(frame_images[i], cv2.COLOR_BGR2RGB))\n",
    "        ax.axis('off')\n",
    "    else:\n",
    "        ax.remove()\n",
    "plt.suptitle(f\"Prediction: {'Fake' if pred_label == 1 else 'Real'} (Ground Truth: {'Fake' if sample_video['label'] == 1 else 'Real'})\")\n",
    "plt.show()"
   ]
  },
  {
   "cell_type": "code",
   "execution_count": 54,
   "id": "a97d827e",
   "metadata": {},
   "outputs": [
    {
     "name": "stdout",
     "output_type": "stream",
     "text": [
      "Predictions for new video:\n",
      "  Frame Features Model: Fake\n",
      "  Temporal Features Model: Real\n",
      "  Combined Features Model: Fake\n"
     ]
    }
   ],
   "source": [
    "# Path to your new video\n",
    "new_video_path = r'deepfake_dataset\\train\\real\\01__hugging_happy.mp4'  # <-- Change this to your actual video path\n",
    "\n",
    "# Extract frames and features for the new video\n",
    "frames = extract_frames_from_video(new_video_path)\n",
    "if not frames:\n",
    "    print(\"No frames extracted from the video.\")\n",
    "else:\n",
    "    # Extract frame-level features\n",
    "    frame_features = []\n",
    "    for frame in frames:\n",
    "        frame_feat = list(calculate_frame_features(frame).values())\n",
    "        frame_features.extend(frame_feat)\n",
    "    \n",
    "    # Pad/truncate for frame model\n",
    "    frame_input = frame_features[:300] if len(frame_features) >= 300 else frame_features + [0] * (300 - len(frame_features))\n",
    "    frame_input_tensor = torch.FloatTensor(frame_input).unsqueeze(0).to(DEVICE)\n",
    "    \n",
    "    # Extract temporal features\n",
    "    # For this, we need to extract landmarks and pose as well\n",
    "    all_facial_landmarks = []\n",
    "    all_pose_landmarks = []\n",
    "    all_frame_features = []\n",
    "    for frame in frames:\n",
    "        landmarks = extract_facial_landmarks(frame, preprocessor)\n",
    "        pose = extract_pose_landmarks(frame, preprocessor)\n",
    "        all_frame_features.append(calculate_frame_features(frame))\n",
    "        if landmarks.get('mediapipe') is not None:\n",
    "            all_facial_landmarks.append(landmarks['mediapipe'])\n",
    "        if pose is not None:\n",
    "            all_pose_landmarks.append(pose)\n",
    "    temporal_features = calculate_temporal_features(all_facial_landmarks, all_pose_landmarks, all_frame_features)\n",
    "    temporal_feat_list = list(temporal_features.values())\n",
    "    temporal_feat_list = [f if not np.isnan(f) else 0 for f in temporal_feat_list]\n",
    "    temporal_input = temporal_feat_list[:50] if len(temporal_feat_list) >= 50 else temporal_feat_list + [0] * (50 - len(temporal_feat_list))\n",
    "    temporal_input_tensor = torch.FloatTensor(temporal_input).unsqueeze(0).to(DEVICE)\n",
    "    \n",
    "    # Combined features\n",
    "    combined_input = frame_input + temporal_input\n",
    "    combined_input = combined_input[:350] if len(combined_input) >= 350 else combined_input + [0] * (350 - len(combined_input))\n",
    "    combined_input_tensor = torch.FloatTensor(combined_input).unsqueeze(0).to(DEVICE)\n",
    "    \n",
    "    # Set models to eval mode\n",
    "    model_frame.eval()\n",
    "    model_temporal.eval()\n",
    "    model_combined.eval()\n",
    "    \n",
    "    with torch.no_grad():\n",
    "        out_frame = model_frame(frame_input_tensor)\n",
    "        pred_frame = torch.argmax(out_frame, dim=1).item()\n",
    "        \n",
    "        out_temporal = model_temporal(temporal_input_tensor)\n",
    "        pred_temporal = torch.argmax(out_temporal, dim=1).item()\n",
    "        \n",
    "        out_combined = model_combined(combined_input_tensor)\n",
    "        pred_combined = torch.argmax(out_combined, dim=1).item()\n",
    "    \n",
    "    label_map = {0: 'Real', 1: 'Fake'}\n",
    "    print(\"Predictions for new video:\")\n",
    "    print(f\"  Frame Features Model: {label_map[pred_frame]}\")\n",
    "    print(f\"  Temporal Features Model: {label_map[pred_temporal]}\")\n",
    "    print(f\"  Combined Features Model: {label_map[pred_combined]}\")"
   ]
  },
  {
   "cell_type": "code",
   "execution_count": 55,
   "id": "6b71b25a",
   "metadata": {},
   "outputs": [
    {
     "name": "stdout",
     "output_type": "stream",
     "text": [
      "Try these improvements and retrain your models for better accuracy.\n"
     ]
    }
   ],
   "source": [
    "# Suggestions to improve model accuracy\n",
    "\n",
    "# 1. Feature Engineering: Try adding more discriminative features or use feature selection.\n",
    "# 2. Model Architecture: Use deeper/wider networks, or try other architectures (e.g., CNNs, RNNs for temporal data).\n",
    "# 3. Data Augmentation: Augment frames (flip, rotate, color jitter) to increase data diversity.\n",
    "# 4. Hyperparameter Tuning: Tune learning rate, batch size, optimizer, dropout, etc.\n",
    "# 5. Training Epochs: Train for more epochs and use early stopping.\n",
    "# 6. Class Imbalance: Use class weights or oversample minority class if data is imbalanced.\n",
    "# 7. Pretrained Models: Use pretrained CNNs (e.g., ResNet) for frame feature extraction.\n",
    "# 8. Ensemble: Combine predictions from multiple models.\n",
    "\n",
    "# Example: Add data augmentation and try a deeper model\n",
    "\n",
    "import torchvision.transforms as T\n",
    "\n",
    "# Data augmentation for frames\n",
    "augment = T.Compose([\n",
    "    T.ToPILImage(),\n",
    "    T.RandomHorizontalFlip(),\n",
    "    T.RandomRotation(10),\n",
    "    T.ColorJitter(brightness=0.2, contrast=0.2, saturation=0.2, hue=0.1),\n",
    "    T.ToTensor()\n",
    "])\n",
    "\n",
    "def extract_frames_from_video_augmented(video_path, max_frames=30, target_fps=10):\n",
    "    cap = cv2.VideoCapture(str(video_path))\n",
    "    fps = cap.get(cv2.CAP_PROP_FPS)\n",
    "    frame_interval = max(1, int(fps / target_fps)) if fps > 0 else 1\n",
    "    frames = []\n",
    "    frame_count = 0\n",
    "    extracted_count = 0\n",
    "    while cap.isOpened() and extracted_count < max_frames:\n",
    "        ret, frame = cap.read()\n",
    "        if not ret:\n",
    "            break\n",
    "        if frame_count % frame_interval == 0:\n",
    "            frame = cv2.resize(frame, (224, 224))\n",
    "            # Apply augmentation\n",
    "            frame_aug = augment(frame)\n",
    "            frame_aug = (frame_aug.permute(1, 2, 0).numpy() * 255).astype('uint8')\n",
    "            frames.append(frame_aug)\n",
    "            extracted_count += 1\n",
    "        frame_count += 1\n",
    "    cap.release()\n",
    "    return frames\n",
    "\n",
    "# Example: Deeper model\n",
    "class DeepfakeDetectionModelV2(nn.Module):\n",
    "    def __init__(self, input_size, hidden_sizes=[1024, 512, 256, 128], dropout=0.4):\n",
    "        super().__init__()\n",
    "        layers = []\n",
    "        prev_size = input_size\n",
    "        for hidden_size in hidden_sizes:\n",
    "            layers.extend([\n",
    "                nn.Linear(prev_size, hidden_size),\n",
    "                nn.ReLU(),\n",
    "                nn.BatchNorm1d(hidden_size),\n",
    "                nn.Dropout(dropout)\n",
    "            ])\n",
    "            prev_size = hidden_size\n",
    "        layers.append(nn.Linear(prev_size, 2))\n",
    "        self.network = nn.Sequential(*layers)\n",
    "    def forward(self, x):\n",
    "        return self.network(x)\n",
    "\n",
    "print(\"Try these improvements and retrain your models for better accuracy.\")"
   ]
  },
  {
   "cell_type": "code",
   "execution_count": 56,
   "id": "8bf1249b",
   "metadata": {},
   "outputs": [
    {
     "name": "stdout",
     "output_type": "stream",
     "text": [
      "==================================================\n",
      "TRAINING DEEPER MODEL WITH COMBINED FEATURES\n",
      "==================================================\n"
     ]
    },
    {
     "data": {
      "application/vnd.jupyter.widget-view+json": {
       "model_id": "bb5cfb3f00714990afd6a06f02618ece",
       "version_major": 2,
       "version_minor": 0
      },
      "text/plain": [
       "Training:   0%|          | 0/18 [00:00<?, ?it/s]"
      ]
     },
     "metadata": {},
     "output_type": "display_data"
    },
    {
     "data": {
      "application/vnd.jupyter.widget-view+json": {
       "model_id": "c76d10eee2d844bd997a066b2a74e9ef",
       "version_major": 2,
       "version_minor": 0
      },
      "text/plain": [
       "Validating:   0%|          | 0/5 [00:00<?, ?it/s]"
      ]
     },
     "metadata": {},
     "output_type": "display_data"
    },
    {
     "name": "stdout",
     "output_type": "stream",
     "text": [
      "Epoch 0/30:\n",
      "  Train Loss: 0.8723, Train Acc: 47.92%\n",
      "  Val Loss: 0.7049, Val Acc: 58.33%\n"
     ]
    },
    {
     "data": {
      "application/vnd.jupyter.widget-view+json": {
       "model_id": "eea82baf66414440aaf2ba8571dcd7c3",
       "version_major": 2,
       "version_minor": 0
      },
      "text/plain": [
       "Training:   0%|          | 0/18 [00:00<?, ?it/s]"
      ]
     },
     "metadata": {},
     "output_type": "display_data"
    },
    {
     "data": {
      "application/vnd.jupyter.widget-view+json": {
       "model_id": "c4509a182bdf4f30beb1cdb2f2b98730",
       "version_major": 2,
       "version_minor": 0
      },
      "text/plain": [
       "Validating:   0%|          | 0/5 [00:00<?, ?it/s]"
      ]
     },
     "metadata": {},
     "output_type": "display_data"
    },
    {
     "data": {
      "application/vnd.jupyter.widget-view+json": {
       "model_id": "5d22efa32b4e46bca254a1ebe34c8390",
       "version_major": 2,
       "version_minor": 0
      },
      "text/plain": [
       "Training:   0%|          | 0/18 [00:00<?, ?it/s]"
      ]
     },
     "metadata": {},
     "output_type": "display_data"
    },
    {
     "data": {
      "application/vnd.jupyter.widget-view+json": {
       "model_id": "d5cb7cd4f2294cee8a5fbf5eb373b1d4",
       "version_major": 2,
       "version_minor": 0
      },
      "text/plain": [
       "Validating:   0%|          | 0/5 [00:00<?, ?it/s]"
      ]
     },
     "metadata": {},
     "output_type": "display_data"
    },
    {
     "data": {
      "application/vnd.jupyter.widget-view+json": {
       "model_id": "2b66970f4c174c6b93c7f6c57ab129b8",
       "version_major": 2,
       "version_minor": 0
      },
      "text/plain": [
       "Training:   0%|          | 0/18 [00:00<?, ?it/s]"
      ]
     },
     "metadata": {},
     "output_type": "display_data"
    },
    {
     "data": {
      "application/vnd.jupyter.widget-view+json": {
       "model_id": "9416662faa9c4d4f9b1cbfdf59fbacb0",
       "version_major": 2,
       "version_minor": 0
      },
      "text/plain": [
       "Validating:   0%|          | 0/5 [00:00<?, ?it/s]"
      ]
     },
     "metadata": {},
     "output_type": "display_data"
    },
    {
     "data": {
      "application/vnd.jupyter.widget-view+json": {
       "model_id": "faebac72d1bf4a5f91cbc02810e0418d",
       "version_major": 2,
       "version_minor": 0
      },
      "text/plain": [
       "Training:   0%|          | 0/18 [00:00<?, ?it/s]"
      ]
     },
     "metadata": {},
     "output_type": "display_data"
    },
    {
     "data": {
      "application/vnd.jupyter.widget-view+json": {
       "model_id": "7cbf820e769c408ba7f3b517dcd9355c",
       "version_major": 2,
       "version_minor": 0
      },
      "text/plain": [
       "Validating:   0%|          | 0/5 [00:00<?, ?it/s]"
      ]
     },
     "metadata": {},
     "output_type": "display_data"
    },
    {
     "data": {
      "application/vnd.jupyter.widget-view+json": {
       "model_id": "2089a784acac46d89adfc88ada4ec948",
       "version_major": 2,
       "version_minor": 0
      },
      "text/plain": [
       "Training:   0%|          | 0/18 [00:00<?, ?it/s]"
      ]
     },
     "metadata": {},
     "output_type": "display_data"
    },
    {
     "data": {
      "application/vnd.jupyter.widget-view+json": {
       "model_id": "719e321e81a8431eb37ae0503b359d0d",
       "version_major": 2,
       "version_minor": 0
      },
      "text/plain": [
       "Validating:   0%|          | 0/5 [00:00<?, ?it/s]"
      ]
     },
     "metadata": {},
     "output_type": "display_data"
    },
    {
     "name": "stdout",
     "output_type": "stream",
     "text": [
      "Epoch 5/30:\n",
      "  Train Loss: 0.7772, Train Acc: 48.26%\n",
      "  Val Loss: 0.6810, Val Acc: 61.11%\n"
     ]
    },
    {
     "data": {
      "application/vnd.jupyter.widget-view+json": {
       "model_id": "6c1967441313444682ba0975b730d32b",
       "version_major": 2,
       "version_minor": 0
      },
      "text/plain": [
       "Training:   0%|          | 0/18 [00:00<?, ?it/s]"
      ]
     },
     "metadata": {},
     "output_type": "display_data"
    },
    {
     "data": {
      "application/vnd.jupyter.widget-view+json": {
       "model_id": "8726f12856824ea591a89fac29b2533e",
       "version_major": 2,
       "version_minor": 0
      },
      "text/plain": [
       "Validating:   0%|          | 0/5 [00:00<?, ?it/s]"
      ]
     },
     "metadata": {},
     "output_type": "display_data"
    },
    {
     "data": {
      "application/vnd.jupyter.widget-view+json": {
       "model_id": "0da4093755854cdaa855e7fc57a51148",
       "version_major": 2,
       "version_minor": 0
      },
      "text/plain": [
       "Training:   0%|          | 0/18 [00:00<?, ?it/s]"
      ]
     },
     "metadata": {},
     "output_type": "display_data"
    },
    {
     "data": {
      "application/vnd.jupyter.widget-view+json": {
       "model_id": "0990372d5a654ec8856a12c721e4c7f3",
       "version_major": 2,
       "version_minor": 0
      },
      "text/plain": [
       "Validating:   0%|          | 0/5 [00:00<?, ?it/s]"
      ]
     },
     "metadata": {},
     "output_type": "display_data"
    },
    {
     "data": {
      "application/vnd.jupyter.widget-view+json": {
       "model_id": "dd90cd879b3341b6ad1e1c9a1e42bf16",
       "version_major": 2,
       "version_minor": 0
      },
      "text/plain": [
       "Training:   0%|          | 0/18 [00:00<?, ?it/s]"
      ]
     },
     "metadata": {},
     "output_type": "display_data"
    },
    {
     "data": {
      "application/vnd.jupyter.widget-view+json": {
       "model_id": "87059a2228eb4514b215eeefd7e2ab4c",
       "version_major": 2,
       "version_minor": 0
      },
      "text/plain": [
       "Validating:   0%|          | 0/5 [00:00<?, ?it/s]"
      ]
     },
     "metadata": {},
     "output_type": "display_data"
    },
    {
     "data": {
      "application/vnd.jupyter.widget-view+json": {
       "model_id": "2d04eddf870847a79a34aa1d7edcab5d",
       "version_major": 2,
       "version_minor": 0
      },
      "text/plain": [
       "Training:   0%|          | 0/18 [00:00<?, ?it/s]"
      ]
     },
     "metadata": {},
     "output_type": "display_data"
    },
    {
     "data": {
      "application/vnd.jupyter.widget-view+json": {
       "model_id": "286cf0b798e84045830df7facba8079a",
       "version_major": 2,
       "version_minor": 0
      },
      "text/plain": [
       "Validating:   0%|          | 0/5 [00:00<?, ?it/s]"
      ]
     },
     "metadata": {},
     "output_type": "display_data"
    },
    {
     "data": {
      "application/vnd.jupyter.widget-view+json": {
       "model_id": "ec9d479c404946af8690a6018faf797c",
       "version_major": 2,
       "version_minor": 0
      },
      "text/plain": [
       "Training:   0%|          | 0/18 [00:00<?, ?it/s]"
      ]
     },
     "metadata": {},
     "output_type": "display_data"
    },
    {
     "data": {
      "application/vnd.jupyter.widget-view+json": {
       "model_id": "e6d08656becd41d6b643c455a2239ea5",
       "version_major": 2,
       "version_minor": 0
      },
      "text/plain": [
       "Validating:   0%|          | 0/5 [00:00<?, ?it/s]"
      ]
     },
     "metadata": {},
     "output_type": "display_data"
    },
    {
     "name": "stdout",
     "output_type": "stream",
     "text": [
      "Epoch 10/30:\n",
      "  Train Loss: 0.7196, Train Acc: 53.47%\n",
      "  Val Loss: 0.6638, Val Acc: 58.33%\n"
     ]
    },
    {
     "data": {
      "application/vnd.jupyter.widget-view+json": {
       "model_id": "9ad17cae220e4478b4f923a0f704c85d",
       "version_major": 2,
       "version_minor": 0
      },
      "text/plain": [
       "Training:   0%|          | 0/18 [00:00<?, ?it/s]"
      ]
     },
     "metadata": {},
     "output_type": "display_data"
    },
    {
     "data": {
      "application/vnd.jupyter.widget-view+json": {
       "model_id": "09a470aebb0447858ab791135dc4811f",
       "version_major": 2,
       "version_minor": 0
      },
      "text/plain": [
       "Validating:   0%|          | 0/5 [00:00<?, ?it/s]"
      ]
     },
     "metadata": {},
     "output_type": "display_data"
    },
    {
     "data": {
      "application/vnd.jupyter.widget-view+json": {
       "model_id": "45246014bdd54e5b851e36ede928a93a",
       "version_major": 2,
       "version_minor": 0
      },
      "text/plain": [
       "Training:   0%|          | 0/18 [00:00<?, ?it/s]"
      ]
     },
     "metadata": {},
     "output_type": "display_data"
    },
    {
     "data": {
      "application/vnd.jupyter.widget-view+json": {
       "model_id": "dac776dfbb0444b98793682ad0b6b169",
       "version_major": 2,
       "version_minor": 0
      },
      "text/plain": [
       "Validating:   0%|          | 0/5 [00:00<?, ?it/s]"
      ]
     },
     "metadata": {},
     "output_type": "display_data"
    },
    {
     "data": {
      "application/vnd.jupyter.widget-view+json": {
       "model_id": "40cb90ddc180491680b1dcf590b26971",
       "version_major": 2,
       "version_minor": 0
      },
      "text/plain": [
       "Training:   0%|          | 0/18 [00:00<?, ?it/s]"
      ]
     },
     "metadata": {},
     "output_type": "display_data"
    },
    {
     "data": {
      "application/vnd.jupyter.widget-view+json": {
       "model_id": "49faf809c8bc46ee82efac3ac7d9a965",
       "version_major": 2,
       "version_minor": 0
      },
      "text/plain": [
       "Validating:   0%|          | 0/5 [00:00<?, ?it/s]"
      ]
     },
     "metadata": {},
     "output_type": "display_data"
    },
    {
     "data": {
      "application/vnd.jupyter.widget-view+json": {
       "model_id": "83245cfb01c445559682e6544cc4475a",
       "version_major": 2,
       "version_minor": 0
      },
      "text/plain": [
       "Training:   0%|          | 0/18 [00:00<?, ?it/s]"
      ]
     },
     "metadata": {},
     "output_type": "display_data"
    },
    {
     "data": {
      "application/vnd.jupyter.widget-view+json": {
       "model_id": "d38175b29ef24f83b01efcf5010876b3",
       "version_major": 2,
       "version_minor": 0
      },
      "text/plain": [
       "Validating:   0%|          | 0/5 [00:00<?, ?it/s]"
      ]
     },
     "metadata": {},
     "output_type": "display_data"
    },
    {
     "data": {
      "application/vnd.jupyter.widget-view+json": {
       "model_id": "71adbcfb4c9e431d84c8f6040ef00948",
       "version_major": 2,
       "version_minor": 0
      },
      "text/plain": [
       "Training:   0%|          | 0/18 [00:00<?, ?it/s]"
      ]
     },
     "metadata": {},
     "output_type": "display_data"
    },
    {
     "data": {
      "application/vnd.jupyter.widget-view+json": {
       "model_id": "9a25168f59b240a593c36dc422214542",
       "version_major": 2,
       "version_minor": 0
      },
      "text/plain": [
       "Validating:   0%|          | 0/5 [00:00<?, ?it/s]"
      ]
     },
     "metadata": {},
     "output_type": "display_data"
    },
    {
     "name": "stdout",
     "output_type": "stream",
     "text": [
      "Epoch 15/30:\n",
      "  Train Loss: 0.6967, Train Acc: 51.39%\n",
      "  Val Loss: 0.6969, Val Acc: 61.11%\n"
     ]
    },
    {
     "data": {
      "application/vnd.jupyter.widget-view+json": {
       "model_id": "bb88484fb87a429ca0913dcaf779b4d9",
       "version_major": 2,
       "version_minor": 0
      },
      "text/plain": [
       "Training:   0%|          | 0/18 [00:00<?, ?it/s]"
      ]
     },
     "metadata": {},
     "output_type": "display_data"
    },
    {
     "data": {
      "application/vnd.jupyter.widget-view+json": {
       "model_id": "1a79d0993f494864abcb377b77b193f9",
       "version_major": 2,
       "version_minor": 0
      },
      "text/plain": [
       "Validating:   0%|          | 0/5 [00:00<?, ?it/s]"
      ]
     },
     "metadata": {},
     "output_type": "display_data"
    },
    {
     "data": {
      "application/vnd.jupyter.widget-view+json": {
       "model_id": "9d87c2e2050f415496d6abdef168efe1",
       "version_major": 2,
       "version_minor": 0
      },
      "text/plain": [
       "Training:   0%|          | 0/18 [00:00<?, ?it/s]"
      ]
     },
     "metadata": {},
     "output_type": "display_data"
    },
    {
     "data": {
      "application/vnd.jupyter.widget-view+json": {
       "model_id": "795757a4e7d94df5ac47e5fcd343df32",
       "version_major": 2,
       "version_minor": 0
      },
      "text/plain": [
       "Validating:   0%|          | 0/5 [00:00<?, ?it/s]"
      ]
     },
     "metadata": {},
     "output_type": "display_data"
    },
    {
     "data": {
      "application/vnd.jupyter.widget-view+json": {
       "model_id": "27403741dcc44eb5addb4dc527ce78a3",
       "version_major": 2,
       "version_minor": 0
      },
      "text/plain": [
       "Training:   0%|          | 0/18 [00:00<?, ?it/s]"
      ]
     },
     "metadata": {},
     "output_type": "display_data"
    },
    {
     "data": {
      "application/vnd.jupyter.widget-view+json": {
       "model_id": "f54f0f4e36f64367b6bbb745486db8d2",
       "version_major": 2,
       "version_minor": 0
      },
      "text/plain": [
       "Validating:   0%|          | 0/5 [00:00<?, ?it/s]"
      ]
     },
     "metadata": {},
     "output_type": "display_data"
    },
    {
     "data": {
      "application/vnd.jupyter.widget-view+json": {
       "model_id": "6ff15cae29494130877c9d216b604d19",
       "version_major": 2,
       "version_minor": 0
      },
      "text/plain": [
       "Training:   0%|          | 0/18 [00:00<?, ?it/s]"
      ]
     },
     "metadata": {},
     "output_type": "display_data"
    },
    {
     "data": {
      "application/vnd.jupyter.widget-view+json": {
       "model_id": "b04e6280239b460f9dd50a7da204fdf8",
       "version_major": 2,
       "version_minor": 0
      },
      "text/plain": [
       "Validating:   0%|          | 0/5 [00:00<?, ?it/s]"
      ]
     },
     "metadata": {},
     "output_type": "display_data"
    },
    {
     "data": {
      "application/vnd.jupyter.widget-view+json": {
       "model_id": "e67642f173bb4719b53f9dbb052582b2",
       "version_major": 2,
       "version_minor": 0
      },
      "text/plain": [
       "Training:   0%|          | 0/18 [00:00<?, ?it/s]"
      ]
     },
     "metadata": {},
     "output_type": "display_data"
    },
    {
     "data": {
      "application/vnd.jupyter.widget-view+json": {
       "model_id": "0068cc5a5807436f936fff5e7b25b2ed",
       "version_major": 2,
       "version_minor": 0
      },
      "text/plain": [
       "Validating:   0%|          | 0/5 [00:00<?, ?it/s]"
      ]
     },
     "metadata": {},
     "output_type": "display_data"
    },
    {
     "name": "stdout",
     "output_type": "stream",
     "text": [
      "Epoch 20/30:\n",
      "  Train Loss: 0.6842, Train Acc: 57.64%\n",
      "  Val Loss: 0.6897, Val Acc: 59.72%\n"
     ]
    },
    {
     "data": {
      "application/vnd.jupyter.widget-view+json": {
       "model_id": "7717a9b03c6b45a88d72a3f21a119afa",
       "version_major": 2,
       "version_minor": 0
      },
      "text/plain": [
       "Training:   0%|          | 0/18 [00:00<?, ?it/s]"
      ]
     },
     "metadata": {},
     "output_type": "display_data"
    },
    {
     "data": {
      "application/vnd.jupyter.widget-view+json": {
       "model_id": "4650af4c41774c1aa4be03d566334d0f",
       "version_major": 2,
       "version_minor": 0
      },
      "text/plain": [
       "Validating:   0%|          | 0/5 [00:00<?, ?it/s]"
      ]
     },
     "metadata": {},
     "output_type": "display_data"
    },
    {
     "data": {
      "application/vnd.jupyter.widget-view+json": {
       "model_id": "c246a56789da4bd3822278dc801a04ce",
       "version_major": 2,
       "version_minor": 0
      },
      "text/plain": [
       "Training:   0%|          | 0/18 [00:00<?, ?it/s]"
      ]
     },
     "metadata": {},
     "output_type": "display_data"
    },
    {
     "data": {
      "application/vnd.jupyter.widget-view+json": {
       "model_id": "0d6ca90c685643aaaff35ae019af5eb5",
       "version_major": 2,
       "version_minor": 0
      },
      "text/plain": [
       "Validating:   0%|          | 0/5 [00:00<?, ?it/s]"
      ]
     },
     "metadata": {},
     "output_type": "display_data"
    },
    {
     "data": {
      "application/vnd.jupyter.widget-view+json": {
       "model_id": "f4e165bec7f14397891edbea63c257d0",
       "version_major": 2,
       "version_minor": 0
      },
      "text/plain": [
       "Training:   0%|          | 0/18 [00:00<?, ?it/s]"
      ]
     },
     "metadata": {},
     "output_type": "display_data"
    },
    {
     "data": {
      "application/vnd.jupyter.widget-view+json": {
       "model_id": "8d64c1e4eded4effaf28e20b5c73594e",
       "version_major": 2,
       "version_minor": 0
      },
      "text/plain": [
       "Validating:   0%|          | 0/5 [00:00<?, ?it/s]"
      ]
     },
     "metadata": {},
     "output_type": "display_data"
    },
    {
     "data": {
      "application/vnd.jupyter.widget-view+json": {
       "model_id": "86107c79858243e8a4635e07a625845c",
       "version_major": 2,
       "version_minor": 0
      },
      "text/plain": [
       "Training:   0%|          | 0/18 [00:00<?, ?it/s]"
      ]
     },
     "metadata": {},
     "output_type": "display_data"
    },
    {
     "data": {
      "application/vnd.jupyter.widget-view+json": {
       "model_id": "25c1f208c6004deeae7673302bfb9a1e",
       "version_major": 2,
       "version_minor": 0
      },
      "text/plain": [
       "Validating:   0%|          | 0/5 [00:00<?, ?it/s]"
      ]
     },
     "metadata": {},
     "output_type": "display_data"
    },
    {
     "data": {
      "application/vnd.jupyter.widget-view+json": {
       "model_id": "31ea97e8cf714c7cbee8013c0395d02c",
       "version_major": 2,
       "version_minor": 0
      },
      "text/plain": [
       "Training:   0%|          | 0/18 [00:00<?, ?it/s]"
      ]
     },
     "metadata": {},
     "output_type": "display_data"
    },
    {
     "data": {
      "application/vnd.jupyter.widget-view+json": {
       "model_id": "1f2826d7f29c40308b76d73188c6fbdc",
       "version_major": 2,
       "version_minor": 0
      },
      "text/plain": [
       "Validating:   0%|          | 0/5 [00:00<?, ?it/s]"
      ]
     },
     "metadata": {},
     "output_type": "display_data"
    },
    {
     "name": "stdout",
     "output_type": "stream",
     "text": [
      "Epoch 25/30:\n",
      "  Train Loss: 0.6944, Train Acc: 53.47%\n",
      "  Val Loss: 0.6794, Val Acc: 63.89%\n"
     ]
    },
    {
     "data": {
      "application/vnd.jupyter.widget-view+json": {
       "model_id": "1a65c15a86c44423b4396f7e9ea376d3",
       "version_major": 2,
       "version_minor": 0
      },
      "text/plain": [
       "Training:   0%|          | 0/18 [00:00<?, ?it/s]"
      ]
     },
     "metadata": {},
     "output_type": "display_data"
    },
    {
     "data": {
      "application/vnd.jupyter.widget-view+json": {
       "model_id": "677b6330929848be9b5fa356f9dca044",
       "version_major": 2,
       "version_minor": 0
      },
      "text/plain": [
       "Validating:   0%|          | 0/5 [00:00<?, ?it/s]"
      ]
     },
     "metadata": {},
     "output_type": "display_data"
    },
    {
     "data": {
      "application/vnd.jupyter.widget-view+json": {
       "model_id": "88f95e6c23d145c7bea6fc4c46ba54da",
       "version_major": 2,
       "version_minor": 0
      },
      "text/plain": [
       "Training:   0%|          | 0/18 [00:00<?, ?it/s]"
      ]
     },
     "metadata": {},
     "output_type": "display_data"
    },
    {
     "data": {
      "application/vnd.jupyter.widget-view+json": {
       "model_id": "3f2ba0c04d444d7a80e3efccff963d7a",
       "version_major": 2,
       "version_minor": 0
      },
      "text/plain": [
       "Validating:   0%|          | 0/5 [00:00<?, ?it/s]"
      ]
     },
     "metadata": {},
     "output_type": "display_data"
    },
    {
     "data": {
      "application/vnd.jupyter.widget-view+json": {
       "model_id": "3a4ef311c8f94c1d8975ecaf75594449",
       "version_major": 2,
       "version_minor": 0
      },
      "text/plain": [
       "Training:   0%|          | 0/18 [00:00<?, ?it/s]"
      ]
     },
     "metadata": {},
     "output_type": "display_data"
    },
    {
     "data": {
      "application/vnd.jupyter.widget-view+json": {
       "model_id": "81e93aa717c542008f8e4f239d87e107",
       "version_major": 2,
       "version_minor": 0
      },
      "text/plain": [
       "Validating:   0%|          | 0/5 [00:00<?, ?it/s]"
      ]
     },
     "metadata": {},
     "output_type": "display_data"
    },
    {
     "data": {
      "application/vnd.jupyter.widget-view+json": {
       "model_id": "23299bf1436c42d2a6b06edef6fc03ac",
       "version_major": 2,
       "version_minor": 0
      },
      "text/plain": [
       "Training:   0%|          | 0/18 [00:00<?, ?it/s]"
      ]
     },
     "metadata": {},
     "output_type": "display_data"
    },
    {
     "data": {
      "application/vnd.jupyter.widget-view+json": {
       "model_id": "1866b68639844b1d80f46d7f055d0d70",
       "version_major": 2,
       "version_minor": 0
      },
      "text/plain": [
       "Validating:   0%|          | 0/5 [00:00<?, ?it/s]"
      ]
     },
     "metadata": {},
     "output_type": "display_data"
    },
    {
     "name": "stdout",
     "output_type": "stream",
     "text": [
      "Best validation accuracy (deeper combined): 69.44%\n"
     ]
    },
    {
     "data": {
      "application/vnd.jupyter.widget-view+json": {
       "model_id": "292760f2ef274b818ec7f335bac275e0",
       "version_major": 2,
       "version_minor": 0
      },
      "text/plain": [
       "Testing:   0%|          | 0/3 [00:00<?, ?it/s]"
      ]
     },
     "metadata": {},
     "output_type": "display_data"
    },
    {
     "name": "stdout",
     "output_type": "stream",
     "text": [
      "\n",
      "Deeper Combined Features Model Test Results:\n",
      "Accuracy: 0.4750\n",
      "Precision: 0.4762\n",
      "Recall: 0.5000\n",
      "F1-Score: 0.4878\n"
     ]
    }
   ],
   "source": [
    "# Test the deeper model (DeepfakeDetectionModelV2) on the combined features test set\n",
    "\n",
    "# Instantiate the deeper model with the same input size as the combined features\n",
    "input_size_combined = train_combined_dataset[0][0].shape[0]\n",
    "deeper_model = DeepfakeDetectionModelV2(input_size_combined).to(DEVICE)\n",
    "\n",
    "# Load the best weights if you have saved them, otherwise train from scratch\n",
    "# Example: deeper_model.load_state_dict(torch.load(f'{OUTPUT_DIR}/best_deeper_combined_model.pth'))\n",
    "\n",
    "# Define loss and optimizer\n",
    "criterion_deeper = nn.CrossEntropyLoss()\n",
    "optimizer_deeper = optim.Adam(deeper_model.parameters(), lr=0.001, weight_decay=1e-5)\n",
    "scheduler_deeper = optim.lr_scheduler.StepLR(optimizer_deeper, step_size=10, gamma=0.5)\n",
    "\n",
    "# Training loop for deeper model\n",
    "epochs = 30\n",
    "train_losses_deeper = []\n",
    "val_losses_deeper = []\n",
    "train_accuracies_deeper = []\n",
    "val_accuracies_deeper = []\n",
    "best_val_acc_deeper = 0\n",
    "\n",
    "print(\"=\" * 50)\n",
    "print(\"TRAINING DEEPER MODEL WITH COMBINED FEATURES\")\n",
    "print(\"=\" * 50)\n",
    "\n",
    "for epoch in range(epochs):\n",
    "    train_loss, train_acc = train_epoch(deeper_model, train_combined_loader, criterion_deeper, optimizer_deeper, DEVICE)\n",
    "    val_loss, val_acc = validate_epoch(deeper_model, val_combined_loader, criterion_deeper, DEVICE)\n",
    "    \n",
    "    train_losses_deeper.append(train_loss)\n",
    "    val_losses_deeper.append(val_loss)\n",
    "    train_accuracies_deeper.append(train_acc)\n",
    "    val_accuracies_deeper.append(val_acc)\n",
    "    \n",
    "    scheduler_deeper.step()\n",
    "    \n",
    "    if val_acc > best_val_acc_deeper:\n",
    "        best_val_acc_deeper = val_acc\n",
    "        torch.save(deeper_model.state_dict(), f'{OUTPUT_DIR}/best_deeper_combined_model.pth')\n",
    "    \n",
    "    if epoch % 5 == 0:\n",
    "        print(f'Epoch {epoch}/{epochs}:')\n",
    "        print(f'  Train Loss: {train_loss:.4f}, Train Acc: {train_acc:.2f}%')\n",
    "        print(f'  Val Loss: {val_loss:.4f}, Val Acc: {val_acc:.2f}%')\n",
    "\n",
    "print(f'Best validation accuracy (deeper combined): {best_val_acc_deeper:.2f}%')\n",
    "\n",
    "# Test the deeper model\n",
    "accuracy_deeper, precision_deeper, recall_deeper, f1_deeper, true_labels_deeper, predictions_deeper = test_model(\n",
    "    deeper_model, test_combined_loader, DEVICE\n",
    ")\n",
    "\n",
    "print(f\"\\nDeeper Combined Features Model Test Results:\")\n",
    "print(f\"Accuracy: {accuracy_deeper:.4f}\")\n",
    "print(f\"Precision: {precision_deeper:.4f}\")\n",
    "print(f\"Recall: {recall_deeper:.4f}\")\n",
    "print(f\"F1-Score: {f1_deeper:.4f}\")\n",
    "\n",
    "# Store results\n",
    "deeper_combined_results = {\n",
    "    'accuracy': accuracy_deeper,\n",
    "    'precision': precision_deeper,\n",
    "    'recall': recall_deeper,\n",
    "    'f1': f1_deeper,\n",
    "    'train_losses': train_losses_deeper,\n",
    "    'val_losses': val_losses_deeper,\n",
    "    'train_accuracies': train_accuracies_deeper,\n",
    "    'val_accuracies': val_accuracies_deeper\n",
    "}"
   ]
  },
  {
   "cell_type": "code",
   "execution_count": 59,
   "id": "76862c44",
   "metadata": {},
   "outputs": [
    {
     "name": "stdout",
     "output_type": "stream",
     "text": [
      "Predictions for new video:\n",
      "  Frame Features Model: Fake\n",
      "  Temporal Features Model: Real\n",
      "  Combined Features Model: Fake\n"
     ]
    }
   ],
   "source": [
    "# Path to your new local video (update this path as needed)\n",
    "new_video_path = r'deepfake_dataset\\train\\real\\01__outside_talking_still_laughing.mp4'  # Change to your actual video path\n",
    "\n",
    "# Extract frames from the new video\n",
    "frames = extract_frames_from_video(new_video_path)\n",
    "if not frames:\n",
    "    print(\"No frames extracted from the video.\")\n",
    "else:\n",
    "    # Extract frame-level features\n",
    "    frame_features = []\n",
    "    for frame in frames:\n",
    "        frame_feat = list(calculate_frame_features(frame).values())\n",
    "        frame_features.extend(frame_feat)\n",
    "    \n",
    "    # Pad/truncate for frame model\n",
    "    frame_input = frame_features[:300] if len(frame_features) >= 300 else frame_features + [0] * (300 - len(frame_features))\n",
    "    frame_input_tensor = torch.FloatTensor(frame_input).unsqueeze(0).to(DEVICE)\n",
    "    \n",
    "    # Extract temporal features\n",
    "    all_facial_landmarks = []\n",
    "    all_pose_landmarks = []\n",
    "    all_frame_features = []\n",
    "    for frame in frames:\n",
    "        landmarks = extract_facial_landmarks(frame, preprocessor)\n",
    "        pose = extract_pose_landmarks(frame, preprocessor)\n",
    "        all_frame_features.append(calculate_frame_features(frame))\n",
    "        if landmarks.get('mediapipe') is not None:\n",
    "            all_facial_landmarks.append(landmarks['mediapipe'])\n",
    "        if pose is not None:\n",
    "            all_pose_landmarks.append(pose)\n",
    "    temporal_features = calculate_temporal_features(all_facial_landmarks, all_pose_landmarks, all_frame_features)\n",
    "    temporal_feat_list = list(temporal_features.values())\n",
    "    temporal_feat_list = [f if not np.isnan(f) else 0 for f in temporal_feat_list]\n",
    "    temporal_input = temporal_feat_list[:50] if len(temporal_feat_list) >= 50 else temporal_feat_list + [0] * (50 - len(temporal_feat_list))\n",
    "    temporal_input_tensor = torch.FloatTensor(temporal_input).unsqueeze(0).to(DEVICE)\n",
    "    \n",
    "    # Combined features\n",
    "    combined_input = frame_input + temporal_input\n",
    "    combined_input = combined_input[:350] if len(combined_input) >= 350 else combined_input + [0] * (350 - len(combined_input))\n",
    "    combined_input_tensor = torch.FloatTensor(combined_input).unsqueeze(0).to(DEVICE)\n",
    "    \n",
    "    # Set models to eval mode\n",
    "    model_frame.eval()\n",
    "    model_temporal.eval()\n",
    "    model_combined.eval()\n",
    "    \n",
    "    with torch.no_grad():\n",
    "        out_frame = model_frame(frame_input_tensor)\n",
    "        pred_frame = torch.argmax(out_frame, dim=1).item()\n",
    "        \n",
    "        out_temporal = model_temporal(temporal_input_tensor)\n",
    "        pred_temporal = torch.argmax(out_temporal, dim=1).item()\n",
    "        \n",
    "        out_combined = model_combined(combined_input_tensor)\n",
    "        pred_combined = torch.argmax(out_combined, dim=1).item()\n",
    "    \n",
    "    label_map = {0: 'Real', 1: 'Fake'}\n",
    "    print(\"Predictions for new video:\")\n",
    "    print(f\"  Frame Features Model: {label_map[pred_frame]}\")\n",
    "    print(f\"  Temporal Features Model: {label_map[pred_temporal]}\")\n",
    "    print(f\"  Combined Features Model: {label_map[pred_combined]}\")"
   ]
  },
  {
   "cell_type": "code",
   "execution_count": null,
   "id": "208558cd",
   "metadata": {},
   "outputs": [],
   "source": []
  }
 ],
 "metadata": {
  "kernelspec": {
   "display_name": "new",
   "language": "python",
   "name": "python3"
  },
  "language_info": {
   "codemirror_mode": {
    "name": "ipython",
    "version": 3
   },
   "file_extension": ".py",
   "mimetype": "text/x-python",
   "name": "python",
   "nbconvert_exporter": "python",
   "pygments_lexer": "ipython3",
   "version": "3.11.0"
  }
 },
 "nbformat": 4,
 "nbformat_minor": 5
}
